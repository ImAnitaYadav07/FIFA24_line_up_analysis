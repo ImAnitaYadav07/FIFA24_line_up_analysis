{
  "nbformat": 4,
  "nbformat_minor": 0,
  "metadata": {
    "colab": {
      "provenance": []
    },
    "kernelspec": {
      "name": "python3",
      "display_name": "Python 3"
    },
    "language_info": {
      "name": "python"
    }
  },
  "cells": [
    {
      "cell_type": "markdown",
      "source": [
        "# **FIFA 2023:Data-Driven Approach to Optimal Line-Up**"
      ],
      "metadata": {
        "id": "KCQYuN_UCwwZ"
      }
    },
    {
      "cell_type": "code",
      "execution_count": 7,
      "metadata": {
        "id": "pRgiIYncWSsd"
      },
      "outputs": [],
      "source": [
        "# !pip install chart-studio"
      ]
    },
    {
      "cell_type": "code",
      "source": [
        "!pip install --upgrade plotly"
      ],
      "metadata": {
        "colab": {
          "base_uri": "https://localhost:8080/"
        },
        "id": "NuIT3qvZHM8O",
        "outputId": "a14401b7-3d4a-43a6-e584-e78dbe8ce173"
      },
      "execution_count": 82,
      "outputs": [
        {
          "output_type": "stream",
          "name": "stdout",
          "text": [
            "Requirement already satisfied: plotly in /usr/local/lib/python3.10/dist-packages (5.17.0)\n",
            "Requirement already satisfied: tenacity>=6.2.0 in /usr/local/lib/python3.10/dist-packages (from plotly) (8.2.3)\n",
            "Requirement already satisfied: packaging in /usr/local/lib/python3.10/dist-packages (from plotly) (23.2)\n"
          ]
        }
      ]
    },
    {
      "cell_type": "markdown",
      "source": [
        "### Import Libraries"
      ],
      "metadata": {
        "id": "CalUpJGeDk4Q"
      }
    },
    {
      "cell_type": "code",
      "source": [
        "import numpy as np # linear algebra\n",
        "import pandas as pd # data processing, CSV file I/O (e.g. pd.read_csv)\n",
        "\n",
        "import seaborn as sb\n",
        "import matplotlib.pyplot as plt\n",
        "%matplotlib inline\n",
        "\n",
        "from plotly.offline import iplot, init_notebook_mode\n",
        "from geopy.geocoders import Nominatim\n",
        "from chart_studio import plotly as py"
      ],
      "metadata": {
        "id": "JSMeMx2nXFPk"
      },
      "execution_count": 83,
      "outputs": []
    },
    {
      "cell_type": "code",
      "source": [
        "import os\n",
        "for dirname, _, filenames in os.walk('/kaggle/input'):\n",
        "    for filename in filenames:\n",
        "        print(os.path.join(dirname, filename))"
      ],
      "metadata": {
        "id": "zQh6km6GXKMF"
      },
      "execution_count": 10,
      "outputs": []
    },
    {
      "cell_type": "code",
      "source": [
        "# Uploding the data\n",
        "\n",
        "data = pd.read_csv('/content/male_players.csv')"
      ],
      "metadata": {
        "id": "4FlWuavxXlHk"
      },
      "execution_count": 11,
      "outputs": []
    },
    {
      "cell_type": "markdown",
      "source": [
        "## Data Cleaning"
      ],
      "metadata": {
        "id": "6R-YO5ZyD91d"
      }
    },
    {
      "cell_type": "code",
      "source": [
        "data.shape"
      ],
      "metadata": {
        "colab": {
          "base_uri": "https://localhost:8080/"
        },
        "id": "EfbD1acrXvOv",
        "outputId": "37a349f4-f875-42e0-b408-1b921d3685d8"
      },
      "execution_count": 12,
      "outputs": [
        {
          "output_type": "execute_result",
          "data": {
            "text/plain": [
              "(8334, 109)"
            ]
          },
          "metadata": {},
          "execution_count": 12
        }
      ]
    },
    {
      "cell_type": "code",
      "source": [
        "data.dtypes\n"
      ],
      "metadata": {
        "colab": {
          "base_uri": "https://localhost:8080/"
        },
        "id": "1fJU_lPrjnVF",
        "outputId": "bb2b1d89-7579-4d75-9688-c2a7f3d7af6e"
      },
      "execution_count": 13,
      "outputs": [
        {
          "output_type": "execute_result",
          "data": {
            "text/plain": [
              "player_id         int64\n",
              "player_url       object\n",
              "fifa_version    float64\n",
              "fifa_update     float64\n",
              "update_as_of     object\n",
              "                 ...   \n",
              "lcb              object\n",
              "cb               object\n",
              "rcb              object\n",
              "rb               object\n",
              "gk               object\n",
              "Length: 109, dtype: object"
            ]
          },
          "metadata": {},
          "execution_count": 13
        }
      ]
    },
    {
      "cell_type": "code",
      "source": [
        "# split the player position into two column\n",
        "\n",
        "data[['position', 'best position']] = data['player_positions'].str.split(', ', n=1, expand=True)\n",
        "data['best position'].fillna(data['position'], inplace=True)"
      ],
      "metadata": {
        "id": "BsnfYZqO3ZOB"
      },
      "execution_count": 14,
      "outputs": []
    },
    {
      "cell_type": "code",
      "source": [
        "data"
      ],
      "metadata": {
        "colab": {
          "base_uri": "https://localhost:8080/",
          "height": 704
        },
        "id": "ZSmZkokQ3vwT",
        "outputId": "f4714083-9bd8-4e39-c076-c5ec01f24d2c"
      },
      "execution_count": 15,
      "outputs": [
        {
          "output_type": "execute_result",
          "data": {
            "text/plain": [
              "      player_id                                         player_url  \\\n",
              "0             2  https://sofifa.com/player/2/giovanni-pasquale/...   \n",
              "1            11  https://sofifa.com/player/11/romain-rocchi/150002   \n",
              "2            27       https://sofifa.com/player/27/joe-cole/150002   \n",
              "3            28  https://sofifa.com/player/28/manuel-herrera-ya...   \n",
              "4            41  https://sofifa.com/player/41/andres-iniesta-lu...   \n",
              "...         ...                                                ...   \n",
              "8329     201927  https://sofifa.com/player/201927/callum-harrio...   \n",
              "8330     201931  https://sofifa.com/player/201931/gabriel-vasco...   \n",
              "8331     201936  https://sofifa.com/player/201936/jin-hyeon-kim...   \n",
              "8332     201937  https://sofifa.com/player/201937/sven-dhoest/1...   \n",
              "8333     201939  https://sofifa.com/player/201939/cristiano-pic...   \n",
              "\n",
              "      fifa_version  fifa_update update_as_of     short_name  \\\n",
              "0             15.0          2.0   2014-09-18    G. Pasquale   \n",
              "1             15.0          2.0   2014-09-18      R. Rocchi   \n",
              "2             15.0          2.0   2014-09-18        J. Cole   \n",
              "3             15.0          2.0   2014-09-18   Manu Herrera   \n",
              "4             15.0          2.0   2014-09-18        Iniesta   \n",
              "...            ...          ...          ...            ...   \n",
              "8329          15.0          2.0   2014-09-18    C. Harriott   \n",
              "8330          15.0          2.0   2014-09-18        Gabriel   \n",
              "8331          15.0          2.0   2014-09-18  Kim Jin Hyeon   \n",
              "8332          15.0          2.0   2014-09-18      S. Dhoest   \n",
              "8333          15.0          2.0   2014-09-18     C. Piccini   \n",
              "\n",
              "                        long_name player_positions  overall  potential  ...  \\\n",
              "0               Giovanni Pasquale               LM       68         68  ...   \n",
              "1                   Romain Rocchi          CM, CDM       68         68  ...   \n",
              "2                        Joe Cole          RM, CAM       74         74  ...   \n",
              "3            Manuel Herrera Yagüe               GK       76         76  ...   \n",
              "4            Andrés Iniesta Luján           CM, LW       89         89  ...   \n",
              "...                           ...              ...      ...        ...  ...   \n",
              "8329         Callum Kyle Harriott               LM       60         72  ...   \n",
              "8330  Gabriel Vasconelos Ferreira               GK       71         78  ...   \n",
              "8331                      김진현 金镇铉               GK       67         72  ...   \n",
              "8332                  Sven Dhoest               GK       62         74  ...   \n",
              "8333            Cristiano Piccini           RB, RM       62         74  ...   \n",
              "\n",
              "       rdm   rwb    lb   lcb    cb   rcb    rb    gk  position best position  \n",
              "0     69-1  71-3  72-4  70-2  70-2  70-2  72-4    13        LM            LM  \n",
              "1       65    62    60    62    62    62    60    12        CM           CDM  \n",
              "2       59    56    50    48    48    48    50    12        RM           CAM  \n",
              "3       32    31    31    34    34    34    31    76        GK            GK  \n",
              "4     77+3  76+3  70+3  63+3  63+3  63+3  70+3  14+3        CM            LW  \n",
              "...    ...   ...   ...   ...   ...   ...   ...   ...       ...           ...  \n",
              "8329    43    45    40    37    37    37    40    14        LM            LM  \n",
              "8330    30    29    28    32    32    32    28    71        GK            GK  \n",
              "8331    28    31    30    29    29    29    30    67        GK            GK  \n",
              "8332    33    30    29    32    32    32    29    62        GK            GK  \n",
              "8333    57    62    62    62    62   NaN   NaN   NaN        RB            RM  \n",
              "\n",
              "[8334 rows x 111 columns]"
            ],
            "text/html": [
              "\n",
              "  <div id=\"df-63a1caab-5cb5-481d-9d56-8c90dad14bf2\" class=\"colab-df-container\">\n",
              "    <div>\n",
              "<style scoped>\n",
              "    .dataframe tbody tr th:only-of-type {\n",
              "        vertical-align: middle;\n",
              "    }\n",
              "\n",
              "    .dataframe tbody tr th {\n",
              "        vertical-align: top;\n",
              "    }\n",
              "\n",
              "    .dataframe thead th {\n",
              "        text-align: right;\n",
              "    }\n",
              "</style>\n",
              "<table border=\"1\" class=\"dataframe\">\n",
              "  <thead>\n",
              "    <tr style=\"text-align: right;\">\n",
              "      <th></th>\n",
              "      <th>player_id</th>\n",
              "      <th>player_url</th>\n",
              "      <th>fifa_version</th>\n",
              "      <th>fifa_update</th>\n",
              "      <th>update_as_of</th>\n",
              "      <th>short_name</th>\n",
              "      <th>long_name</th>\n",
              "      <th>player_positions</th>\n",
              "      <th>overall</th>\n",
              "      <th>potential</th>\n",
              "      <th>...</th>\n",
              "      <th>rdm</th>\n",
              "      <th>rwb</th>\n",
              "      <th>lb</th>\n",
              "      <th>lcb</th>\n",
              "      <th>cb</th>\n",
              "      <th>rcb</th>\n",
              "      <th>rb</th>\n",
              "      <th>gk</th>\n",
              "      <th>position</th>\n",
              "      <th>best position</th>\n",
              "    </tr>\n",
              "  </thead>\n",
              "  <tbody>\n",
              "    <tr>\n",
              "      <th>0</th>\n",
              "      <td>2</td>\n",
              "      <td>https://sofifa.com/player/2/giovanni-pasquale/...</td>\n",
              "      <td>15.0</td>\n",
              "      <td>2.0</td>\n",
              "      <td>2014-09-18</td>\n",
              "      <td>G. Pasquale</td>\n",
              "      <td>Giovanni Pasquale</td>\n",
              "      <td>LM</td>\n",
              "      <td>68</td>\n",
              "      <td>68</td>\n",
              "      <td>...</td>\n",
              "      <td>69-1</td>\n",
              "      <td>71-3</td>\n",
              "      <td>72-4</td>\n",
              "      <td>70-2</td>\n",
              "      <td>70-2</td>\n",
              "      <td>70-2</td>\n",
              "      <td>72-4</td>\n",
              "      <td>13</td>\n",
              "      <td>LM</td>\n",
              "      <td>LM</td>\n",
              "    </tr>\n",
              "    <tr>\n",
              "      <th>1</th>\n",
              "      <td>11</td>\n",
              "      <td>https://sofifa.com/player/11/romain-rocchi/150002</td>\n",
              "      <td>15.0</td>\n",
              "      <td>2.0</td>\n",
              "      <td>2014-09-18</td>\n",
              "      <td>R. Rocchi</td>\n",
              "      <td>Romain Rocchi</td>\n",
              "      <td>CM, CDM</td>\n",
              "      <td>68</td>\n",
              "      <td>68</td>\n",
              "      <td>...</td>\n",
              "      <td>65</td>\n",
              "      <td>62</td>\n",
              "      <td>60</td>\n",
              "      <td>62</td>\n",
              "      <td>62</td>\n",
              "      <td>62</td>\n",
              "      <td>60</td>\n",
              "      <td>12</td>\n",
              "      <td>CM</td>\n",
              "      <td>CDM</td>\n",
              "    </tr>\n",
              "    <tr>\n",
              "      <th>2</th>\n",
              "      <td>27</td>\n",
              "      <td>https://sofifa.com/player/27/joe-cole/150002</td>\n",
              "      <td>15.0</td>\n",
              "      <td>2.0</td>\n",
              "      <td>2014-09-18</td>\n",
              "      <td>J. Cole</td>\n",
              "      <td>Joe Cole</td>\n",
              "      <td>RM, CAM</td>\n",
              "      <td>74</td>\n",
              "      <td>74</td>\n",
              "      <td>...</td>\n",
              "      <td>59</td>\n",
              "      <td>56</td>\n",
              "      <td>50</td>\n",
              "      <td>48</td>\n",
              "      <td>48</td>\n",
              "      <td>48</td>\n",
              "      <td>50</td>\n",
              "      <td>12</td>\n",
              "      <td>RM</td>\n",
              "      <td>CAM</td>\n",
              "    </tr>\n",
              "    <tr>\n",
              "      <th>3</th>\n",
              "      <td>28</td>\n",
              "      <td>https://sofifa.com/player/28/manuel-herrera-ya...</td>\n",
              "      <td>15.0</td>\n",
              "      <td>2.0</td>\n",
              "      <td>2014-09-18</td>\n",
              "      <td>Manu Herrera</td>\n",
              "      <td>Manuel Herrera Yagüe</td>\n",
              "      <td>GK</td>\n",
              "      <td>76</td>\n",
              "      <td>76</td>\n",
              "      <td>...</td>\n",
              "      <td>32</td>\n",
              "      <td>31</td>\n",
              "      <td>31</td>\n",
              "      <td>34</td>\n",
              "      <td>34</td>\n",
              "      <td>34</td>\n",
              "      <td>31</td>\n",
              "      <td>76</td>\n",
              "      <td>GK</td>\n",
              "      <td>GK</td>\n",
              "    </tr>\n",
              "    <tr>\n",
              "      <th>4</th>\n",
              "      <td>41</td>\n",
              "      <td>https://sofifa.com/player/41/andres-iniesta-lu...</td>\n",
              "      <td>15.0</td>\n",
              "      <td>2.0</td>\n",
              "      <td>2014-09-18</td>\n",
              "      <td>Iniesta</td>\n",
              "      <td>Andrés Iniesta Luján</td>\n",
              "      <td>CM, LW</td>\n",
              "      <td>89</td>\n",
              "      <td>89</td>\n",
              "      <td>...</td>\n",
              "      <td>77+3</td>\n",
              "      <td>76+3</td>\n",
              "      <td>70+3</td>\n",
              "      <td>63+3</td>\n",
              "      <td>63+3</td>\n",
              "      <td>63+3</td>\n",
              "      <td>70+3</td>\n",
              "      <td>14+3</td>\n",
              "      <td>CM</td>\n",
              "      <td>LW</td>\n",
              "    </tr>\n",
              "    <tr>\n",
              "      <th>...</th>\n",
              "      <td>...</td>\n",
              "      <td>...</td>\n",
              "      <td>...</td>\n",
              "      <td>...</td>\n",
              "      <td>...</td>\n",
              "      <td>...</td>\n",
              "      <td>...</td>\n",
              "      <td>...</td>\n",
              "      <td>...</td>\n",
              "      <td>...</td>\n",
              "      <td>...</td>\n",
              "      <td>...</td>\n",
              "      <td>...</td>\n",
              "      <td>...</td>\n",
              "      <td>...</td>\n",
              "      <td>...</td>\n",
              "      <td>...</td>\n",
              "      <td>...</td>\n",
              "      <td>...</td>\n",
              "      <td>...</td>\n",
              "      <td>...</td>\n",
              "    </tr>\n",
              "    <tr>\n",
              "      <th>8329</th>\n",
              "      <td>201927</td>\n",
              "      <td>https://sofifa.com/player/201927/callum-harrio...</td>\n",
              "      <td>15.0</td>\n",
              "      <td>2.0</td>\n",
              "      <td>2014-09-18</td>\n",
              "      <td>C. Harriott</td>\n",
              "      <td>Callum Kyle Harriott</td>\n",
              "      <td>LM</td>\n",
              "      <td>60</td>\n",
              "      <td>72</td>\n",
              "      <td>...</td>\n",
              "      <td>43</td>\n",
              "      <td>45</td>\n",
              "      <td>40</td>\n",
              "      <td>37</td>\n",
              "      <td>37</td>\n",
              "      <td>37</td>\n",
              "      <td>40</td>\n",
              "      <td>14</td>\n",
              "      <td>LM</td>\n",
              "      <td>LM</td>\n",
              "    </tr>\n",
              "    <tr>\n",
              "      <th>8330</th>\n",
              "      <td>201931</td>\n",
              "      <td>https://sofifa.com/player/201931/gabriel-vasco...</td>\n",
              "      <td>15.0</td>\n",
              "      <td>2.0</td>\n",
              "      <td>2014-09-18</td>\n",
              "      <td>Gabriel</td>\n",
              "      <td>Gabriel Vasconelos Ferreira</td>\n",
              "      <td>GK</td>\n",
              "      <td>71</td>\n",
              "      <td>78</td>\n",
              "      <td>...</td>\n",
              "      <td>30</td>\n",
              "      <td>29</td>\n",
              "      <td>28</td>\n",
              "      <td>32</td>\n",
              "      <td>32</td>\n",
              "      <td>32</td>\n",
              "      <td>28</td>\n",
              "      <td>71</td>\n",
              "      <td>GK</td>\n",
              "      <td>GK</td>\n",
              "    </tr>\n",
              "    <tr>\n",
              "      <th>8331</th>\n",
              "      <td>201936</td>\n",
              "      <td>https://sofifa.com/player/201936/jin-hyeon-kim...</td>\n",
              "      <td>15.0</td>\n",
              "      <td>2.0</td>\n",
              "      <td>2014-09-18</td>\n",
              "      <td>Kim Jin Hyeon</td>\n",
              "      <td>김진현 金镇铉</td>\n",
              "      <td>GK</td>\n",
              "      <td>67</td>\n",
              "      <td>72</td>\n",
              "      <td>...</td>\n",
              "      <td>28</td>\n",
              "      <td>31</td>\n",
              "      <td>30</td>\n",
              "      <td>29</td>\n",
              "      <td>29</td>\n",
              "      <td>29</td>\n",
              "      <td>30</td>\n",
              "      <td>67</td>\n",
              "      <td>GK</td>\n",
              "      <td>GK</td>\n",
              "    </tr>\n",
              "    <tr>\n",
              "      <th>8332</th>\n",
              "      <td>201937</td>\n",
              "      <td>https://sofifa.com/player/201937/sven-dhoest/1...</td>\n",
              "      <td>15.0</td>\n",
              "      <td>2.0</td>\n",
              "      <td>2014-09-18</td>\n",
              "      <td>S. Dhoest</td>\n",
              "      <td>Sven Dhoest</td>\n",
              "      <td>GK</td>\n",
              "      <td>62</td>\n",
              "      <td>74</td>\n",
              "      <td>...</td>\n",
              "      <td>33</td>\n",
              "      <td>30</td>\n",
              "      <td>29</td>\n",
              "      <td>32</td>\n",
              "      <td>32</td>\n",
              "      <td>32</td>\n",
              "      <td>29</td>\n",
              "      <td>62</td>\n",
              "      <td>GK</td>\n",
              "      <td>GK</td>\n",
              "    </tr>\n",
              "    <tr>\n",
              "      <th>8333</th>\n",
              "      <td>201939</td>\n",
              "      <td>https://sofifa.com/player/201939/cristiano-pic...</td>\n",
              "      <td>15.0</td>\n",
              "      <td>2.0</td>\n",
              "      <td>2014-09-18</td>\n",
              "      <td>C. Piccini</td>\n",
              "      <td>Cristiano Piccini</td>\n",
              "      <td>RB, RM</td>\n",
              "      <td>62</td>\n",
              "      <td>74</td>\n",
              "      <td>...</td>\n",
              "      <td>57</td>\n",
              "      <td>62</td>\n",
              "      <td>62</td>\n",
              "      <td>62</td>\n",
              "      <td>62</td>\n",
              "      <td>NaN</td>\n",
              "      <td>NaN</td>\n",
              "      <td>NaN</td>\n",
              "      <td>RB</td>\n",
              "      <td>RM</td>\n",
              "    </tr>\n",
              "  </tbody>\n",
              "</table>\n",
              "<p>8334 rows × 111 columns</p>\n",
              "</div>\n",
              "    <div class=\"colab-df-buttons\">\n",
              "\n",
              "  <div class=\"colab-df-container\">\n",
              "    <button class=\"colab-df-convert\" onclick=\"convertToInteractive('df-63a1caab-5cb5-481d-9d56-8c90dad14bf2')\"\n",
              "            title=\"Convert this dataframe to an interactive table.\"\n",
              "            style=\"display:none;\">\n",
              "\n",
              "  <svg xmlns=\"http://www.w3.org/2000/svg\" height=\"24px\" viewBox=\"0 -960 960 960\">\n",
              "    <path d=\"M120-120v-720h720v720H120Zm60-500h600v-160H180v160Zm220 220h160v-160H400v160Zm0 220h160v-160H400v160ZM180-400h160v-160H180v160Zm440 0h160v-160H620v160ZM180-180h160v-160H180v160Zm440 0h160v-160H620v160Z\"/>\n",
              "  </svg>\n",
              "    </button>\n",
              "\n",
              "  <style>\n",
              "    .colab-df-container {\n",
              "      display:flex;\n",
              "      gap: 12px;\n",
              "    }\n",
              "\n",
              "    .colab-df-convert {\n",
              "      background-color: #E8F0FE;\n",
              "      border: none;\n",
              "      border-radius: 50%;\n",
              "      cursor: pointer;\n",
              "      display: none;\n",
              "      fill: #1967D2;\n",
              "      height: 32px;\n",
              "      padding: 0 0 0 0;\n",
              "      width: 32px;\n",
              "    }\n",
              "\n",
              "    .colab-df-convert:hover {\n",
              "      background-color: #E2EBFA;\n",
              "      box-shadow: 0px 1px 2px rgba(60, 64, 67, 0.3), 0px 1px 3px 1px rgba(60, 64, 67, 0.15);\n",
              "      fill: #174EA6;\n",
              "    }\n",
              "\n",
              "    .colab-df-buttons div {\n",
              "      margin-bottom: 4px;\n",
              "    }\n",
              "\n",
              "    [theme=dark] .colab-df-convert {\n",
              "      background-color: #3B4455;\n",
              "      fill: #D2E3FC;\n",
              "    }\n",
              "\n",
              "    [theme=dark] .colab-df-convert:hover {\n",
              "      background-color: #434B5C;\n",
              "      box-shadow: 0px 1px 3px 1px rgba(0, 0, 0, 0.15);\n",
              "      filter: drop-shadow(0px 1px 2px rgba(0, 0, 0, 0.3));\n",
              "      fill: #FFFFFF;\n",
              "    }\n",
              "  </style>\n",
              "\n",
              "    <script>\n",
              "      const buttonEl =\n",
              "        document.querySelector('#df-63a1caab-5cb5-481d-9d56-8c90dad14bf2 button.colab-df-convert');\n",
              "      buttonEl.style.display =\n",
              "        google.colab.kernel.accessAllowed ? 'block' : 'none';\n",
              "\n",
              "      async function convertToInteractive(key) {\n",
              "        const element = document.querySelector('#df-63a1caab-5cb5-481d-9d56-8c90dad14bf2');\n",
              "        const dataTable =\n",
              "          await google.colab.kernel.invokeFunction('convertToInteractive',\n",
              "                                                    [key], {});\n",
              "        if (!dataTable) return;\n",
              "\n",
              "        const docLinkHtml = 'Like what you see? Visit the ' +\n",
              "          '<a target=\"_blank\" href=https://colab.research.google.com/notebooks/data_table.ipynb>data table notebook</a>'\n",
              "          + ' to learn more about interactive tables.';\n",
              "        element.innerHTML = '';\n",
              "        dataTable['output_type'] = 'display_data';\n",
              "        await google.colab.output.renderOutput(dataTable, element);\n",
              "        const docLink = document.createElement('div');\n",
              "        docLink.innerHTML = docLinkHtml;\n",
              "        element.appendChild(docLink);\n",
              "      }\n",
              "    </script>\n",
              "  </div>\n",
              "\n",
              "\n",
              "<div id=\"df-568b3a77-d727-43cc-9d01-d5ffac8ac1a3\">\n",
              "  <button class=\"colab-df-quickchart\" onclick=\"quickchart('df-568b3a77-d727-43cc-9d01-d5ffac8ac1a3')\"\n",
              "            title=\"Suggest charts.\"\n",
              "            style=\"display:none;\">\n",
              "\n",
              "<svg xmlns=\"http://www.w3.org/2000/svg\" height=\"24px\"viewBox=\"0 0 24 24\"\n",
              "     width=\"24px\">\n",
              "    <g>\n",
              "        <path d=\"M19 3H5c-1.1 0-2 .9-2 2v14c0 1.1.9 2 2 2h14c1.1 0 2-.9 2-2V5c0-1.1-.9-2-2-2zM9 17H7v-7h2v7zm4 0h-2V7h2v10zm4 0h-2v-4h2v4z\"/>\n",
              "    </g>\n",
              "</svg>\n",
              "  </button>\n",
              "\n",
              "<style>\n",
              "  .colab-df-quickchart {\n",
              "      --bg-color: #E8F0FE;\n",
              "      --fill-color: #1967D2;\n",
              "      --hover-bg-color: #E2EBFA;\n",
              "      --hover-fill-color: #174EA6;\n",
              "      --disabled-fill-color: #AAA;\n",
              "      --disabled-bg-color: #DDD;\n",
              "  }\n",
              "\n",
              "  [theme=dark] .colab-df-quickchart {\n",
              "      --bg-color: #3B4455;\n",
              "      --fill-color: #D2E3FC;\n",
              "      --hover-bg-color: #434B5C;\n",
              "      --hover-fill-color: #FFFFFF;\n",
              "      --disabled-bg-color: #3B4455;\n",
              "      --disabled-fill-color: #666;\n",
              "  }\n",
              "\n",
              "  .colab-df-quickchart {\n",
              "    background-color: var(--bg-color);\n",
              "    border: none;\n",
              "    border-radius: 50%;\n",
              "    cursor: pointer;\n",
              "    display: none;\n",
              "    fill: var(--fill-color);\n",
              "    height: 32px;\n",
              "    padding: 0;\n",
              "    width: 32px;\n",
              "  }\n",
              "\n",
              "  .colab-df-quickchart:hover {\n",
              "    background-color: var(--hover-bg-color);\n",
              "    box-shadow: 0 1px 2px rgba(60, 64, 67, 0.3), 0 1px 3px 1px rgba(60, 64, 67, 0.15);\n",
              "    fill: var(--button-hover-fill-color);\n",
              "  }\n",
              "\n",
              "  .colab-df-quickchart-complete:disabled,\n",
              "  .colab-df-quickchart-complete:disabled:hover {\n",
              "    background-color: var(--disabled-bg-color);\n",
              "    fill: var(--disabled-fill-color);\n",
              "    box-shadow: none;\n",
              "  }\n",
              "\n",
              "  .colab-df-spinner {\n",
              "    border: 2px solid var(--fill-color);\n",
              "    border-color: transparent;\n",
              "    border-bottom-color: var(--fill-color);\n",
              "    animation:\n",
              "      spin 1s steps(1) infinite;\n",
              "  }\n",
              "\n",
              "  @keyframes spin {\n",
              "    0% {\n",
              "      border-color: transparent;\n",
              "      border-bottom-color: var(--fill-color);\n",
              "      border-left-color: var(--fill-color);\n",
              "    }\n",
              "    20% {\n",
              "      border-color: transparent;\n",
              "      border-left-color: var(--fill-color);\n",
              "      border-top-color: var(--fill-color);\n",
              "    }\n",
              "    30% {\n",
              "      border-color: transparent;\n",
              "      border-left-color: var(--fill-color);\n",
              "      border-top-color: var(--fill-color);\n",
              "      border-right-color: var(--fill-color);\n",
              "    }\n",
              "    40% {\n",
              "      border-color: transparent;\n",
              "      border-right-color: var(--fill-color);\n",
              "      border-top-color: var(--fill-color);\n",
              "    }\n",
              "    60% {\n",
              "      border-color: transparent;\n",
              "      border-right-color: var(--fill-color);\n",
              "    }\n",
              "    80% {\n",
              "      border-color: transparent;\n",
              "      border-right-color: var(--fill-color);\n",
              "      border-bottom-color: var(--fill-color);\n",
              "    }\n",
              "    90% {\n",
              "      border-color: transparent;\n",
              "      border-bottom-color: var(--fill-color);\n",
              "    }\n",
              "  }\n",
              "</style>\n",
              "\n",
              "  <script>\n",
              "    async function quickchart(key) {\n",
              "      const quickchartButtonEl =\n",
              "        document.querySelector('#' + key + ' button');\n",
              "      quickchartButtonEl.disabled = true;  // To prevent multiple clicks.\n",
              "      quickchartButtonEl.classList.add('colab-df-spinner');\n",
              "      try {\n",
              "        const charts = await google.colab.kernel.invokeFunction(\n",
              "            'suggestCharts', [key], {});\n",
              "      } catch (error) {\n",
              "        console.error('Error during call to suggestCharts:', error);\n",
              "      }\n",
              "      quickchartButtonEl.classList.remove('colab-df-spinner');\n",
              "      quickchartButtonEl.classList.add('colab-df-quickchart-complete');\n",
              "    }\n",
              "    (() => {\n",
              "      let quickchartButtonEl =\n",
              "        document.querySelector('#df-568b3a77-d727-43cc-9d01-d5ffac8ac1a3 button');\n",
              "      quickchartButtonEl.style.display =\n",
              "        google.colab.kernel.accessAllowed ? 'block' : 'none';\n",
              "    })();\n",
              "  </script>\n",
              "</div>\n",
              "    </div>\n",
              "  </div>\n"
            ]
          },
          "metadata": {},
          "execution_count": 15
        }
      ]
    },
    {
      "cell_type": "code",
      "source": [
        "data.info()"
      ],
      "metadata": {
        "colab": {
          "base_uri": "https://localhost:8080/"
        },
        "id": "Y93SpRU_X1Zq",
        "outputId": "6efafb3c-b476-4fdc-e3d4-e6bc3a0cd54a"
      },
      "execution_count": 16,
      "outputs": [
        {
          "output_type": "stream",
          "name": "stdout",
          "text": [
            "<class 'pandas.core.frame.DataFrame'>\n",
            "RangeIndex: 8334 entries, 0 to 8333\n",
            "Columns: 111 entries, player_id to best position\n",
            "dtypes: float64(20), int64(43), object(48)\n",
            "memory usage: 7.1+ MB\n"
          ]
        }
      ]
    },
    {
      "cell_type": "code",
      "source": [
        "data.isna().sum()"
      ],
      "metadata": {
        "colab": {
          "base_uri": "https://localhost:8080/"
        },
        "id": "xr8nkl4PaEio",
        "outputId": "ef2b3473-a1f5-45ec-b99c-0a38f9c1ad6e"
      },
      "execution_count": 17,
      "outputs": [
        {
          "output_type": "execute_result",
          "data": {
            "text/plain": [
              "player_id        0\n",
              "player_url       0\n",
              "fifa_version     0\n",
              "fifa_update      0\n",
              "update_as_of     0\n",
              "                ..\n",
              "rcb              1\n",
              "rb               1\n",
              "gk               1\n",
              "position         0\n",
              "best position    0\n",
              "Length: 111, dtype: int64"
            ]
          },
          "metadata": {},
          "execution_count": 17
        }
      ]
    },
    {
      "cell_type": "code",
      "source": [
        "data.duplicated().sum()"
      ],
      "metadata": {
        "colab": {
          "base_uri": "https://localhost:8080/"
        },
        "id": "lwWxVtb_X4JN",
        "outputId": "341d0a2f-aeae-4f19-eaa2-80829a2e7328"
      },
      "execution_count": 18,
      "outputs": [
        {
          "output_type": "execute_result",
          "data": {
            "text/plain": [
              "0"
            ]
          },
          "metadata": {},
          "execution_count": 18
        }
      ]
    },
    {
      "cell_type": "code",
      "source": [
        "copy=data.copy()"
      ],
      "metadata": {
        "id": "mhW2A24gZiD0"
      },
      "execution_count": 19,
      "outputs": []
    },
    {
      "cell_type": "code",
      "source": [
        "copy.drop_duplicates(inplace=True)"
      ],
      "metadata": {
        "id": "d8kGDk2rZtA7"
      },
      "execution_count": 20,
      "outputs": []
    },
    {
      "cell_type": "markdown",
      "source": [
        "# Data Exploration"
      ],
      "metadata": {
        "id": "plXpqLHrYFb7"
      }
    },
    {
      "cell_type": "markdown",
      "source": [
        "### Top rated countries and clubs"
      ],
      "metadata": {
        "id": "bXjLAoWAYLS3"
      }
    },
    {
      "cell_type": "markdown",
      "source": [
        "Feautures:\n",
        "\n",
        "* Teams (Nationality and Club Name)\n",
        "* Ratings (Overall and Potential)\n",
        "* Positions (Positions Played and Best position)"
      ],
      "metadata": {
        "id": "jiXhRpW5YUM7"
      }
    },
    {
      "cell_type": "code",
      "source": [
        "data.head(3)"
      ],
      "metadata": {
        "colab": {
          "base_uri": "https://localhost:8080/",
          "height": 262
        },
        "id": "YP6fN_t2pHTU",
        "outputId": "c9a62679-bc83-441b-835c-7ec8b1b22b87"
      },
      "execution_count": 21,
      "outputs": [
        {
          "output_type": "execute_result",
          "data": {
            "text/plain": [
              "   player_id                                         player_url  fifa_version  \\\n",
              "0          2  https://sofifa.com/player/2/giovanni-pasquale/...          15.0   \n",
              "1         11  https://sofifa.com/player/11/romain-rocchi/150002          15.0   \n",
              "2         27       https://sofifa.com/player/27/joe-cole/150002          15.0   \n",
              "\n",
              "   fifa_update update_as_of   short_name          long_name player_positions  \\\n",
              "0          2.0   2014-09-18  G. Pasquale  Giovanni Pasquale               LM   \n",
              "1          2.0   2014-09-18    R. Rocchi      Romain Rocchi          CM, CDM   \n",
              "2          2.0   2014-09-18      J. Cole           Joe Cole          RM, CAM   \n",
              "\n",
              "   overall  potential  ...   rdm   rwb    lb   lcb    cb   rcb    rb  gk  \\\n",
              "0       68         68  ...  69-1  71-3  72-4  70-2  70-2  70-2  72-4  13   \n",
              "1       68         68  ...    65    62    60    62    62    62    60  12   \n",
              "2       74         74  ...    59    56    50    48    48    48    50  12   \n",
              "\n",
              "   position best position  \n",
              "0        LM            LM  \n",
              "1        CM           CDM  \n",
              "2        RM           CAM  \n",
              "\n",
              "[3 rows x 111 columns]"
            ],
            "text/html": [
              "\n",
              "  <div id=\"df-a1c6d11f-89ae-4129-95c3-0ce637f2ac21\" class=\"colab-df-container\">\n",
              "    <div>\n",
              "<style scoped>\n",
              "    .dataframe tbody tr th:only-of-type {\n",
              "        vertical-align: middle;\n",
              "    }\n",
              "\n",
              "    .dataframe tbody tr th {\n",
              "        vertical-align: top;\n",
              "    }\n",
              "\n",
              "    .dataframe thead th {\n",
              "        text-align: right;\n",
              "    }\n",
              "</style>\n",
              "<table border=\"1\" class=\"dataframe\">\n",
              "  <thead>\n",
              "    <tr style=\"text-align: right;\">\n",
              "      <th></th>\n",
              "      <th>player_id</th>\n",
              "      <th>player_url</th>\n",
              "      <th>fifa_version</th>\n",
              "      <th>fifa_update</th>\n",
              "      <th>update_as_of</th>\n",
              "      <th>short_name</th>\n",
              "      <th>long_name</th>\n",
              "      <th>player_positions</th>\n",
              "      <th>overall</th>\n",
              "      <th>potential</th>\n",
              "      <th>...</th>\n",
              "      <th>rdm</th>\n",
              "      <th>rwb</th>\n",
              "      <th>lb</th>\n",
              "      <th>lcb</th>\n",
              "      <th>cb</th>\n",
              "      <th>rcb</th>\n",
              "      <th>rb</th>\n",
              "      <th>gk</th>\n",
              "      <th>position</th>\n",
              "      <th>best position</th>\n",
              "    </tr>\n",
              "  </thead>\n",
              "  <tbody>\n",
              "    <tr>\n",
              "      <th>0</th>\n",
              "      <td>2</td>\n",
              "      <td>https://sofifa.com/player/2/giovanni-pasquale/...</td>\n",
              "      <td>15.0</td>\n",
              "      <td>2.0</td>\n",
              "      <td>2014-09-18</td>\n",
              "      <td>G. Pasquale</td>\n",
              "      <td>Giovanni Pasquale</td>\n",
              "      <td>LM</td>\n",
              "      <td>68</td>\n",
              "      <td>68</td>\n",
              "      <td>...</td>\n",
              "      <td>69-1</td>\n",
              "      <td>71-3</td>\n",
              "      <td>72-4</td>\n",
              "      <td>70-2</td>\n",
              "      <td>70-2</td>\n",
              "      <td>70-2</td>\n",
              "      <td>72-4</td>\n",
              "      <td>13</td>\n",
              "      <td>LM</td>\n",
              "      <td>LM</td>\n",
              "    </tr>\n",
              "    <tr>\n",
              "      <th>1</th>\n",
              "      <td>11</td>\n",
              "      <td>https://sofifa.com/player/11/romain-rocchi/150002</td>\n",
              "      <td>15.0</td>\n",
              "      <td>2.0</td>\n",
              "      <td>2014-09-18</td>\n",
              "      <td>R. Rocchi</td>\n",
              "      <td>Romain Rocchi</td>\n",
              "      <td>CM, CDM</td>\n",
              "      <td>68</td>\n",
              "      <td>68</td>\n",
              "      <td>...</td>\n",
              "      <td>65</td>\n",
              "      <td>62</td>\n",
              "      <td>60</td>\n",
              "      <td>62</td>\n",
              "      <td>62</td>\n",
              "      <td>62</td>\n",
              "      <td>60</td>\n",
              "      <td>12</td>\n",
              "      <td>CM</td>\n",
              "      <td>CDM</td>\n",
              "    </tr>\n",
              "    <tr>\n",
              "      <th>2</th>\n",
              "      <td>27</td>\n",
              "      <td>https://sofifa.com/player/27/joe-cole/150002</td>\n",
              "      <td>15.0</td>\n",
              "      <td>2.0</td>\n",
              "      <td>2014-09-18</td>\n",
              "      <td>J. Cole</td>\n",
              "      <td>Joe Cole</td>\n",
              "      <td>RM, CAM</td>\n",
              "      <td>74</td>\n",
              "      <td>74</td>\n",
              "      <td>...</td>\n",
              "      <td>59</td>\n",
              "      <td>56</td>\n",
              "      <td>50</td>\n",
              "      <td>48</td>\n",
              "      <td>48</td>\n",
              "      <td>48</td>\n",
              "      <td>50</td>\n",
              "      <td>12</td>\n",
              "      <td>RM</td>\n",
              "      <td>CAM</td>\n",
              "    </tr>\n",
              "  </tbody>\n",
              "</table>\n",
              "<p>3 rows × 111 columns</p>\n",
              "</div>\n",
              "    <div class=\"colab-df-buttons\">\n",
              "\n",
              "  <div class=\"colab-df-container\">\n",
              "    <button class=\"colab-df-convert\" onclick=\"convertToInteractive('df-a1c6d11f-89ae-4129-95c3-0ce637f2ac21')\"\n",
              "            title=\"Convert this dataframe to an interactive table.\"\n",
              "            style=\"display:none;\">\n",
              "\n",
              "  <svg xmlns=\"http://www.w3.org/2000/svg\" height=\"24px\" viewBox=\"0 -960 960 960\">\n",
              "    <path d=\"M120-120v-720h720v720H120Zm60-500h600v-160H180v160Zm220 220h160v-160H400v160Zm0 220h160v-160H400v160ZM180-400h160v-160H180v160Zm440 0h160v-160H620v160ZM180-180h160v-160H180v160Zm440 0h160v-160H620v160Z\"/>\n",
              "  </svg>\n",
              "    </button>\n",
              "\n",
              "  <style>\n",
              "    .colab-df-container {\n",
              "      display:flex;\n",
              "      gap: 12px;\n",
              "    }\n",
              "\n",
              "    .colab-df-convert {\n",
              "      background-color: #E8F0FE;\n",
              "      border: none;\n",
              "      border-radius: 50%;\n",
              "      cursor: pointer;\n",
              "      display: none;\n",
              "      fill: #1967D2;\n",
              "      height: 32px;\n",
              "      padding: 0 0 0 0;\n",
              "      width: 32px;\n",
              "    }\n",
              "\n",
              "    .colab-df-convert:hover {\n",
              "      background-color: #E2EBFA;\n",
              "      box-shadow: 0px 1px 2px rgba(60, 64, 67, 0.3), 0px 1px 3px 1px rgba(60, 64, 67, 0.15);\n",
              "      fill: #174EA6;\n",
              "    }\n",
              "\n",
              "    .colab-df-buttons div {\n",
              "      margin-bottom: 4px;\n",
              "    }\n",
              "\n",
              "    [theme=dark] .colab-df-convert {\n",
              "      background-color: #3B4455;\n",
              "      fill: #D2E3FC;\n",
              "    }\n",
              "\n",
              "    [theme=dark] .colab-df-convert:hover {\n",
              "      background-color: #434B5C;\n",
              "      box-shadow: 0px 1px 3px 1px rgba(0, 0, 0, 0.15);\n",
              "      filter: drop-shadow(0px 1px 2px rgba(0, 0, 0, 0.3));\n",
              "      fill: #FFFFFF;\n",
              "    }\n",
              "  </style>\n",
              "\n",
              "    <script>\n",
              "      const buttonEl =\n",
              "        document.querySelector('#df-a1c6d11f-89ae-4129-95c3-0ce637f2ac21 button.colab-df-convert');\n",
              "      buttonEl.style.display =\n",
              "        google.colab.kernel.accessAllowed ? 'block' : 'none';\n",
              "\n",
              "      async function convertToInteractive(key) {\n",
              "        const element = document.querySelector('#df-a1c6d11f-89ae-4129-95c3-0ce637f2ac21');\n",
              "        const dataTable =\n",
              "          await google.colab.kernel.invokeFunction('convertToInteractive',\n",
              "                                                    [key], {});\n",
              "        if (!dataTable) return;\n",
              "\n",
              "        const docLinkHtml = 'Like what you see? Visit the ' +\n",
              "          '<a target=\"_blank\" href=https://colab.research.google.com/notebooks/data_table.ipynb>data table notebook</a>'\n",
              "          + ' to learn more about interactive tables.';\n",
              "        element.innerHTML = '';\n",
              "        dataTable['output_type'] = 'display_data';\n",
              "        await google.colab.output.renderOutput(dataTable, element);\n",
              "        const docLink = document.createElement('div');\n",
              "        docLink.innerHTML = docLinkHtml;\n",
              "        element.appendChild(docLink);\n",
              "      }\n",
              "    </script>\n",
              "  </div>\n",
              "\n",
              "\n",
              "<div id=\"df-84186b85-aa59-4b56-b675-bff01a5fc0af\">\n",
              "  <button class=\"colab-df-quickchart\" onclick=\"quickchart('df-84186b85-aa59-4b56-b675-bff01a5fc0af')\"\n",
              "            title=\"Suggest charts.\"\n",
              "            style=\"display:none;\">\n",
              "\n",
              "<svg xmlns=\"http://www.w3.org/2000/svg\" height=\"24px\"viewBox=\"0 0 24 24\"\n",
              "     width=\"24px\">\n",
              "    <g>\n",
              "        <path d=\"M19 3H5c-1.1 0-2 .9-2 2v14c0 1.1.9 2 2 2h14c1.1 0 2-.9 2-2V5c0-1.1-.9-2-2-2zM9 17H7v-7h2v7zm4 0h-2V7h2v10zm4 0h-2v-4h2v4z\"/>\n",
              "    </g>\n",
              "</svg>\n",
              "  </button>\n",
              "\n",
              "<style>\n",
              "  .colab-df-quickchart {\n",
              "      --bg-color: #E8F0FE;\n",
              "      --fill-color: #1967D2;\n",
              "      --hover-bg-color: #E2EBFA;\n",
              "      --hover-fill-color: #174EA6;\n",
              "      --disabled-fill-color: #AAA;\n",
              "      --disabled-bg-color: #DDD;\n",
              "  }\n",
              "\n",
              "  [theme=dark] .colab-df-quickchart {\n",
              "      --bg-color: #3B4455;\n",
              "      --fill-color: #D2E3FC;\n",
              "      --hover-bg-color: #434B5C;\n",
              "      --hover-fill-color: #FFFFFF;\n",
              "      --disabled-bg-color: #3B4455;\n",
              "      --disabled-fill-color: #666;\n",
              "  }\n",
              "\n",
              "  .colab-df-quickchart {\n",
              "    background-color: var(--bg-color);\n",
              "    border: none;\n",
              "    border-radius: 50%;\n",
              "    cursor: pointer;\n",
              "    display: none;\n",
              "    fill: var(--fill-color);\n",
              "    height: 32px;\n",
              "    padding: 0;\n",
              "    width: 32px;\n",
              "  }\n",
              "\n",
              "  .colab-df-quickchart:hover {\n",
              "    background-color: var(--hover-bg-color);\n",
              "    box-shadow: 0 1px 2px rgba(60, 64, 67, 0.3), 0 1px 3px 1px rgba(60, 64, 67, 0.15);\n",
              "    fill: var(--button-hover-fill-color);\n",
              "  }\n",
              "\n",
              "  .colab-df-quickchart-complete:disabled,\n",
              "  .colab-df-quickchart-complete:disabled:hover {\n",
              "    background-color: var(--disabled-bg-color);\n",
              "    fill: var(--disabled-fill-color);\n",
              "    box-shadow: none;\n",
              "  }\n",
              "\n",
              "  .colab-df-spinner {\n",
              "    border: 2px solid var(--fill-color);\n",
              "    border-color: transparent;\n",
              "    border-bottom-color: var(--fill-color);\n",
              "    animation:\n",
              "      spin 1s steps(1) infinite;\n",
              "  }\n",
              "\n",
              "  @keyframes spin {\n",
              "    0% {\n",
              "      border-color: transparent;\n",
              "      border-bottom-color: var(--fill-color);\n",
              "      border-left-color: var(--fill-color);\n",
              "    }\n",
              "    20% {\n",
              "      border-color: transparent;\n",
              "      border-left-color: var(--fill-color);\n",
              "      border-top-color: var(--fill-color);\n",
              "    }\n",
              "    30% {\n",
              "      border-color: transparent;\n",
              "      border-left-color: var(--fill-color);\n",
              "      border-top-color: var(--fill-color);\n",
              "      border-right-color: var(--fill-color);\n",
              "    }\n",
              "    40% {\n",
              "      border-color: transparent;\n",
              "      border-right-color: var(--fill-color);\n",
              "      border-top-color: var(--fill-color);\n",
              "    }\n",
              "    60% {\n",
              "      border-color: transparent;\n",
              "      border-right-color: var(--fill-color);\n",
              "    }\n",
              "    80% {\n",
              "      border-color: transparent;\n",
              "      border-right-color: var(--fill-color);\n",
              "      border-bottom-color: var(--fill-color);\n",
              "    }\n",
              "    90% {\n",
              "      border-color: transparent;\n",
              "      border-bottom-color: var(--fill-color);\n",
              "    }\n",
              "  }\n",
              "</style>\n",
              "\n",
              "  <script>\n",
              "    async function quickchart(key) {\n",
              "      const quickchartButtonEl =\n",
              "        document.querySelector('#' + key + ' button');\n",
              "      quickchartButtonEl.disabled = true;  // To prevent multiple clicks.\n",
              "      quickchartButtonEl.classList.add('colab-df-spinner');\n",
              "      try {\n",
              "        const charts = await google.colab.kernel.invokeFunction(\n",
              "            'suggestCharts', [key], {});\n",
              "      } catch (error) {\n",
              "        console.error('Error during call to suggestCharts:', error);\n",
              "      }\n",
              "      quickchartButtonEl.classList.remove('colab-df-spinner');\n",
              "      quickchartButtonEl.classList.add('colab-df-quickchart-complete');\n",
              "    }\n",
              "    (() => {\n",
              "      let quickchartButtonEl =\n",
              "        document.querySelector('#df-84186b85-aa59-4b56-b675-bff01a5fc0af button');\n",
              "      quickchartButtonEl.style.display =\n",
              "        google.colab.kernel.accessAllowed ? 'block' : 'none';\n",
              "    })();\n",
              "  </script>\n",
              "</div>\n",
              "    </div>\n",
              "  </div>\n"
            ]
          },
          "metadata": {},
          "execution_count": 21
        }
      ]
    },
    {
      "cell_type": "code",
      "source": [
        "#  Extracting the columns we have to use form dataframe\n",
        "\n",
        "fifa24 = data[[\n",
        "    'long_name',\n",
        "    'age',\n",
        "    'nationality_name',\n",
        "    'overall',\n",
        "    'potential',\n",
        "    'club_name',\n",
        "    'player_positions',\n",
        "    'position',\n",
        "    'value_eur',\n",
        "    'wage_eur'\n",
        "\n",
        "]]"
      ],
      "metadata": {
        "id": "KOPzyuWdX_XS"
      },
      "execution_count": 22,
      "outputs": []
    },
    {
      "cell_type": "code",
      "source": [
        "fifa24.head(3)"
      ],
      "metadata": {
        "colab": {
          "base_uri": "https://localhost:8080/",
          "height": 198
        },
        "id": "-Lp22dRJqF6p",
        "outputId": "db3a56c9-f7b7-4063-8132-6dcea0e1a546"
      },
      "execution_count": 23,
      "outputs": [
        {
          "output_type": "execute_result",
          "data": {
            "text/plain": [
              "           long_name  age nationality_name  overall  potential    club_name  \\\n",
              "0  Giovanni Pasquale   32            Italy       68         68      Udinese   \n",
              "1      Romain Rocchi   32           France       68         68         Metz   \n",
              "2           Joe Cole   32          England       74         74  Aston Villa   \n",
              "\n",
              "  player_positions position  value_eur  wage_eur  \n",
              "0               LM       LM   675000.0    9000.0  \n",
              "1          CM, CDM       CM   675000.0    8000.0  \n",
              "2          RM, CAM       RM  2400000.0   35000.0  "
            ],
            "text/html": [
              "\n",
              "  <div id=\"df-71bd4431-66d5-4cb8-8105-5daf03717190\" class=\"colab-df-container\">\n",
              "    <div>\n",
              "<style scoped>\n",
              "    .dataframe tbody tr th:only-of-type {\n",
              "        vertical-align: middle;\n",
              "    }\n",
              "\n",
              "    .dataframe tbody tr th {\n",
              "        vertical-align: top;\n",
              "    }\n",
              "\n",
              "    .dataframe thead th {\n",
              "        text-align: right;\n",
              "    }\n",
              "</style>\n",
              "<table border=\"1\" class=\"dataframe\">\n",
              "  <thead>\n",
              "    <tr style=\"text-align: right;\">\n",
              "      <th></th>\n",
              "      <th>long_name</th>\n",
              "      <th>age</th>\n",
              "      <th>nationality_name</th>\n",
              "      <th>overall</th>\n",
              "      <th>potential</th>\n",
              "      <th>club_name</th>\n",
              "      <th>player_positions</th>\n",
              "      <th>position</th>\n",
              "      <th>value_eur</th>\n",
              "      <th>wage_eur</th>\n",
              "    </tr>\n",
              "  </thead>\n",
              "  <tbody>\n",
              "    <tr>\n",
              "      <th>0</th>\n",
              "      <td>Giovanni Pasquale</td>\n",
              "      <td>32</td>\n",
              "      <td>Italy</td>\n",
              "      <td>68</td>\n",
              "      <td>68</td>\n",
              "      <td>Udinese</td>\n",
              "      <td>LM</td>\n",
              "      <td>LM</td>\n",
              "      <td>675000.0</td>\n",
              "      <td>9000.0</td>\n",
              "    </tr>\n",
              "    <tr>\n",
              "      <th>1</th>\n",
              "      <td>Romain Rocchi</td>\n",
              "      <td>32</td>\n",
              "      <td>France</td>\n",
              "      <td>68</td>\n",
              "      <td>68</td>\n",
              "      <td>Metz</td>\n",
              "      <td>CM, CDM</td>\n",
              "      <td>CM</td>\n",
              "      <td>675000.0</td>\n",
              "      <td>8000.0</td>\n",
              "    </tr>\n",
              "    <tr>\n",
              "      <th>2</th>\n",
              "      <td>Joe Cole</td>\n",
              "      <td>32</td>\n",
              "      <td>England</td>\n",
              "      <td>74</td>\n",
              "      <td>74</td>\n",
              "      <td>Aston Villa</td>\n",
              "      <td>RM, CAM</td>\n",
              "      <td>RM</td>\n",
              "      <td>2400000.0</td>\n",
              "      <td>35000.0</td>\n",
              "    </tr>\n",
              "  </tbody>\n",
              "</table>\n",
              "</div>\n",
              "    <div class=\"colab-df-buttons\">\n",
              "\n",
              "  <div class=\"colab-df-container\">\n",
              "    <button class=\"colab-df-convert\" onclick=\"convertToInteractive('df-71bd4431-66d5-4cb8-8105-5daf03717190')\"\n",
              "            title=\"Convert this dataframe to an interactive table.\"\n",
              "            style=\"display:none;\">\n",
              "\n",
              "  <svg xmlns=\"http://www.w3.org/2000/svg\" height=\"24px\" viewBox=\"0 -960 960 960\">\n",
              "    <path d=\"M120-120v-720h720v720H120Zm60-500h600v-160H180v160Zm220 220h160v-160H400v160Zm0 220h160v-160H400v160ZM180-400h160v-160H180v160Zm440 0h160v-160H620v160ZM180-180h160v-160H180v160Zm440 0h160v-160H620v160Z\"/>\n",
              "  </svg>\n",
              "    </button>\n",
              "\n",
              "  <style>\n",
              "    .colab-df-container {\n",
              "      display:flex;\n",
              "      gap: 12px;\n",
              "    }\n",
              "\n",
              "    .colab-df-convert {\n",
              "      background-color: #E8F0FE;\n",
              "      border: none;\n",
              "      border-radius: 50%;\n",
              "      cursor: pointer;\n",
              "      display: none;\n",
              "      fill: #1967D2;\n",
              "      height: 32px;\n",
              "      padding: 0 0 0 0;\n",
              "      width: 32px;\n",
              "    }\n",
              "\n",
              "    .colab-df-convert:hover {\n",
              "      background-color: #E2EBFA;\n",
              "      box-shadow: 0px 1px 2px rgba(60, 64, 67, 0.3), 0px 1px 3px 1px rgba(60, 64, 67, 0.15);\n",
              "      fill: #174EA6;\n",
              "    }\n",
              "\n",
              "    .colab-df-buttons div {\n",
              "      margin-bottom: 4px;\n",
              "    }\n",
              "\n",
              "    [theme=dark] .colab-df-convert {\n",
              "      background-color: #3B4455;\n",
              "      fill: #D2E3FC;\n",
              "    }\n",
              "\n",
              "    [theme=dark] .colab-df-convert:hover {\n",
              "      background-color: #434B5C;\n",
              "      box-shadow: 0px 1px 3px 1px rgba(0, 0, 0, 0.15);\n",
              "      filter: drop-shadow(0px 1px 2px rgba(0, 0, 0, 0.3));\n",
              "      fill: #FFFFFF;\n",
              "    }\n",
              "  </style>\n",
              "\n",
              "    <script>\n",
              "      const buttonEl =\n",
              "        document.querySelector('#df-71bd4431-66d5-4cb8-8105-5daf03717190 button.colab-df-convert');\n",
              "      buttonEl.style.display =\n",
              "        google.colab.kernel.accessAllowed ? 'block' : 'none';\n",
              "\n",
              "      async function convertToInteractive(key) {\n",
              "        const element = document.querySelector('#df-71bd4431-66d5-4cb8-8105-5daf03717190');\n",
              "        const dataTable =\n",
              "          await google.colab.kernel.invokeFunction('convertToInteractive',\n",
              "                                                    [key], {});\n",
              "        if (!dataTable) return;\n",
              "\n",
              "        const docLinkHtml = 'Like what you see? Visit the ' +\n",
              "          '<a target=\"_blank\" href=https://colab.research.google.com/notebooks/data_table.ipynb>data table notebook</a>'\n",
              "          + ' to learn more about interactive tables.';\n",
              "        element.innerHTML = '';\n",
              "        dataTable['output_type'] = 'display_data';\n",
              "        await google.colab.output.renderOutput(dataTable, element);\n",
              "        const docLink = document.createElement('div');\n",
              "        docLink.innerHTML = docLinkHtml;\n",
              "        element.appendChild(docLink);\n",
              "      }\n",
              "    </script>\n",
              "  </div>\n",
              "\n",
              "\n",
              "<div id=\"df-eb8a1826-0d73-42aa-aacb-6a041ac0b49f\">\n",
              "  <button class=\"colab-df-quickchart\" onclick=\"quickchart('df-eb8a1826-0d73-42aa-aacb-6a041ac0b49f')\"\n",
              "            title=\"Suggest charts.\"\n",
              "            style=\"display:none;\">\n",
              "\n",
              "<svg xmlns=\"http://www.w3.org/2000/svg\" height=\"24px\"viewBox=\"0 0 24 24\"\n",
              "     width=\"24px\">\n",
              "    <g>\n",
              "        <path d=\"M19 3H5c-1.1 0-2 .9-2 2v14c0 1.1.9 2 2 2h14c1.1 0 2-.9 2-2V5c0-1.1-.9-2-2-2zM9 17H7v-7h2v7zm4 0h-2V7h2v10zm4 0h-2v-4h2v4z\"/>\n",
              "    </g>\n",
              "</svg>\n",
              "  </button>\n",
              "\n",
              "<style>\n",
              "  .colab-df-quickchart {\n",
              "      --bg-color: #E8F0FE;\n",
              "      --fill-color: #1967D2;\n",
              "      --hover-bg-color: #E2EBFA;\n",
              "      --hover-fill-color: #174EA6;\n",
              "      --disabled-fill-color: #AAA;\n",
              "      --disabled-bg-color: #DDD;\n",
              "  }\n",
              "\n",
              "  [theme=dark] .colab-df-quickchart {\n",
              "      --bg-color: #3B4455;\n",
              "      --fill-color: #D2E3FC;\n",
              "      --hover-bg-color: #434B5C;\n",
              "      --hover-fill-color: #FFFFFF;\n",
              "      --disabled-bg-color: #3B4455;\n",
              "      --disabled-fill-color: #666;\n",
              "  }\n",
              "\n",
              "  .colab-df-quickchart {\n",
              "    background-color: var(--bg-color);\n",
              "    border: none;\n",
              "    border-radius: 50%;\n",
              "    cursor: pointer;\n",
              "    display: none;\n",
              "    fill: var(--fill-color);\n",
              "    height: 32px;\n",
              "    padding: 0;\n",
              "    width: 32px;\n",
              "  }\n",
              "\n",
              "  .colab-df-quickchart:hover {\n",
              "    background-color: var(--hover-bg-color);\n",
              "    box-shadow: 0 1px 2px rgba(60, 64, 67, 0.3), 0 1px 3px 1px rgba(60, 64, 67, 0.15);\n",
              "    fill: var(--button-hover-fill-color);\n",
              "  }\n",
              "\n",
              "  .colab-df-quickchart-complete:disabled,\n",
              "  .colab-df-quickchart-complete:disabled:hover {\n",
              "    background-color: var(--disabled-bg-color);\n",
              "    fill: var(--disabled-fill-color);\n",
              "    box-shadow: none;\n",
              "  }\n",
              "\n",
              "  .colab-df-spinner {\n",
              "    border: 2px solid var(--fill-color);\n",
              "    border-color: transparent;\n",
              "    border-bottom-color: var(--fill-color);\n",
              "    animation:\n",
              "      spin 1s steps(1) infinite;\n",
              "  }\n",
              "\n",
              "  @keyframes spin {\n",
              "    0% {\n",
              "      border-color: transparent;\n",
              "      border-bottom-color: var(--fill-color);\n",
              "      border-left-color: var(--fill-color);\n",
              "    }\n",
              "    20% {\n",
              "      border-color: transparent;\n",
              "      border-left-color: var(--fill-color);\n",
              "      border-top-color: var(--fill-color);\n",
              "    }\n",
              "    30% {\n",
              "      border-color: transparent;\n",
              "      border-left-color: var(--fill-color);\n",
              "      border-top-color: var(--fill-color);\n",
              "      border-right-color: var(--fill-color);\n",
              "    }\n",
              "    40% {\n",
              "      border-color: transparent;\n",
              "      border-right-color: var(--fill-color);\n",
              "      border-top-color: var(--fill-color);\n",
              "    }\n",
              "    60% {\n",
              "      border-color: transparent;\n",
              "      border-right-color: var(--fill-color);\n",
              "    }\n",
              "    80% {\n",
              "      border-color: transparent;\n",
              "      border-right-color: var(--fill-color);\n",
              "      border-bottom-color: var(--fill-color);\n",
              "    }\n",
              "    90% {\n",
              "      border-color: transparent;\n",
              "      border-bottom-color: var(--fill-color);\n",
              "    }\n",
              "  }\n",
              "</style>\n",
              "\n",
              "  <script>\n",
              "    async function quickchart(key) {\n",
              "      const quickchartButtonEl =\n",
              "        document.querySelector('#' + key + ' button');\n",
              "      quickchartButtonEl.disabled = true;  // To prevent multiple clicks.\n",
              "      quickchartButtonEl.classList.add('colab-df-spinner');\n",
              "      try {\n",
              "        const charts = await google.colab.kernel.invokeFunction(\n",
              "            'suggestCharts', [key], {});\n",
              "      } catch (error) {\n",
              "        console.error('Error during call to suggestCharts:', error);\n",
              "      }\n",
              "      quickchartButtonEl.classList.remove('colab-df-spinner');\n",
              "      quickchartButtonEl.classList.add('colab-df-quickchart-complete');\n",
              "    }\n",
              "    (() => {\n",
              "      let quickchartButtonEl =\n",
              "        document.querySelector('#df-eb8a1826-0d73-42aa-aacb-6a041ac0b49f button');\n",
              "      quickchartButtonEl.style.display =\n",
              "        google.colab.kernel.accessAllowed ? 'block' : 'none';\n",
              "    })();\n",
              "  </script>\n",
              "</div>\n",
              "    </div>\n",
              "  </div>\n"
            ]
          },
          "metadata": {},
          "execution_count": 23
        }
      ]
    },
    {
      "cell_type": "code",
      "source": [
        "# Renaming the columns name\n",
        "\n",
        "fifa24.rename(columns={'long_name': 'name',\n",
        "                       'nationality_name': 'nationality',\n",
        "                       'club_name': 'club',\n",
        "                       'player_positions': 'positions',\n",
        "                       'position': 'best_position',\n",
        "                       'value_eur': 'valueEUR',\n",
        "                       'wage_eur': 'salary'\n",
        "                       }, inplace=True)"
      ],
      "metadata": {
        "colab": {
          "base_uri": "https://localhost:8080/"
        },
        "id": "aFsnhSP6rImZ",
        "outputId": "3bbc03fe-f330-434d-d4a0-b8e318146041"
      },
      "execution_count": 24,
      "outputs": [
        {
          "output_type": "stream",
          "name": "stderr",
          "text": [
            "<ipython-input-24-38ae33ac4fd0>:3: SettingWithCopyWarning:\n",
            "\n",
            "\n",
            "A value is trying to be set on a copy of a slice from a DataFrame\n",
            "\n",
            "See the caveats in the documentation: https://pandas.pydata.org/pandas-docs/stable/user_guide/indexing.html#returning-a-view-versus-a-copy\n",
            "\n"
          ]
        }
      ]
    },
    {
      "cell_type": "code",
      "source": [
        "fifa24.head(3)"
      ],
      "metadata": {
        "colab": {
          "base_uri": "https://localhost:8080/",
          "height": 215
        },
        "id": "t63oqvOesLI4",
        "outputId": "17d3cd37-6657-4917-a8e8-299155176c9f"
      },
      "execution_count": 25,
      "outputs": [
        {
          "output_type": "execute_result",
          "data": {
            "text/plain": [
              "                name  age nationality  overall  potential         club  \\\n",
              "0  Giovanni Pasquale   32       Italy       68         68      Udinese   \n",
              "1      Romain Rocchi   32      France       68         68         Metz   \n",
              "2           Joe Cole   32     England       74         74  Aston Villa   \n",
              "\n",
              "  positions best_position   valueEUR   salary  \n",
              "0        LM            LM   675000.0   9000.0  \n",
              "1   CM, CDM            CM   675000.0   8000.0  \n",
              "2   RM, CAM            RM  2400000.0  35000.0  "
            ],
            "text/html": [
              "\n",
              "  <div id=\"df-82acba2b-e7c2-4f33-9197-2ca1471b6aa2\" class=\"colab-df-container\">\n",
              "    <div>\n",
              "<style scoped>\n",
              "    .dataframe tbody tr th:only-of-type {\n",
              "        vertical-align: middle;\n",
              "    }\n",
              "\n",
              "    .dataframe tbody tr th {\n",
              "        vertical-align: top;\n",
              "    }\n",
              "\n",
              "    .dataframe thead th {\n",
              "        text-align: right;\n",
              "    }\n",
              "</style>\n",
              "<table border=\"1\" class=\"dataframe\">\n",
              "  <thead>\n",
              "    <tr style=\"text-align: right;\">\n",
              "      <th></th>\n",
              "      <th>name</th>\n",
              "      <th>age</th>\n",
              "      <th>nationality</th>\n",
              "      <th>overall</th>\n",
              "      <th>potential</th>\n",
              "      <th>club</th>\n",
              "      <th>positions</th>\n",
              "      <th>best_position</th>\n",
              "      <th>valueEUR</th>\n",
              "      <th>salary</th>\n",
              "    </tr>\n",
              "  </thead>\n",
              "  <tbody>\n",
              "    <tr>\n",
              "      <th>0</th>\n",
              "      <td>Giovanni Pasquale</td>\n",
              "      <td>32</td>\n",
              "      <td>Italy</td>\n",
              "      <td>68</td>\n",
              "      <td>68</td>\n",
              "      <td>Udinese</td>\n",
              "      <td>LM</td>\n",
              "      <td>LM</td>\n",
              "      <td>675000.0</td>\n",
              "      <td>9000.0</td>\n",
              "    </tr>\n",
              "    <tr>\n",
              "      <th>1</th>\n",
              "      <td>Romain Rocchi</td>\n",
              "      <td>32</td>\n",
              "      <td>France</td>\n",
              "      <td>68</td>\n",
              "      <td>68</td>\n",
              "      <td>Metz</td>\n",
              "      <td>CM, CDM</td>\n",
              "      <td>CM</td>\n",
              "      <td>675000.0</td>\n",
              "      <td>8000.0</td>\n",
              "    </tr>\n",
              "    <tr>\n",
              "      <th>2</th>\n",
              "      <td>Joe Cole</td>\n",
              "      <td>32</td>\n",
              "      <td>England</td>\n",
              "      <td>74</td>\n",
              "      <td>74</td>\n",
              "      <td>Aston Villa</td>\n",
              "      <td>RM, CAM</td>\n",
              "      <td>RM</td>\n",
              "      <td>2400000.0</td>\n",
              "      <td>35000.0</td>\n",
              "    </tr>\n",
              "  </tbody>\n",
              "</table>\n",
              "</div>\n",
              "    <div class=\"colab-df-buttons\">\n",
              "\n",
              "  <div class=\"colab-df-container\">\n",
              "    <button class=\"colab-df-convert\" onclick=\"convertToInteractive('df-82acba2b-e7c2-4f33-9197-2ca1471b6aa2')\"\n",
              "            title=\"Convert this dataframe to an interactive table.\"\n",
              "            style=\"display:none;\">\n",
              "\n",
              "  <svg xmlns=\"http://www.w3.org/2000/svg\" height=\"24px\" viewBox=\"0 -960 960 960\">\n",
              "    <path d=\"M120-120v-720h720v720H120Zm60-500h600v-160H180v160Zm220 220h160v-160H400v160Zm0 220h160v-160H400v160ZM180-400h160v-160H180v160Zm440 0h160v-160H620v160ZM180-180h160v-160H180v160Zm440 0h160v-160H620v160Z\"/>\n",
              "  </svg>\n",
              "    </button>\n",
              "\n",
              "  <style>\n",
              "    .colab-df-container {\n",
              "      display:flex;\n",
              "      gap: 12px;\n",
              "    }\n",
              "\n",
              "    .colab-df-convert {\n",
              "      background-color: #E8F0FE;\n",
              "      border: none;\n",
              "      border-radius: 50%;\n",
              "      cursor: pointer;\n",
              "      display: none;\n",
              "      fill: #1967D2;\n",
              "      height: 32px;\n",
              "      padding: 0 0 0 0;\n",
              "      width: 32px;\n",
              "    }\n",
              "\n",
              "    .colab-df-convert:hover {\n",
              "      background-color: #E2EBFA;\n",
              "      box-shadow: 0px 1px 2px rgba(60, 64, 67, 0.3), 0px 1px 3px 1px rgba(60, 64, 67, 0.15);\n",
              "      fill: #174EA6;\n",
              "    }\n",
              "\n",
              "    .colab-df-buttons div {\n",
              "      margin-bottom: 4px;\n",
              "    }\n",
              "\n",
              "    [theme=dark] .colab-df-convert {\n",
              "      background-color: #3B4455;\n",
              "      fill: #D2E3FC;\n",
              "    }\n",
              "\n",
              "    [theme=dark] .colab-df-convert:hover {\n",
              "      background-color: #434B5C;\n",
              "      box-shadow: 0px 1px 3px 1px rgba(0, 0, 0, 0.15);\n",
              "      filter: drop-shadow(0px 1px 2px rgba(0, 0, 0, 0.3));\n",
              "      fill: #FFFFFF;\n",
              "    }\n",
              "  </style>\n",
              "\n",
              "    <script>\n",
              "      const buttonEl =\n",
              "        document.querySelector('#df-82acba2b-e7c2-4f33-9197-2ca1471b6aa2 button.colab-df-convert');\n",
              "      buttonEl.style.display =\n",
              "        google.colab.kernel.accessAllowed ? 'block' : 'none';\n",
              "\n",
              "      async function convertToInteractive(key) {\n",
              "        const element = document.querySelector('#df-82acba2b-e7c2-4f33-9197-2ca1471b6aa2');\n",
              "        const dataTable =\n",
              "          await google.colab.kernel.invokeFunction('convertToInteractive',\n",
              "                                                    [key], {});\n",
              "        if (!dataTable) return;\n",
              "\n",
              "        const docLinkHtml = 'Like what you see? Visit the ' +\n",
              "          '<a target=\"_blank\" href=https://colab.research.google.com/notebooks/data_table.ipynb>data table notebook</a>'\n",
              "          + ' to learn more about interactive tables.';\n",
              "        element.innerHTML = '';\n",
              "        dataTable['output_type'] = 'display_data';\n",
              "        await google.colab.output.renderOutput(dataTable, element);\n",
              "        const docLink = document.createElement('div');\n",
              "        docLink.innerHTML = docLinkHtml;\n",
              "        element.appendChild(docLink);\n",
              "      }\n",
              "    </script>\n",
              "  </div>\n",
              "\n",
              "\n",
              "<div id=\"df-6a14f3e3-589f-4ed5-8c8a-be9b9e868a84\">\n",
              "  <button class=\"colab-df-quickchart\" onclick=\"quickchart('df-6a14f3e3-589f-4ed5-8c8a-be9b9e868a84')\"\n",
              "            title=\"Suggest charts.\"\n",
              "            style=\"display:none;\">\n",
              "\n",
              "<svg xmlns=\"http://www.w3.org/2000/svg\" height=\"24px\"viewBox=\"0 0 24 24\"\n",
              "     width=\"24px\">\n",
              "    <g>\n",
              "        <path d=\"M19 3H5c-1.1 0-2 .9-2 2v14c0 1.1.9 2 2 2h14c1.1 0 2-.9 2-2V5c0-1.1-.9-2-2-2zM9 17H7v-7h2v7zm4 0h-2V7h2v10zm4 0h-2v-4h2v4z\"/>\n",
              "    </g>\n",
              "</svg>\n",
              "  </button>\n",
              "\n",
              "<style>\n",
              "  .colab-df-quickchart {\n",
              "      --bg-color: #E8F0FE;\n",
              "      --fill-color: #1967D2;\n",
              "      --hover-bg-color: #E2EBFA;\n",
              "      --hover-fill-color: #174EA6;\n",
              "      --disabled-fill-color: #AAA;\n",
              "      --disabled-bg-color: #DDD;\n",
              "  }\n",
              "\n",
              "  [theme=dark] .colab-df-quickchart {\n",
              "      --bg-color: #3B4455;\n",
              "      --fill-color: #D2E3FC;\n",
              "      --hover-bg-color: #434B5C;\n",
              "      --hover-fill-color: #FFFFFF;\n",
              "      --disabled-bg-color: #3B4455;\n",
              "      --disabled-fill-color: #666;\n",
              "  }\n",
              "\n",
              "  .colab-df-quickchart {\n",
              "    background-color: var(--bg-color);\n",
              "    border: none;\n",
              "    border-radius: 50%;\n",
              "    cursor: pointer;\n",
              "    display: none;\n",
              "    fill: var(--fill-color);\n",
              "    height: 32px;\n",
              "    padding: 0;\n",
              "    width: 32px;\n",
              "  }\n",
              "\n",
              "  .colab-df-quickchart:hover {\n",
              "    background-color: var(--hover-bg-color);\n",
              "    box-shadow: 0 1px 2px rgba(60, 64, 67, 0.3), 0 1px 3px 1px rgba(60, 64, 67, 0.15);\n",
              "    fill: var(--button-hover-fill-color);\n",
              "  }\n",
              "\n",
              "  .colab-df-quickchart-complete:disabled,\n",
              "  .colab-df-quickchart-complete:disabled:hover {\n",
              "    background-color: var(--disabled-bg-color);\n",
              "    fill: var(--disabled-fill-color);\n",
              "    box-shadow: none;\n",
              "  }\n",
              "\n",
              "  .colab-df-spinner {\n",
              "    border: 2px solid var(--fill-color);\n",
              "    border-color: transparent;\n",
              "    border-bottom-color: var(--fill-color);\n",
              "    animation:\n",
              "      spin 1s steps(1) infinite;\n",
              "  }\n",
              "\n",
              "  @keyframes spin {\n",
              "    0% {\n",
              "      border-color: transparent;\n",
              "      border-bottom-color: var(--fill-color);\n",
              "      border-left-color: var(--fill-color);\n",
              "    }\n",
              "    20% {\n",
              "      border-color: transparent;\n",
              "      border-left-color: var(--fill-color);\n",
              "      border-top-color: var(--fill-color);\n",
              "    }\n",
              "    30% {\n",
              "      border-color: transparent;\n",
              "      border-left-color: var(--fill-color);\n",
              "      border-top-color: var(--fill-color);\n",
              "      border-right-color: var(--fill-color);\n",
              "    }\n",
              "    40% {\n",
              "      border-color: transparent;\n",
              "      border-right-color: var(--fill-color);\n",
              "      border-top-color: var(--fill-color);\n",
              "    }\n",
              "    60% {\n",
              "      border-color: transparent;\n",
              "      border-right-color: var(--fill-color);\n",
              "    }\n",
              "    80% {\n",
              "      border-color: transparent;\n",
              "      border-right-color: var(--fill-color);\n",
              "      border-bottom-color: var(--fill-color);\n",
              "    }\n",
              "    90% {\n",
              "      border-color: transparent;\n",
              "      border-bottom-color: var(--fill-color);\n",
              "    }\n",
              "  }\n",
              "</style>\n",
              "\n",
              "  <script>\n",
              "    async function quickchart(key) {\n",
              "      const quickchartButtonEl =\n",
              "        document.querySelector('#' + key + ' button');\n",
              "      quickchartButtonEl.disabled = true;  // To prevent multiple clicks.\n",
              "      quickchartButtonEl.classList.add('colab-df-spinner');\n",
              "      try {\n",
              "        const charts = await google.colab.kernel.invokeFunction(\n",
              "            'suggestCharts', [key], {});\n",
              "      } catch (error) {\n",
              "        console.error('Error during call to suggestCharts:', error);\n",
              "      }\n",
              "      quickchartButtonEl.classList.remove('colab-df-spinner');\n",
              "      quickchartButtonEl.classList.add('colab-df-quickchart-complete');\n",
              "    }\n",
              "    (() => {\n",
              "      let quickchartButtonEl =\n",
              "        document.querySelector('#df-6a14f3e3-589f-4ed5-8c8a-be9b9e868a84 button');\n",
              "      quickchartButtonEl.style.display =\n",
              "        google.colab.kernel.accessAllowed ? 'block' : 'none';\n",
              "    })();\n",
              "  </script>\n",
              "</div>\n",
              "    </div>\n",
              "  </div>\n"
            ]
          },
          "metadata": {},
          "execution_count": 25
        }
      ]
    },
    {
      "cell_type": "code",
      "source": [
        "fifa24.isnull().sum()"
      ],
      "metadata": {
        "colab": {
          "base_uri": "https://localhost:8080/"
        },
        "id": "NBaIC8ZMFQAR",
        "outputId": "f90126e2-d551-430f-88fa-fb370514fce9"
      },
      "execution_count": 26,
      "outputs": [
        {
          "output_type": "execute_result",
          "data": {
            "text/plain": [
              "name               0\n",
              "age                0\n",
              "nationality        0\n",
              "overall            0\n",
              "potential          0\n",
              "club             106\n",
              "positions          0\n",
              "best_position      0\n",
              "valueEUR         173\n",
              "salary           106\n",
              "dtype: int64"
            ]
          },
          "metadata": {},
          "execution_count": 26
        }
      ]
    },
    {
      "cell_type": "code",
      "source": [
        "fifa24.isna().sum()"
      ],
      "metadata": {
        "colab": {
          "base_uri": "https://localhost:8080/"
        },
        "id": "F9WKHyXGFW-6",
        "outputId": "50db018c-b3ea-404a-d96d-ffd069c5439f"
      },
      "execution_count": 27,
      "outputs": [
        {
          "output_type": "execute_result",
          "data": {
            "text/plain": [
              "name               0\n",
              "age                0\n",
              "nationality        0\n",
              "overall            0\n",
              "potential          0\n",
              "club             106\n",
              "positions          0\n",
              "best_position      0\n",
              "valueEUR         173\n",
              "salary           106\n",
              "dtype: int64"
            ]
          },
          "metadata": {},
          "execution_count": 27
        }
      ]
    },
    {
      "cell_type": "markdown",
      "source": [
        "## Univariate Exploration"
      ],
      "metadata": {
        "id": "6rrecYDJZBMx"
      }
    },
    {
      "cell_type": "code",
      "source": [
        "def x_y_t(xaxis, yaxis, title):\n",
        "    #this function contains graph titles\n",
        "    plt.xlabel(xaxis)\n",
        "    plt.ylabel(yaxis)\n",
        "    plt.title(title)"
      ],
      "metadata": {
        "id": "d3Q_opKlZIM7"
      },
      "execution_count": 28,
      "outputs": []
    },
    {
      "cell_type": "markdown",
      "source": [
        "### Potential rating"
      ],
      "metadata": {
        "id": "2IgORORVZ4x3"
      }
    },
    {
      "cell_type": "code",
      "source": [
        "#Potential rating\n",
        "plt.figure(figsize=(16,8))\n",
        "\n",
        "bins = np.arange(fifa24['potential'].min()-1, fifa24['potential'].max()-1, 1)\n",
        "plt.hist(data = fifa24, x = 'potential', bins=bins);\n",
        "sb.set_style(\"whitegrid\")\n",
        "x_y_t('Potential Rating', 'count', 'Potential Rating Distribution')"
      ],
      "metadata": {
        "colab": {
          "base_uri": "https://localhost:8080/",
          "height": 407
        },
        "id": "cU7LNaBnZ2eU",
        "outputId": "d42d2384-19d8-4840-b646-5580ead2711d"
      },
      "execution_count": 29,
      "outputs": [
        {
          "output_type": "display_data",
          "data": {
            "text/plain": [
              "<Figure size 1600x800 with 1 Axes>"
            ],
            "image/png": "[encoded data removed]"
          },
          "metadata": {}
        }
      ]
    },
    {
      "cell_type": "code",
      "source": [
        "#overall\n",
        "plt.figure(figsize=(16,8))\n",
        "\n",
        "bins = np.arange(fifa24['overall'].min()-1, fifa24['overall'].max()-1, 1)\n",
        "plt.hist(data = fifa24, x = 'overall', bins=bins);\n",
        "sb.set_style(\"whitegrid\")\n",
        "x_y_t('Overall Rating', 'count', 'Overall Rating Distribution')"
      ],
      "metadata": {
        "colab": {
          "base_uri": "https://localhost:8080/",
          "height": 407
        },
        "id": "IKZQ5lvsslJb",
        "outputId": "48a350f2-508f-4c38-da27-fe0c4d6e1f1f"
      },
      "execution_count": 30,
      "outputs": [
        {
          "output_type": "display_data",
          "data": {
            "text/plain": [
              "<Figure size 1600x800 with 1 Axes>"
            ],
            "image/png": "[encoded data removed]"
          },
          "metadata": {}
        }
      ]
    },
    {
      "cell_type": "code",
      "source": [
        "fifa24['best_position']"
      ],
      "metadata": {
        "colab": {
          "base_uri": "https://localhost:8080/"
        },
        "id": "FHkBmMlW68Lo",
        "outputId": "a199a89b-9011-47fa-d6df-14fb924e009f"
      },
      "execution_count": 31,
      "outputs": [
        {
          "output_type": "execute_result",
          "data": {
            "text/plain": [
              "0       LM\n",
              "1       CM\n",
              "2       RM\n",
              "3       GK\n",
              "4       CM\n",
              "        ..\n",
              "8329    LM\n",
              "8330    GK\n",
              "8331    GK\n",
              "8332    GK\n",
              "8333    RB\n",
              "Name: best_position, Length: 8334, dtype: object"
            ]
          },
          "metadata": {},
          "execution_count": 31
        }
      ]
    },
    {
      "cell_type": "code",
      "source": [
        "#Best Position\n",
        "plt.figure(figsize=(16,8))\n",
        "default_color = sb.color_palette()[0]\n",
        "sb.countplot(data = fifa24,  x = 'best_position' ,color = default_color, order = fifa24['best_position'].value_counts().index)\n",
        "x_y_t('Best Position', 'count', 'Best Position Distribution')\n",
        "plt.show()"
      ],
      "metadata": {
        "colab": {
          "base_uri": "https://localhost:8080/",
          "height": 404
        },
        "id": "yCCIIzmfs7gO",
        "outputId": "044bc39f-9c8d-4d25-ea90-8b6930406330"
      },
      "execution_count": 32,
      "outputs": [
        {
          "output_type": "display_data",
          "data": {
            "text/plain": [
              "<Figure size 1600x800 with 1 Axes>"
            ],
            "image/png": "[encoded data removed]"
          },
          "metadata": {}
        }
      ]
    },
    {
      "cell_type": "markdown",
      "source": [
        "* Clearly the ratings(Overall and Potential) follow a unimodal normal distribution. The Potential rating peaked about 69 while the Overall peaked around 65.\n",
        "* A large percentage of the players are central backs (CB).\n",
        "* Players are very centralized in Europe. To be precise, England, Germany, Spain, and France."
      ],
      "metadata": {
        "id": "kHYvP4viE2qJ"
      }
    },
    {
      "cell_type": "code",
      "source": [
        "# Nationality\n",
        "\n",
        "# Grouping the data by countries\n",
        "\n",
        "nation = fifa24.groupby(\"nationality\").size().reset_index(name=\"count\")"
      ],
      "metadata": {
        "id": "boYRr1ltuicg"
      },
      "execution_count": 33,
      "outputs": []
    },
    {
      "cell_type": "code",
      "source": [
        "nation"
      ],
      "metadata": {
        "colab": {
          "base_uri": "https://localhost:8080/",
          "height": 423
        },
        "id": "ixLL-FY4vvas",
        "outputId": "5a1dd01f-8d35-47ef-fb81-e8111f165771"
      },
      "execution_count": 34,
      "outputs": [
        {
          "output_type": "execute_result",
          "data": {
            "text/plain": [
              "             nationality  count\n",
              "0                Albania     20\n",
              "1                Algeria     25\n",
              "2                 Angola      3\n",
              "3    Antigua and Barbuda      2\n",
              "4              Argentina    330\n",
              "..                   ...    ...\n",
              "134           Uzbekistan      5\n",
              "135            Venezuela     18\n",
              "136                Wales     71\n",
              "137               Zambia      2\n",
              "138             Zimbabwe      4\n",
              "\n",
              "[139 rows x 2 columns]"
            ],
            "text/html": [
              "\n",
              "  <div id=\"df-822911ba-73d2-44e6-a47e-7721a8faf6c9\" class=\"colab-df-container\">\n",
              "    <div>\n",
              "<style scoped>\n",
              "    .dataframe tbody tr th:only-of-type {\n",
              "        vertical-align: middle;\n",
              "    }\n",
              "\n",
              "    .dataframe tbody tr th {\n",
              "        vertical-align: top;\n",
              "    }\n",
              "\n",
              "    .dataframe thead th {\n",
              "        text-align: right;\n",
              "    }\n",
              "</style>\n",
              "<table border=\"1\" class=\"dataframe\">\n",
              "  <thead>\n",
              "    <tr style=\"text-align: right;\">\n",
              "      <th></th>\n",
              "      <th>nationality</th>\n",
              "      <th>count</th>\n",
              "    </tr>\n",
              "  </thead>\n",
              "  <tbody>\n",
              "    <tr>\n",
              "      <th>0</th>\n",
              "      <td>Albania</td>\n",
              "      <td>20</td>\n",
              "    </tr>\n",
              "    <tr>\n",
              "      <th>1</th>\n",
              "      <td>Algeria</td>\n",
              "      <td>25</td>\n",
              "    </tr>\n",
              "    <tr>\n",
              "      <th>2</th>\n",
              "      <td>Angola</td>\n",
              "      <td>3</td>\n",
              "    </tr>\n",
              "    <tr>\n",
              "      <th>3</th>\n",
              "      <td>Antigua and Barbuda</td>\n",
              "      <td>2</td>\n",
              "    </tr>\n",
              "    <tr>\n",
              "      <th>4</th>\n",
              "      <td>Argentina</td>\n",
              "      <td>330</td>\n",
              "    </tr>\n",
              "    <tr>\n",
              "      <th>...</th>\n",
              "      <td>...</td>\n",
              "      <td>...</td>\n",
              "    </tr>\n",
              "    <tr>\n",
              "      <th>134</th>\n",
              "      <td>Uzbekistan</td>\n",
              "      <td>5</td>\n",
              "    </tr>\n",
              "    <tr>\n",
              "      <th>135</th>\n",
              "      <td>Venezuela</td>\n",
              "      <td>18</td>\n",
              "    </tr>\n",
              "    <tr>\n",
              "      <th>136</th>\n",
              "      <td>Wales</td>\n",
              "      <td>71</td>\n",
              "    </tr>\n",
              "    <tr>\n",
              "      <th>137</th>\n",
              "      <td>Zambia</td>\n",
              "      <td>2</td>\n",
              "    </tr>\n",
              "    <tr>\n",
              "      <th>138</th>\n",
              "      <td>Zimbabwe</td>\n",
              "      <td>4</td>\n",
              "    </tr>\n",
              "  </tbody>\n",
              "</table>\n",
              "<p>139 rows × 2 columns</p>\n",
              "</div>\n",
              "    <div class=\"colab-df-buttons\">\n",
              "\n",
              "  <div class=\"colab-df-container\">\n",
              "    <button class=\"colab-df-convert\" onclick=\"convertToInteractive('df-822911ba-73d2-44e6-a47e-7721a8faf6c9')\"\n",
              "            title=\"Convert this dataframe to an interactive table.\"\n",
              "            style=\"display:none;\">\n",
              "\n",
              "  <svg xmlns=\"http://www.w3.org/2000/svg\" height=\"24px\" viewBox=\"0 -960 960 960\">\n",
              "    <path d=\"M120-120v-720h720v720H120Zm60-500h600v-160H180v160Zm220 220h160v-160H400v160Zm0 220h160v-160H400v160ZM180-400h160v-160H180v160Zm440 0h160v-160H620v160ZM180-180h160v-160H180v160Zm440 0h160v-160H620v160Z\"/>\n",
              "  </svg>\n",
              "    </button>\n",
              "\n",
              "  <style>\n",
              "    .colab-df-container {\n",
              "      display:flex;\n",
              "      gap: 12px;\n",
              "    }\n",
              "\n",
              "    .colab-df-convert {\n",
              "      background-color: #E8F0FE;\n",
              "      border: none;\n",
              "      border-radius: 50%;\n",
              "      cursor: pointer;\n",
              "      display: none;\n",
              "      fill: #1967D2;\n",
              "      height: 32px;\n",
              "      padding: 0 0 0 0;\n",
              "      width: 32px;\n",
              "    }\n",
              "\n",
              "    .colab-df-convert:hover {\n",
              "      background-color: #E2EBFA;\n",
              "      box-shadow: 0px 1px 2px rgba(60, 64, 67, 0.3), 0px 1px 3px 1px rgba(60, 64, 67, 0.15);\n",
              "      fill: #174EA6;\n",
              "    }\n",
              "\n",
              "    .colab-df-buttons div {\n",
              "      margin-bottom: 4px;\n",
              "    }\n",
              "\n",
              "    [theme=dark] .colab-df-convert {\n",
              "      background-color: #3B4455;\n",
              "      fill: #D2E3FC;\n",
              "    }\n",
              "\n",
              "    [theme=dark] .colab-df-convert:hover {\n",
              "      background-color: #434B5C;\n",
              "      box-shadow: 0px 1px 3px 1px rgba(0, 0, 0, 0.15);\n",
              "      filter: drop-shadow(0px 1px 2px rgba(0, 0, 0, 0.3));\n",
              "      fill: #FFFFFF;\n",
              "    }\n",
              "  </style>\n",
              "\n",
              "    <script>\n",
              "      const buttonEl =\n",
              "        document.querySelector('#df-822911ba-73d2-44e6-a47e-7721a8faf6c9 button.colab-df-convert');\n",
              "      buttonEl.style.display =\n",
              "        google.colab.kernel.accessAllowed ? 'block' : 'none';\n",
              "\n",
              "      async function convertToInteractive(key) {\n",
              "        const element = document.querySelector('#df-822911ba-73d2-44e6-a47e-7721a8faf6c9');\n",
              "        const dataTable =\n",
              "          await google.colab.kernel.invokeFunction('convertToInteractive',\n",
              "                                                    [key], {});\n",
              "        if (!dataTable) return;\n",
              "\n",
              "        const docLinkHtml = 'Like what you see? Visit the ' +\n",
              "          '<a target=\"_blank\" href=https://colab.research.google.com/notebooks/data_table.ipynb>data table notebook</a>'\n",
              "          + ' to learn more about interactive tables.';\n",
              "        element.innerHTML = '';\n",
              "        dataTable['output_type'] = 'display_data';\n",
              "        await google.colab.output.renderOutput(dataTable, element);\n",
              "        const docLink = document.createElement('div');\n",
              "        docLink.innerHTML = docLinkHtml;\n",
              "        element.appendChild(docLink);\n",
              "      }\n",
              "    </script>\n",
              "  </div>\n",
              "\n",
              "\n",
              "<div id=\"df-afd414ec-9a0e-4f38-8182-b529bbc9ef3b\">\n",
              "  <button class=\"colab-df-quickchart\" onclick=\"quickchart('df-afd414ec-9a0e-4f38-8182-b529bbc9ef3b')\"\n",
              "            title=\"Suggest charts.\"\n",
              "            style=\"display:none;\">\n",
              "\n",
              "<svg xmlns=\"http://www.w3.org/2000/svg\" height=\"24px\"viewBox=\"0 0 24 24\"\n",
              "     width=\"24px\">\n",
              "    <g>\n",
              "        <path d=\"M19 3H5c-1.1 0-2 .9-2 2v14c0 1.1.9 2 2 2h14c1.1 0 2-.9 2-2V5c0-1.1-.9-2-2-2zM9 17H7v-7h2v7zm4 0h-2V7h2v10zm4 0h-2v-4h2v4z\"/>\n",
              "    </g>\n",
              "</svg>\n",
              "  </button>\n",
              "\n",
              "<style>\n",
              "  .colab-df-quickchart {\n",
              "      --bg-color: #E8F0FE;\n",
              "      --fill-color: #1967D2;\n",
              "      --hover-bg-color: #E2EBFA;\n",
              "      --hover-fill-color: #174EA6;\n",
              "      --disabled-fill-color: #AAA;\n",
              "      --disabled-bg-color: #DDD;\n",
              "  }\n",
              "\n",
              "  [theme=dark] .colab-df-quickchart {\n",
              "      --bg-color: #3B4455;\n",
              "      --fill-color: #D2E3FC;\n",
              "      --hover-bg-color: #434B5C;\n",
              "      --hover-fill-color: #FFFFFF;\n",
              "      --disabled-bg-color: #3B4455;\n",
              "      --disabled-fill-color: #666;\n",
              "  }\n",
              "\n",
              "  .colab-df-quickchart {\n",
              "    background-color: var(--bg-color);\n",
              "    border: none;\n",
              "    border-radius: 50%;\n",
              "    cursor: pointer;\n",
              "    display: none;\n",
              "    fill: var(--fill-color);\n",
              "    height: 32px;\n",
              "    padding: 0;\n",
              "    width: 32px;\n",
              "  }\n",
              "\n",
              "  .colab-df-quickchart:hover {\n",
              "    background-color: var(--hover-bg-color);\n",
              "    box-shadow: 0 1px 2px rgba(60, 64, 67, 0.3), 0 1px 3px 1px rgba(60, 64, 67, 0.15);\n",
              "    fill: var(--button-hover-fill-color);\n",
              "  }\n",
              "\n",
              "  .colab-df-quickchart-complete:disabled,\n",
              "  .colab-df-quickchart-complete:disabled:hover {\n",
              "    background-color: var(--disabled-bg-color);\n",
              "    fill: var(--disabled-fill-color);\n",
              "    box-shadow: none;\n",
              "  }\n",
              "\n",
              "  .colab-df-spinner {\n",
              "    border: 2px solid var(--fill-color);\n",
              "    border-color: transparent;\n",
              "    border-bottom-color: var(--fill-color);\n",
              "    animation:\n",
              "      spin 1s steps(1) infinite;\n",
              "  }\n",
              "\n",
              "  @keyframes spin {\n",
              "    0% {\n",
              "      border-color: transparent;\n",
              "      border-bottom-color: var(--fill-color);\n",
              "      border-left-color: var(--fill-color);\n",
              "    }\n",
              "    20% {\n",
              "      border-color: transparent;\n",
              "      border-left-color: var(--fill-color);\n",
              "      border-top-color: var(--fill-color);\n",
              "    }\n",
              "    30% {\n",
              "      border-color: transparent;\n",
              "      border-left-color: var(--fill-color);\n",
              "      border-top-color: var(--fill-color);\n",
              "      border-right-color: var(--fill-color);\n",
              "    }\n",
              "    40% {\n",
              "      border-color: transparent;\n",
              "      border-right-color: var(--fill-color);\n",
              "      border-top-color: var(--fill-color);\n",
              "    }\n",
              "    60% {\n",
              "      border-color: transparent;\n",
              "      border-right-color: var(--fill-color);\n",
              "    }\n",
              "    80% {\n",
              "      border-color: transparent;\n",
              "      border-right-color: var(--fill-color);\n",
              "      border-bottom-color: var(--fill-color);\n",
              "    }\n",
              "    90% {\n",
              "      border-color: transparent;\n",
              "      border-bottom-color: var(--fill-color);\n",
              "    }\n",
              "  }\n",
              "</style>\n",
              "\n",
              "  <script>\n",
              "    async function quickchart(key) {\n",
              "      const quickchartButtonEl =\n",
              "        document.querySelector('#' + key + ' button');\n",
              "      quickchartButtonEl.disabled = true;  // To prevent multiple clicks.\n",
              "      quickchartButtonEl.classList.add('colab-df-spinner');\n",
              "      try {\n",
              "        const charts = await google.colab.kernel.invokeFunction(\n",
              "            'suggestCharts', [key], {});\n",
              "      } catch (error) {\n",
              "        console.error('Error during call to suggestCharts:', error);\n",
              "      }\n",
              "      quickchartButtonEl.classList.remove('colab-df-spinner');\n",
              "      quickchartButtonEl.classList.add('colab-df-quickchart-complete');\n",
              "    }\n",
              "    (() => {\n",
              "      let quickchartButtonEl =\n",
              "        document.querySelector('#df-afd414ec-9a0e-4f38-8182-b529bbc9ef3b button');\n",
              "      quickchartButtonEl.style.display =\n",
              "        google.colab.kernel.accessAllowed ? 'block' : 'none';\n",
              "    })();\n",
              "  </script>\n",
              "</div>\n",
              "    </div>\n",
              "  </div>\n"
            ]
          },
          "metadata": {},
          "execution_count": 34
        }
      ]
    },
    {
      "cell_type": "code",
      "source": [
        "# Grouping the data by countries\n",
        "valcon = fifa24.groupby(\"nationality\").size().reset_index(name=\"count\")\n",
        "\n",
        "# Plotting the choropleth map\n",
        "init_notebook_mode(connected=True)\n",
        "plotmap = [ dict(\n",
        "        type = 'choropleth',\n",
        "        locations = valcon[\"nationality\"],\n",
        "        locationmode = 'country names',\n",
        "        z = valcon[\"count\"],\n",
        "        text = valcon[\"nationality\"],\n",
        "        autocolorscale = True,\n",
        "        reversescale = False,\n",
        "        marker = dict(\n",
        "            line = dict (\n",
        "                color = 'rgb(180,180,180)',\n",
        "                width = 0.5\n",
        "            ) ),\n",
        "        colorbar = dict(\n",
        "            title = \"Amount of Players\"),\n",
        "      ) ]\n",
        "\n",
        "layout = dict(\n",
        "    title = \"Nationalities of FIFA 24 Players\",\n",
        "    geo = dict(\n",
        "        showframe = False,\n",
        "        showcoastlines = False,\n",
        "        projection = dict(\n",
        "            type = 'aitoff'\n",
        "        )\n",
        "    )\n",
        ")\n",
        "\n",
        "fig = dict( data=plotmap, layout=layout )\n",
        "iplot(fig)\n"
      ],
      "metadata": {
        "id": "cu5DcezoNRT2",
        "outputId": "88613eb3-f0d5-445f-953e-bc944367b799",
        "colab": {
          "base_uri": "https://localhost:8080/",
          "height": 542
        }
      },
      "execution_count": 95,
      "outputs": [
        {
          "output_type": "display_data",
          "data": {
            "text/html": [
              "        <script type=\"text/javascript\">\n",
              "        window.PlotlyConfig = {MathJaxConfig: 'local'};\n",
              "        if (window.MathJax && window.MathJax.Hub && window.MathJax.Hub.Config) {window.MathJax.Hub.Config({SVG: {font: \"STIX-Web\"}});}\n",
              "        if (typeof require !== 'undefined') {\n",
              "        require.undef(\"plotly\");\n",
              "        requirejs.config({\n",
              "            paths: {\n",
              "                'plotly': ['https://cdn.plot.ly/plotly-2.26.0.min']\n",
              "            }\n",
              "        });\n",
              "        require(['plotly'], function(Plotly) {\n",
              "            window._Plotly = Plotly;\n",
              "        });\n",
              "        }\n",
              "        </script>\n",
              "        "
            ]
          },
          "metadata": {}
        },
        {
          "output_type": "display_data",
          "data": {
            "application/vnd.plotly.v1+json": {
              "data": [
                {
                  "autocolorscale": true,
                  "colorbar": {
                    "title": {
                      "text": "Amount of Players"
                    }
                  },
                  "locationmode": "country names",
                  "locations": [
                    "Albania",
                    "Algeria",
                    "Angola",
                    "Antigua and Barbuda",
                    "Argentina",
                    "Armenia",
                    "Australia",
                    "Austria",
                    "Azerbaijan",
                    "Barbados",
                    "Belarus",
                    "Belgium",
                    "Benin",
                    "Bolivia",
                    "Bosnia and Herzegovina",
                    "Brazil",
                    "Bulgaria",
                    "Burkina Faso",
                    "Burundi",
                    "Cambodia",
                    "Cameroon",
                    "Canada",
                    "Cape Verde Islands",
                    "Central African Republic",
                    "Chile",
                    "Colombia",
                    "Comoros",
                    "Congo",
                    "Congo DR",
                    "Costa Rica",
                    "Croatia",
                    "Cuba",
                    "Curacao",
                    "Cyprus",
                    "Czech Republic",
                    "Côte d'Ivoire",
                    "Denmark",
                    "Ecuador",
                    "Egypt",
                    "England",
                    "Equatorial Guinea",
                    "Estonia",
                    "Faroe Islands",
                    "Fiji",
                    "Finland",
                    "France",
                    "Gabon",
                    "Gambia",
                    "Georgia",
                    "Germany",
                    "Ghana",
                    "Gibraltar",
                    "Greece",
                    "Grenada",
                    "Guam",
                    "Guatemala",
                    "Guinea",
                    "Guinea Bissau",
                    "Haiti",
                    "Honduras",
                    "Hungary",
                    "Iceland",
                    "India",
                    "Iran",
                    "Iraq",
                    "Israel",
                    "Italy",
                    "Jamaica",
                    "Japan",
                    "Jordan",
                    "Kazakhstan",
                    "Kenya",
                    "Korea DPR",
                    "Korea Republic",
                    "Kosovo",
                    "Kuwait",
                    "Latvia",
                    "Lebanon",
                    "Liberia",
                    "Libya",
                    "Liechtenstein",
                    "Lithuania",
                    "Luxembourg",
                    "Madagascar",
                    "Mali",
                    "Malta",
                    "Mexico",
                    "Moldova",
                    "Montenegro",
                    "Montserrat",
                    "Morocco",
                    "Mozambique",
                    "Netherlands",
                    "New Caledonia",
                    "New Zealand",
                    "Niger",
                    "Nigeria",
                    "North Macedonia",
                    "Northern Ireland",
                    "Norway",
                    "Oman",
                    "Palestine",
                    "Panama",
                    "Paraguay",
                    "Peru",
                    "Philippines",
                    "Poland",
                    "Portugal",
                    "Republic of Ireland",
                    "Romania",
                    "Russia",
                    "Saint Kitts and Nevis",
                    "Saudi Arabia",
                    "Scotland",
                    "Senegal",
                    "Serbia",
                    "Sierra Leone",
                    "Slovakia",
                    "Slovenia",
                    "South Africa",
                    "Spain",
                    "Suriname",
                    "Sweden",
                    "Switzerland",
                    "Syria",
                    "Thailand",
                    "Togo",
                    "Trinidad and Tobago",
                    "Tunisia",
                    "Turkey",
                    "Uganda",
                    "Ukraine",
                    "United States",
                    "Uruguay",
                    "Uzbekistan",
                    "Venezuela",
                    "Wales",
                    "Zambia",
                    "Zimbabwe"
                  ],
                  "marker": {
                    "line": {
                      "color": "rgb(180,180,180)",
                      "width": 0.5
                    }
                  },
                  "reversescale": false,
                  "text": [
                    "Albania",
                    "Algeria",
                    "Angola",
                    "Antigua and Barbuda",
                    "Argentina",
                    "Armenia",
                    "Australia",
                    "Austria",
                    "Azerbaijan",
                    "Barbados",
                    "Belarus",
                    "Belgium",
                    "Benin",
                    "Bolivia",
                    "Bosnia and Herzegovina",
                    "Brazil",
                    "Bulgaria",
                    "Burkina Faso",
                    "Burundi",
                    "Cambodia",
                    "Cameroon",
                    "Canada",
                    "Cape Verde Islands",
                    "Central African Republic",
                    "Chile",
                    "Colombia",
                    "Comoros",
                    "Congo",
                    "Congo DR",
                    "Costa Rica",
                    "Croatia",
                    "Cuba",
                    "Curacao",
                    "Cyprus",
                    "Czech Republic",
                    "Côte d'Ivoire",
                    "Denmark",
                    "Ecuador",
                    "Egypt",
                    "England",
                    "Equatorial Guinea",
                    "Estonia",
                    "Faroe Islands",
                    "Fiji",
                    "Finland",
                    "France",
                    "Gabon",
                    "Gambia",
                    "Georgia",
                    "Germany",
                    "Ghana",
                    "Gibraltar",
                    "Greece",
                    "Grenada",
                    "Guam",
                    "Guatemala",
                    "Guinea",
                    "Guinea Bissau",
                    "Haiti",
                    "Honduras",
                    "Hungary",
                    "Iceland",
                    "India",
                    "Iran",
                    "Iraq",
                    "Israel",
                    "Italy",
                    "Jamaica",
                    "Japan",
                    "Jordan",
                    "Kazakhstan",
                    "Kenya",
                    "Korea DPR",
                    "Korea Republic",
                    "Kosovo",
                    "Kuwait",
                    "Latvia",
                    "Lebanon",
                    "Liberia",
                    "Libya",
                    "Liechtenstein",
                    "Lithuania",
                    "Luxembourg",
                    "Madagascar",
                    "Mali",
                    "Malta",
                    "Mexico",
                    "Moldova",
                    "Montenegro",
                    "Montserrat",
                    "Morocco",
                    "Mozambique",
                    "Netherlands",
                    "New Caledonia",
                    "New Zealand",
                    "Niger",
                    "Nigeria",
                    "North Macedonia",
                    "Northern Ireland",
                    "Norway",
                    "Oman",
                    "Palestine",
                    "Panama",
                    "Paraguay",
                    "Peru",
                    "Philippines",
                    "Poland",
                    "Portugal",
                    "Republic of Ireland",
                    "Romania",
                    "Russia",
                    "Saint Kitts and Nevis",
                    "Saudi Arabia",
                    "Scotland",
                    "Senegal",
                    "Serbia",
                    "Sierra Leone",
                    "Slovakia",
                    "Slovenia",
                    "South Africa",
                    "Spain",
                    "Suriname",
                    "Sweden",
                    "Switzerland",
                    "Syria",
                    "Thailand",
                    "Togo",
                    "Trinidad and Tobago",
                    "Tunisia",
                    "Turkey",
                    "Uganda",
                    "Ukraine",
                    "United States",
                    "Uruguay",
                    "Uzbekistan",
                    "Venezuela",
                    "Wales",
                    "Zambia",
                    "Zimbabwe"
                  ],
                  "z": [
                    20,
                    25,
                    3,
                    2,
                    330,
                    6,
                    118,
                    138,
                    1,
                    2,
                    12,
                    166,
                    7,
                    10,
                    28,
                    269,
                    20,
                    6,
                    1,
                    1,
                    56,
                    19,
                    7,
                    4,
                    59,
                    96,
                    2,
                    7,
                    30,
                    16,
                    39,
                    1,
                    1,
                    1,
                    40,
                    51,
                    173,
                    20,
                    13,
                    941,
                    2,
                    6,
                    1,
                    1,
                    26,
                    520,
                    6,
                    7,
                    6,
                    380,
                    45,
                    1,
                    36,
                    2,
                    1,
                    1,
                    11,
                    4,
                    5,
                    12,
                    32,
                    30,
                    6,
                    4,
                    2,
                    12,
                    440,
                    31,
                    15,
                    1,
                    3,
                    2,
                    1,
                    147,
                    4,
                    1,
                    5,
                    1,
                    3,
                    1,
                    5,
                    7,
                    2,
                    2,
                    35,
                    4,
                    280,
                    7,
                    6,
                    1,
                    42,
                    3,
                    201,
                    1,
                    16,
                    1,
                    59,
                    10,
                    59,
                    180,
                    1,
                    2,
                    5,
                    23,
                    15,
                    3,
                    206,
                    181,
                    286,
                    23,
                    149,
                    2,
                    55,
                    189,
                    60,
                    68,
                    4,
                    25,
                    26,
                    33,
                    611,
                    1,
                    197,
                    127,
                    1,
                    1,
                    8,
                    8,
                    16,
                    190,
                    1,
                    15,
                    172,
                    54,
                    5,
                    18,
                    71,
                    2,
                    4
                  ],
                  "type": "choropleth"
                }
              ],
              "layout": {
                "geo": {
                  "projection": {
                    "type": "aitoff"
                  },
                  "showcoastlines": false,
                  "showframe": false
                },
                "template": {
                  "data": {
                    "barpolar": [
                      {
                        "marker": {
                          "line": {
                            "color": "#E5ECF6",
                            "width": 0.5
                          },
                          "pattern": {
                            "fillmode": "overlay",
                            "size": 10,
                            "solidity": 0.2
                          }
                        },
                        "type": "barpolar"
                      }
                    ],
                    "bar": [
                      {
                        "error_x": {
                          "color": "#2a3f5f"
                        },
                        "error_y": {
                          "color": "#2a3f5f"
                        },
                        "marker": {
                          "line": {
                            "color": "#E5ECF6",
                            "width": 0.5
                          },
                          "pattern": {
                            "fillmode": "overlay",
                            "size": 10,
                            "solidity": 0.2
                          }
                        },
                        "type": "bar"
                      }
                    ],
                    "carpet": [
                      {
                        "aaxis": {
                          "endlinecolor": "#2a3f5f",
                          "gridcolor": "white",
                          "linecolor": "white",
                          "minorgridcolor": "white",
                          "startlinecolor": "#2a3f5f"
                        },
                        "baxis": {
                          "endlinecolor": "#2a3f5f",
                          "gridcolor": "white",
                          "linecolor": "white",
                          "minorgridcolor": "white",
                          "startlinecolor": "#2a3f5f"
                        },
                        "type": "carpet"
                      }
                    ],
                    "choropleth": [
                      {
                        "colorbar": {
                          "outlinewidth": 0,
                          "ticks": ""
                        },
                        "type": "choropleth"
                      }
                    ],
                    "contourcarpet": [
                      {
                        "colorbar": {
                          "outlinewidth": 0,
                          "ticks": ""
                        },
                        "type": "contourcarpet"
                      }
                    ],
                    "contour": [
                      {
                        "colorbar": {
                          "outlinewidth": 0,
                          "ticks": ""
                        },
                        "colorscale": [
                          [
                            0,
                            "#0d0887"
                          ],
                          [
                            0.1111111111111111,
                            "#46039f"
                          ],
                          [
                            0.2222222222222222,
                            "#7201a8"
                          ],
                          [
                            0.3333333333333333,
                            "#9c179e"
                          ],
                          [
                            0.4444444444444444,
                            "#bd3786"
                          ],
                          [
                            0.5555555555555556,
                            "#d8576b"
                          ],
                          [
                            0.6666666666666666,
                            "#ed7953"
                          ],
                          [
                            0.7777777777777778,
                            "#fb9f3a"
                          ],
                          [
                            0.8888888888888888,
                            "#fdca26"
                          ],
                          [
                            1,
                            "#f0f921"
                          ]
                        ],
                        "type": "contour"
                      }
                    ],
                    "heatmapgl": [
                      {
                        "colorbar": {
                          "outlinewidth": 0,
                          "ticks": ""
                        },
                        "colorscale": [
                          [
                            0,
                            "#0d0887"
                          ],
                          [
                            0.1111111111111111,
                            "#46039f"
                          ],
                          [
                            0.2222222222222222,
                            "#7201a8"
                          ],
                          [
                            0.3333333333333333,
                            "#9c179e"
                          ],
                          [
                            0.4444444444444444,
                            "#bd3786"
                          ],
                          [
                            0.5555555555555556,
                            "#d8576b"
                          ],
                          [
                            0.6666666666666666,
                            "#ed7953"
                          ],
                          [
                            0.7777777777777778,
                            "#fb9f3a"
                          ],
                          [
                            0.8888888888888888,
                            "#fdca26"
                          ],
                          [
                            1,
                            "#f0f921"
                          ]
                        ],
                        "type": "heatmapgl"
                      }
                    ],
                    "heatmap": [
                      {
                        "colorbar": {
                          "outlinewidth": 0,
                          "ticks": ""
                        },
                        "colorscale": [
                          [
                            0,
                            "#0d0887"
                          ],
                          [
                            0.1111111111111111,
                            "#46039f"
                          ],
                          [
                            0.2222222222222222,
                            "#7201a8"
                          ],
                          [
                            0.3333333333333333,
                            "#9c179e"
                          ],
                          [
                            0.4444444444444444,
                            "#bd3786"
                          ],
                          [
                            0.5555555555555556,
                            "#d8576b"
                          ],
                          [
                            0.6666666666666666,
                            "#ed7953"
                          ],
                          [
                            0.7777777777777778,
                            "#fb9f3a"
                          ],
                          [
                            0.8888888888888888,
                            "#fdca26"
                          ],
                          [
                            1,
                            "#f0f921"
                          ]
                        ],
                        "type": "heatmap"
                      }
                    ],
                    "histogram2dcontour": [
                      {
                        "colorbar": {
                          "outlinewidth": 0,
                          "ticks": ""
                        },
                        "colorscale": [
                          [
                            0,
                            "#0d0887"
                          ],
                          [
                            0.1111111111111111,
                            "#46039f"
                          ],
                          [
                            0.2222222222222222,
                            "#7201a8"
                          ],
                          [
                            0.3333333333333333,
                            "#9c179e"
                          ],
                          [
                            0.4444444444444444,
                            "#bd3786"
                          ],
                          [
                            0.5555555555555556,
                            "#d8576b"
                          ],
                          [
                            0.6666666666666666,
                            "#ed7953"
                          ],
                          [
                            0.7777777777777778,
                            "#fb9f3a"
                          ],
                          [
                            0.8888888888888888,
                            "#fdca26"
                          ],
                          [
                            1,
                            "#f0f921"
                          ]
                        ],
                        "type": "histogram2dcontour"
                      }
                    ],
                    "histogram2d": [
                      {
                        "colorbar": {
                          "outlinewidth": 0,
                          "ticks": ""
                        },
                        "colorscale": [
                          [
                            0,
                            "#0d0887"
                          ],
                          [
                            0.1111111111111111,
                            "#46039f"
                          ],
                          [
                            0.2222222222222222,
                            "#7201a8"
                          ],
                          [
                            0.3333333333333333,
                            "#9c179e"
                          ],
                          [
                            0.4444444444444444,
                            "#bd3786"
                          ],
                          [
                            0.5555555555555556,
                            "#d8576b"
                          ],
                          [
                            0.6666666666666666,
                            "#ed7953"
                          ],
                          [
                            0.7777777777777778,
                            "#fb9f3a"
                          ],
                          [
                            0.8888888888888888,
                            "#fdca26"
                          ],
                          [
                            1,
                            "#f0f921"
                          ]
                        ],
                        "type": "histogram2d"
                      }
                    ],
                    "histogram": [
                      {
                        "marker": {
                          "pattern": {
                            "fillmode": "overlay",
                            "size": 10,
                            "solidity": 0.2
                          }
                        },
                        "type": "histogram"
                      }
                    ],
                    "mesh3d": [
                      {
                        "colorbar": {
                          "outlinewidth": 0,
                          "ticks": ""
                        },
                        "type": "mesh3d"
                      }
                    ],
                    "parcoords": [
                      {
                        "line": {
                          "colorbar": {
                            "outlinewidth": 0,
                            "ticks": ""
                          }
                        },
                        "type": "parcoords"
                      }
                    ],
                    "pie": [
                      {
                        "automargin": true,
                        "type": "pie"
                      }
                    ],
                    "scatter3d": [
                      {
                        "line": {
                          "colorbar": {
                            "outlinewidth": 0,
                            "ticks": ""
                          }
                        },
                        "marker": {
                          "colorbar": {
                            "outlinewidth": 0,
                            "ticks": ""
                          }
                        },
                        "type": "scatter3d"
                      }
                    ],
                    "scattercarpet": [
                      {
                        "marker": {
                          "colorbar": {
                            "outlinewidth": 0,
                            "ticks": ""
                          }
                        },
                        "type": "scattercarpet"
                      }
                    ],
                    "scattergeo": [
                      {
                        "marker": {
                          "colorbar": {
                            "outlinewidth": 0,
                            "ticks": ""
                          }
                        },
                        "type": "scattergeo"
                      }
                    ],
                    "scattergl": [
                      {
                        "marker": {
                          "colorbar": {
                            "outlinewidth": 0,
                            "ticks": ""
                          }
                        },
                        "type": "scattergl"
                      }
                    ],
                    "scattermapbox": [
                      {
                        "marker": {
                          "colorbar": {
                            "outlinewidth": 0,
                            "ticks": ""
                          }
                        },
                        "type": "scattermapbox"
                      }
                    ],
                    "scatterpolargl": [
                      {
                        "marker": {
                          "colorbar": {
                            "outlinewidth": 0,
                            "ticks": ""
                          }
                        },
                        "type": "scatterpolargl"
                      }
                    ],
                    "scatterpolar": [
                      {
                        "marker": {
                          "colorbar": {
                            "outlinewidth": 0,
                            "ticks": ""
                          }
                        },
                        "type": "scatterpolar"
                      }
                    ],
                    "scatter": [
                      {
                        "fillpattern": {
                          "fillmode": "overlay",
                          "size": 10,
                          "solidity": 0.2
                        },
                        "type": "scatter"
                      }
                    ],
                    "scatterternary": [
                      {
                        "marker": {
                          "colorbar": {
                            "outlinewidth": 0,
                            "ticks": ""
                          }
                        },
                        "type": "scatterternary"
                      }
                    ],
                    "surface": [
                      {
                        "colorbar": {
                          "outlinewidth": 0,
                          "ticks": ""
                        },
                        "colorscale": [
                          [
                            0,
                            "#0d0887"
                          ],
                          [
                            0.1111111111111111,
                            "#46039f"
                          ],
                          [
                            0.2222222222222222,
                            "#7201a8"
                          ],
                          [
                            0.3333333333333333,
                            "#9c179e"
                          ],
                          [
                            0.4444444444444444,
                            "#bd3786"
                          ],
                          [
                            0.5555555555555556,
                            "#d8576b"
                          ],
                          [
                            0.6666666666666666,
                            "#ed7953"
                          ],
                          [
                            0.7777777777777778,
                            "#fb9f3a"
                          ],
                          [
                            0.8888888888888888,
                            "#fdca26"
                          ],
                          [
                            1,
                            "#f0f921"
                          ]
                        ],
                        "type": "surface"
                      }
                    ],
                    "table": [
                      {
                        "cells": {
                          "fill": {
                            "color": "#EBF0F8"
                          },
                          "line": {
                            "color": "white"
                          }
                        },
                        "header": {
                          "fill": {
                            "color": "#C8D4E3"
                          },
                          "line": {
                            "color": "white"
                          }
                        },
                        "type": "table"
                      }
                    ]
                  },
                  "layout": {
                    "annotationdefaults": {
                      "arrowcolor": "#2a3f5f",
                      "arrowhead": 0,
                      "arrowwidth": 1
                    },
                    "autotypenumbers": "strict",
                    "coloraxis": {
                      "colorbar": {
                        "outlinewidth": 0,
                        "ticks": ""
                      }
                    },
                    "colorscale": {
                      "diverging": [
                        [
                          0,
                          "#8e0152"
                        ],
                        [
                          0.1,
                          "#c51b7d"
                        ],
                        [
                          0.2,
                          "#de77ae"
                        ],
                        [
                          0.3,
                          "#f1b6da"
                        ],
                        [
                          0.4,
                          "#fde0ef"
                        ],
                        [
                          0.5,
                          "#f7f7f7"
                        ],
                        [
                          0.6,
                          "#e6f5d0"
                        ],
                        [
                          0.7,
                          "#b8e186"
                        ],
                        [
                          0.8,
                          "#7fbc41"
                        ],
                        [
                          0.9,
                          "#4d9221"
                        ],
                        [
                          1,
                          "#276419"
                        ]
                      ],
                      "sequential": [
                        [
                          0,
                          "#0d0887"
                        ],
                        [
                          0.1111111111111111,
                          "#46039f"
                        ],
                        [
                          0.2222222222222222,
                          "#7201a8"
                        ],
                        [
                          0.3333333333333333,
                          "#9c179e"
                        ],
                        [
                          0.4444444444444444,
                          "#bd3786"
                        ],
                        [
                          0.5555555555555556,
                          "#d8576b"
                        ],
                        [
                          0.6666666666666666,
                          "#ed7953"
                        ],
                        [
                          0.7777777777777778,
                          "#fb9f3a"
                        ],
                        [
                          0.8888888888888888,
                          "#fdca26"
                        ],
                        [
                          1,
                          "#f0f921"
                        ]
                      ],
                      "sequentialminus": [
                        [
                          0,
                          "#0d0887"
                        ],
                        [
                          0.1111111111111111,
                          "#46039f"
                        ],
                        [
                          0.2222222222222222,
                          "#7201a8"
                        ],
                        [
                          0.3333333333333333,
                          "#9c179e"
                        ],
                        [
                          0.4444444444444444,
                          "#bd3786"
                        ],
                        [
                          0.5555555555555556,
                          "#d8576b"
                        ],
                        [
                          0.6666666666666666,
                          "#ed7953"
                        ],
                        [
                          0.7777777777777778,
                          "#fb9f3a"
                        ],
                        [
                          0.8888888888888888,
                          "#fdca26"
                        ],
                        [
                          1,
                          "#f0f921"
                        ]
                      ]
                    },
                    "colorway": [
                      "#636efa",
                      "#EF553B",
                      "#00cc96",
                      "#ab63fa",
                      "#FFA15A",
                      "#19d3f3",
                      "#FF6692",
                      "#B6E880",
                      "#FF97FF",
                      "#FECB52"
                    ],
                    "font": {
                      "color": "#2a3f5f"
                    },
                    "geo": {
                      "bgcolor": "white",
                      "lakecolor": "white",
                      "landcolor": "#E5ECF6",
                      "showlakes": true,
                      "showland": true,
                      "subunitcolor": "white"
                    },
                    "hoverlabel": {
                      "align": "left"
                    },
                    "hovermode": "closest",
                    "mapbox": {
                      "style": "light"
                    },
                    "paper_bgcolor": "white",
                    "plot_bgcolor": "#E5ECF6",
                    "polar": {
                      "angularaxis": {
                        "gridcolor": "white",
                        "linecolor": "white",
                        "ticks": ""
                      },
                      "bgcolor": "#E5ECF6",
                      "radialaxis": {
                        "gridcolor": "white",
                        "linecolor": "white",
                        "ticks": ""
                      }
                    },
                    "scene": {
                      "xaxis": {
                        "backgroundcolor": "#E5ECF6",
                        "gridcolor": "white",
                        "gridwidth": 2,
                        "linecolor": "white",
                        "showbackground": true,
                        "ticks": "",
                        "zerolinecolor": "white"
                      },
                      "yaxis": {
                        "backgroundcolor": "#E5ECF6",
                        "gridcolor": "white",
                        "gridwidth": 2,
                        "linecolor": "white",
                        "showbackground": true,
                        "ticks": "",
                        "zerolinecolor": "white"
                      },
                      "zaxis": {
                        "backgroundcolor": "#E5ECF6",
                        "gridcolor": "white",
                        "gridwidth": 2,
                        "linecolor": "white",
                        "showbackground": true,
                        "ticks": "",
                        "zerolinecolor": "white"
                      }
                    },
                    "shapedefaults": {
                      "line": {
                        "color": "#2a3f5f"
                      }
                    },
                    "ternary": {
                      "aaxis": {
                        "gridcolor": "white",
                        "linecolor": "white",
                        "ticks": ""
                      },
                      "baxis": {
                        "gridcolor": "white",
                        "linecolor": "white",
                        "ticks": ""
                      },
                      "bgcolor": "#E5ECF6",
                      "caxis": {
                        "gridcolor": "white",
                        "linecolor": "white",
                        "ticks": ""
                      }
                    },
                    "title": {
                      "x": 0.05
                    },
                    "xaxis": {
                      "automargin": true,
                      "gridcolor": "white",
                      "linecolor": "white",
                      "ticks": "",
                      "title": {
                        "standoff": 15
                      },
                      "zerolinecolor": "white",
                      "zerolinewidth": 2
                    },
                    "yaxis": {
                      "automargin": true,
                      "gridcolor": "white",
                      "linecolor": "white",
                      "ticks": "",
                      "title": {
                        "standoff": 15
                      },
                      "zerolinecolor": "white",
                      "zerolinewidth": 2
                    }
                  }
                },
                "title": {
                  "text": "Nationalities of FIFA 24 Players"
                }
              },
              "config": {
                "showLink": false,
                "linkText": "Export to plot.ly",
                "plotlyServerURL": "https://plot.ly"
              }
            },
            "text/html": [
              "<div>                            <div id=\"d5152fec-f66c-47b1-b9b5-803ace1e6198\" class=\"plotly-graph-div\" style=\"height:525px; width:100%;\"></div>            <script type=\"text/javascript\">                require([\"plotly\"], function(Plotly) {                    window.PLOTLYENV=window.PLOTLYENV || {};                                    if (document.getElementById(\"d5152fec-f66c-47b1-b9b5-803ace1e6198\")) {                    Plotly.newPlot(                        \"d5152fec-f66c-47b1-b9b5-803ace1e6198\",                        [{\"autocolorscale\":true,\"colorbar\":{\"title\":{\"text\":\"Amount of Players\"}},\"locationmode\":\"country names\",\"locations\":[\"Albania\",\"Algeria\",\"Angola\",\"Antigua and Barbuda\",\"Argentina\",\"Armenia\",\"Australia\",\"Austria\",\"Azerbaijan\",\"Barbados\",\"Belarus\",\"Belgium\",\"Benin\",\"Bolivia\",\"Bosnia and Herzegovina\",\"Brazil\",\"Bulgaria\",\"Burkina Faso\",\"Burundi\",\"Cambodia\",\"Cameroon\",\"Canada\",\"Cape Verde Islands\",\"Central African Republic\",\"Chile\",\"Colombia\",\"Comoros\",\"Congo\",\"Congo DR\",\"Costa Rica\",\"Croatia\",\"Cuba\",\"Curacao\",\"Cyprus\",\"Czech Republic\",\"C\\u00f4te d'Ivoire\",\"Denmark\",\"Ecuador\",\"Egypt\",\"England\",\"Equatorial Guinea\",\"Estonia\",\"Faroe Islands\",\"Fiji\",\"Finland\",\"France\",\"Gabon\",\"Gambia\",\"Georgia\",\"Germany\",\"Ghana\",\"Gibraltar\",\"Greece\",\"Grenada\",\"Guam\",\"Guatemala\",\"Guinea\",\"Guinea Bissau\",\"Haiti\",\"Honduras\",\"Hungary\",\"Iceland\",\"India\",\"Iran\",\"Iraq\",\"Israel\",\"Italy\",\"Jamaica\",\"Japan\",\"Jordan\",\"Kazakhstan\",\"Kenya\",\"Korea DPR\",\"Korea Republic\",\"Kosovo\",\"Kuwait\",\"Latvia\",\"Lebanon\",\"Liberia\",\"Libya\",\"Liechtenstein\",\"Lithuania\",\"Luxembourg\",\"Madagascar\",\"Mali\",\"Malta\",\"Mexico\",\"Moldova\",\"Montenegro\",\"Montserrat\",\"Morocco\",\"Mozambique\",\"Netherlands\",\"New Caledonia\",\"New Zealand\",\"Niger\",\"Nigeria\",\"North Macedonia\",\"Northern Ireland\",\"Norway\",\"Oman\",\"Palestine\",\"Panama\",\"Paraguay\",\"Peru\",\"Philippines\",\"Poland\",\"Portugal\",\"Republic of Ireland\",\"Romania\",\"Russia\",\"Saint Kitts and Nevis\",\"Saudi Arabia\",\"Scotland\",\"Senegal\",\"Serbia\",\"Sierra Leone\",\"Slovakia\",\"Slovenia\",\"South Africa\",\"Spain\",\"Suriname\",\"Sweden\",\"Switzerland\",\"Syria\",\"Thailand\",\"Togo\",\"Trinidad and Tobago\",\"Tunisia\",\"Turkey\",\"Uganda\",\"Ukraine\",\"United States\",\"Uruguay\",\"Uzbekistan\",\"Venezuela\",\"Wales\",\"Zambia\",\"Zimbabwe\"],\"marker\":{\"line\":{\"color\":\"rgb(180,180,180)\",\"width\":0.5}},\"reversescale\":false,\"text\":[\"Albania\",\"Algeria\",\"Angola\",\"Antigua and Barbuda\",\"Argentina\",\"Armenia\",\"Australia\",\"Austria\",\"Azerbaijan\",\"Barbados\",\"Belarus\",\"Belgium\",\"Benin\",\"Bolivia\",\"Bosnia and Herzegovina\",\"Brazil\",\"Bulgaria\",\"Burkina Faso\",\"Burundi\",\"Cambodia\",\"Cameroon\",\"Canada\",\"Cape Verde Islands\",\"Central African Republic\",\"Chile\",\"Colombia\",\"Comoros\",\"Congo\",\"Congo DR\",\"Costa Rica\",\"Croatia\",\"Cuba\",\"Curacao\",\"Cyprus\",\"Czech Republic\",\"C\\u00f4te d'Ivoire\",\"Denmark\",\"Ecuador\",\"Egypt\",\"England\",\"Equatorial Guinea\",\"Estonia\",\"Faroe Islands\",\"Fiji\",\"Finland\",\"France\",\"Gabon\",\"Gambia\",\"Georgia\",\"Germany\",\"Ghana\",\"Gibraltar\",\"Greece\",\"Grenada\",\"Guam\",\"Guatemala\",\"Guinea\",\"Guinea Bissau\",\"Haiti\",\"Honduras\",\"Hungary\",\"Iceland\",\"India\",\"Iran\",\"Iraq\",\"Israel\",\"Italy\",\"Jamaica\",\"Japan\",\"Jordan\",\"Kazakhstan\",\"Kenya\",\"Korea DPR\",\"Korea Republic\",\"Kosovo\",\"Kuwait\",\"Latvia\",\"Lebanon\",\"Liberia\",\"Libya\",\"Liechtenstein\",\"Lithuania\",\"Luxembourg\",\"Madagascar\",\"Mali\",\"Malta\",\"Mexico\",\"Moldova\",\"Montenegro\",\"Montserrat\",\"Morocco\",\"Mozambique\",\"Netherlands\",\"New Caledonia\",\"New Zealand\",\"Niger\",\"Nigeria\",\"North Macedonia\",\"Northern Ireland\",\"Norway\",\"Oman\",\"Palestine\",\"Panama\",\"Paraguay\",\"Peru\",\"Philippines\",\"Poland\",\"Portugal\",\"Republic of Ireland\",\"Romania\",\"Russia\",\"Saint Kitts and Nevis\",\"Saudi Arabia\",\"Scotland\",\"Senegal\",\"Serbia\",\"Sierra Leone\",\"Slovakia\",\"Slovenia\",\"South Africa\",\"Spain\",\"Suriname\",\"Sweden\",\"Switzerland\",\"Syria\",\"Thailand\",\"Togo\",\"Trinidad and Tobago\",\"Tunisia\",\"Turkey\",\"Uganda\",\"Ukraine\",\"United States\",\"Uruguay\",\"Uzbekistan\",\"Venezuela\",\"Wales\",\"Zambia\",\"Zimbabwe\"],\"z\":[20,25,3,2,330,6,118,138,1,2,12,166,7,10,28,269,20,6,1,1,56,19,7,4,59,96,2,7,30,16,39,1,1,1,40,51,173,20,13,941,2,6,1,1,26,520,6,7,6,380,45,1,36,2,1,1,11,4,5,12,32,30,6,4,2,12,440,31,15,1,3,2,1,147,4,1,5,1,3,1,5,7,2,2,35,4,280,7,6,1,42,3,201,1,16,1,59,10,59,180,1,2,5,23,15,3,206,181,286,23,149,2,55,189,60,68,4,25,26,33,611,1,197,127,1,1,8,8,16,190,1,15,172,54,5,18,71,2,4],\"type\":\"choropleth\"}],                        {\"geo\":{\"projection\":{\"type\":\"aitoff\"},\"showcoastlines\":false,\"showframe\":false},\"template\":{\"data\":{\"barpolar\":[{\"marker\":{\"line\":{\"color\":\"#E5ECF6\",\"width\":0.5},\"pattern\":{\"fillmode\":\"overlay\",\"size\":10,\"solidity\":0.2}},\"type\":\"barpolar\"}],\"bar\":[{\"error_x\":{\"color\":\"#2a3f5f\"},\"error_y\":{\"color\":\"#2a3f5f\"},\"marker\":{\"line\":{\"color\":\"#E5ECF6\",\"width\":0.5},\"pattern\":{\"fillmode\":\"overlay\",\"size\":10,\"solidity\":0.2}},\"type\":\"bar\"}],\"carpet\":[{\"aaxis\":{\"endlinecolor\":\"#2a3f5f\",\"gridcolor\":\"white\",\"linecolor\":\"white\",\"minorgridcolor\":\"white\",\"startlinecolor\":\"#2a3f5f\"},\"baxis\":{\"endlinecolor\":\"#2a3f5f\",\"gridcolor\":\"white\",\"linecolor\":\"white\",\"minorgridcolor\":\"white\",\"startlinecolor\":\"#2a3f5f\"},\"type\":\"carpet\"}],\"choropleth\":[{\"colorbar\":{\"outlinewidth\":0,\"ticks\":\"\"},\"type\":\"choropleth\"}],\"contourcarpet\":[{\"colorbar\":{\"outlinewidth\":0,\"ticks\":\"\"},\"type\":\"contourcarpet\"}],\"contour\":[{\"colorbar\":{\"outlinewidth\":0,\"ticks\":\"\"},\"colorscale\":[[0.0,\"#0d0887\"],[0.1111111111111111,\"#46039f\"],[0.2222222222222222,\"#7201a8\"],[0.3333333333333333,\"#9c179e\"],[0.4444444444444444,\"#bd3786\"],[0.5555555555555556,\"#d8576b\"],[0.6666666666666666,\"#ed7953\"],[0.7777777777777778,\"#fb9f3a\"],[0.8888888888888888,\"#fdca26\"],[1.0,\"#f0f921\"]],\"type\":\"contour\"}],\"heatmapgl\":[{\"colorbar\":{\"outlinewidth\":0,\"ticks\":\"\"},\"colorscale\":[[0.0,\"#0d0887\"],[0.1111111111111111,\"#46039f\"],[0.2222222222222222,\"#7201a8\"],[0.3333333333333333,\"#9c179e\"],[0.4444444444444444,\"#bd3786\"],[0.5555555555555556,\"#d8576b\"],[0.6666666666666666,\"#ed7953\"],[0.7777777777777778,\"#fb9f3a\"],[0.8888888888888888,\"#fdca26\"],[1.0,\"#f0f921\"]],\"type\":\"heatmapgl\"}],\"heatmap\":[{\"colorbar\":{\"outlinewidth\":0,\"ticks\":\"\"},\"colorscale\":[[0.0,\"#0d0887\"],[0.1111111111111111,\"#46039f\"],[0.2222222222222222,\"#7201a8\"],[0.3333333333333333,\"#9c179e\"],[0.4444444444444444,\"#bd3786\"],[0.5555555555555556,\"#d8576b\"],[0.6666666666666666,\"#ed7953\"],[0.7777777777777778,\"#fb9f3a\"],[0.8888888888888888,\"#fdca26\"],[1.0,\"#f0f921\"]],\"type\":\"heatmap\"}],\"histogram2dcontour\":[{\"colorbar\":{\"outlinewidth\":0,\"ticks\":\"\"},\"colorscale\":[[0.0,\"#0d0887\"],[0.1111111111111111,\"#46039f\"],[0.2222222222222222,\"#7201a8\"],[0.3333333333333333,\"#9c179e\"],[0.4444444444444444,\"#bd3786\"],[0.5555555555555556,\"#d8576b\"],[0.6666666666666666,\"#ed7953\"],[0.7777777777777778,\"#fb9f3a\"],[0.8888888888888888,\"#fdca26\"],[1.0,\"#f0f921\"]],\"type\":\"histogram2dcontour\"}],\"histogram2d\":[{\"colorbar\":{\"outlinewidth\":0,\"ticks\":\"\"},\"colorscale\":[[0.0,\"#0d0887\"],[0.1111111111111111,\"#46039f\"],[0.2222222222222222,\"#7201a8\"],[0.3333333333333333,\"#9c179e\"],[0.4444444444444444,\"#bd3786\"],[0.5555555555555556,\"#d8576b\"],[0.6666666666666666,\"#ed7953\"],[0.7777777777777778,\"#fb9f3a\"],[0.8888888888888888,\"#fdca26\"],[1.0,\"#f0f921\"]],\"type\":\"histogram2d\"}],\"histogram\":[{\"marker\":{\"pattern\":{\"fillmode\":\"overlay\",\"size\":10,\"solidity\":0.2}},\"type\":\"histogram\"}],\"mesh3d\":[{\"colorbar\":{\"outlinewidth\":0,\"ticks\":\"\"},\"type\":\"mesh3d\"}],\"parcoords\":[{\"line\":{\"colorbar\":{\"outlinewidth\":0,\"ticks\":\"\"}},\"type\":\"parcoords\"}],\"pie\":[{\"automargin\":true,\"type\":\"pie\"}],\"scatter3d\":[{\"line\":{\"colorbar\":{\"outlinewidth\":0,\"ticks\":\"\"}},\"marker\":{\"colorbar\":{\"outlinewidth\":0,\"ticks\":\"\"}},\"type\":\"scatter3d\"}],\"scattercarpet\":[{\"marker\":{\"colorbar\":{\"outlinewidth\":0,\"ticks\":\"\"}},\"type\":\"scattercarpet\"}],\"scattergeo\":[{\"marker\":{\"colorbar\":{\"outlinewidth\":0,\"ticks\":\"\"}},\"type\":\"scattergeo\"}],\"scattergl\":[{\"marker\":{\"colorbar\":{\"outlinewidth\":0,\"ticks\":\"\"}},\"type\":\"scattergl\"}],\"scattermapbox\":[{\"marker\":{\"colorbar\":{\"outlinewidth\":0,\"ticks\":\"\"}},\"type\":\"scattermapbox\"}],\"scatterpolargl\":[{\"marker\":{\"colorbar\":{\"outlinewidth\":0,\"ticks\":\"\"}},\"type\":\"scatterpolargl\"}],\"scatterpolar\":[{\"marker\":{\"colorbar\":{\"outlinewidth\":0,\"ticks\":\"\"}},\"type\":\"scatterpolar\"}],\"scatter\":[{\"fillpattern\":{\"fillmode\":\"overlay\",\"size\":10,\"solidity\":0.2},\"type\":\"scatter\"}],\"scatterternary\":[{\"marker\":{\"colorbar\":{\"outlinewidth\":0,\"ticks\":\"\"}},\"type\":\"scatterternary\"}],\"surface\":[{\"colorbar\":{\"outlinewidth\":0,\"ticks\":\"\"},\"colorscale\":[[0.0,\"#0d0887\"],[0.1111111111111111,\"#46039f\"],[0.2222222222222222,\"#7201a8\"],[0.3333333333333333,\"#9c179e\"],[0.4444444444444444,\"#bd3786\"],[0.5555555555555556,\"#d8576b\"],[0.6666666666666666,\"#ed7953\"],[0.7777777777777778,\"#fb9f3a\"],[0.8888888888888888,\"#fdca26\"],[1.0,\"#f0f921\"]],\"type\":\"surface\"}],\"table\":[{\"cells\":{\"fill\":{\"color\":\"#EBF0F8\"},\"line\":{\"color\":\"white\"}},\"header\":{\"fill\":{\"color\":\"#C8D4E3\"},\"line\":{\"color\":\"white\"}},\"type\":\"table\"}]},\"layout\":{\"annotationdefaults\":{\"arrowcolor\":\"#2a3f5f\",\"arrowhead\":0,\"arrowwidth\":1},\"autotypenumbers\":\"strict\",\"coloraxis\":{\"colorbar\":{\"outlinewidth\":0,\"ticks\":\"\"}},\"colorscale\":{\"diverging\":[[0,\"#8e0152\"],[0.1,\"#c51b7d\"],[0.2,\"#de77ae\"],[0.3,\"#f1b6da\"],[0.4,\"#fde0ef\"],[0.5,\"#f7f7f7\"],[0.6,\"#e6f5d0\"],[0.7,\"#b8e186\"],[0.8,\"#7fbc41\"],[0.9,\"#4d9221\"],[1,\"#276419\"]],\"sequential\":[[0.0,\"#0d0887\"],[0.1111111111111111,\"#46039f\"],[0.2222222222222222,\"#7201a8\"],[0.3333333333333333,\"#9c179e\"],[0.4444444444444444,\"#bd3786\"],[0.5555555555555556,\"#d8576b\"],[0.6666666666666666,\"#ed7953\"],[0.7777777777777778,\"#fb9f3a\"],[0.8888888888888888,\"#fdca26\"],[1.0,\"#f0f921\"]],\"sequentialminus\":[[0.0,\"#0d0887\"],[0.1111111111111111,\"#46039f\"],[0.2222222222222222,\"#7201a8\"],[0.3333333333333333,\"#9c179e\"],[0.4444444444444444,\"#bd3786\"],[0.5555555555555556,\"#d8576b\"],[0.6666666666666666,\"#ed7953\"],[0.7777777777777778,\"#fb9f3a\"],[0.8888888888888888,\"#fdca26\"],[1.0,\"#f0f921\"]]},\"colorway\":[\"#636efa\",\"#EF553B\",\"#00cc96\",\"#ab63fa\",\"#FFA15A\",\"#19d3f3\",\"#FF6692\",\"#B6E880\",\"#FF97FF\",\"#FECB52\"],\"font\":{\"color\":\"#2a3f5f\"},\"geo\":{\"bgcolor\":\"white\",\"lakecolor\":\"white\",\"landcolor\":\"#E5ECF6\",\"showlakes\":true,\"showland\":true,\"subunitcolor\":\"white\"},\"hoverlabel\":{\"align\":\"left\"},\"hovermode\":\"closest\",\"mapbox\":{\"style\":\"light\"},\"paper_bgcolor\":\"white\",\"plot_bgcolor\":\"#E5ECF6\",\"polar\":{\"angularaxis\":{\"gridcolor\":\"white\",\"linecolor\":\"white\",\"ticks\":\"\"},\"bgcolor\":\"#E5ECF6\",\"radialaxis\":{\"gridcolor\":\"white\",\"linecolor\":\"white\",\"ticks\":\"\"}},\"scene\":{\"xaxis\":{\"backgroundcolor\":\"#E5ECF6\",\"gridcolor\":\"white\",\"gridwidth\":2,\"linecolor\":\"white\",\"showbackground\":true,\"ticks\":\"\",\"zerolinecolor\":\"white\"},\"yaxis\":{\"backgroundcolor\":\"#E5ECF6\",\"gridcolor\":\"white\",\"gridwidth\":2,\"linecolor\":\"white\",\"showbackground\":true,\"ticks\":\"\",\"zerolinecolor\":\"white\"},\"zaxis\":{\"backgroundcolor\":\"#E5ECF6\",\"gridcolor\":\"white\",\"gridwidth\":2,\"linecolor\":\"white\",\"showbackground\":true,\"ticks\":\"\",\"zerolinecolor\":\"white\"}},\"shapedefaults\":{\"line\":{\"color\":\"#2a3f5f\"}},\"ternary\":{\"aaxis\":{\"gridcolor\":\"white\",\"linecolor\":\"white\",\"ticks\":\"\"},\"baxis\":{\"gridcolor\":\"white\",\"linecolor\":\"white\",\"ticks\":\"\"},\"bgcolor\":\"#E5ECF6\",\"caxis\":{\"gridcolor\":\"white\",\"linecolor\":\"white\",\"ticks\":\"\"}},\"title\":{\"x\":0.05},\"xaxis\":{\"automargin\":true,\"gridcolor\":\"white\",\"linecolor\":\"white\",\"ticks\":\"\",\"title\":{\"standoff\":15},\"zerolinecolor\":\"white\",\"zerolinewidth\":2},\"yaxis\":{\"automargin\":true,\"gridcolor\":\"white\",\"linecolor\":\"white\",\"ticks\":\"\",\"title\":{\"standoff\":15},\"zerolinecolor\":\"white\",\"zerolinewidth\":2}}},\"title\":{\"text\":\"Nationalities of FIFA 24 Players\"}},                        {\"responsive\": true}                    ).then(function(){\n",
              "                            \n",
              "var gd = document.getElementById('d5152fec-f66c-47b1-b9b5-803ace1e6198');\n",
              "var x = new MutationObserver(function (mutations, observer) {{\n",
              "        var display = window.getComputedStyle(gd).display;\n",
              "        if (!display || display === 'none') {{\n",
              "            console.log([gd, 'removed!']);\n",
              "            Plotly.purge(gd);\n",
              "            observer.disconnect();\n",
              "        }}\n",
              "}});\n",
              "\n",
              "// Listen for the removal of the full notebook cells\n",
              "var notebookContainer = gd.closest('#notebook-container');\n",
              "if (notebookContainer) {{\n",
              "    x.observe(notebookContainer, {childList: true});\n",
              "}}\n",
              "\n",
              "// Listen for the clearing of the current output cell\n",
              "var outputEl = gd.closest('.output');\n",
              "if (outputEl) {{\n",
              "    x.observe(outputEl, {childList: true});\n",
              "}}\n",
              "\n",
              "                        })                };                });            </script>        </div>"
            ]
          },
          "metadata": {}
        }
      ]
    },
    {
      "cell_type": "code",
      "source": [
        "valcon['count'].isnull().sum()"
      ],
      "metadata": {
        "id": "Rk1htmNdN_WK",
        "outputId": "ddade0e2-a540-4c14-b75c-c77b3d0a67c1",
        "colab": {
          "base_uri": "https://localhost:8080/"
        }
      },
      "execution_count": 94,
      "outputs": [
        {
          "output_type": "execute_result",
          "data": {
            "text/plain": [
              "0"
            ]
          },
          "metadata": {},
          "execution_count": 94
        }
      ]
    },
    {
      "cell_type": "code",
      "source": [
        "fifa24[\"nationality\"].value_counts().head(25)"
      ],
      "metadata": {
        "colab": {
          "base_uri": "https://localhost:8080/"
        },
        "id": "M5y9EiGZvPtQ",
        "outputId": "9d0523ef-ca3f-491f-c0c2-5795cc2156fc"
      },
      "execution_count": 37,
      "outputs": [
        {
          "output_type": "execute_result",
          "data": {
            "text/plain": [
              "England                941\n",
              "Spain                  611\n",
              "France                 520\n",
              "Italy                  440\n",
              "Germany                380\n",
              "Argentina              330\n",
              "Republic of Ireland    286\n",
              "Mexico                 280\n",
              "Brazil                 269\n",
              "Poland                 206\n",
              "Netherlands            201\n",
              "Sweden                 197\n",
              "Turkey                 190\n",
              "Scotland               189\n",
              "Portugal               181\n",
              "Norway                 180\n",
              "Denmark                173\n",
              "United States          172\n",
              "Belgium                166\n",
              "Russia                 149\n",
              "Korea Republic         147\n",
              "Austria                138\n",
              "Switzerland            127\n",
              "Australia              118\n",
              "Colombia                96\n",
              "Name: nationality, dtype: int64"
            ]
          },
          "metadata": {},
          "execution_count": 37
        }
      ]
    },
    {
      "cell_type": "markdown",
      "source": [
        "## Bivariate Exploration"
      ],
      "metadata": {
        "id": "_ac9REOt9OfK"
      }
    },
    {
      "cell_type": "code",
      "source": [
        "country20 = fifa24[['nationality', 'name', 'overall', 'potential']].groupby('nationality').head(20).reset_index(drop=True)\n",
        "\n",
        "country20 = country20.groupby('nationality').mean()[['overall', 'potential']].sort_values(by=['overall', 'potential'],ascending=False)[:10].reset_index()"
      ],
      "metadata": {
        "colab": {
          "base_uri": "https://localhost:8080/"
        },
        "id": "EHto3aml9Jyz",
        "outputId": "5a92c18a-4079-4224-e801-d658e4f313fc"
      },
      "execution_count": 38,
      "outputs": [
        {
          "output_type": "stream",
          "name": "stderr",
          "text": [
            "<ipython-input-38-e1406565491c>:3: FutureWarning:\n",
            "\n",
            "The default value of numeric_only in DataFrameGroupBy.mean is deprecated. In a future version, numeric_only will default to False. Either specify numeric_only or select only columns which should be valid for the function.\n",
            "\n"
          ]
        }
      ]
    },
    {
      "cell_type": "code",
      "source": [
        "club20=fifa24[['club', 'name', 'overall', 'potential']].groupby('club').head(20).reset_index(drop=True)\n",
        "\n",
        "club20=club20.groupby('club').mean()[['overall', 'potential']].sort_values(by=['overall', 'potential'], ascending=False)[:10].reset_index()"
      ],
      "metadata": {
        "colab": {
          "base_uri": "https://localhost:8080/"
        },
        "id": "KplTQlml9z78",
        "outputId": "447f4883-c81b-4fe9-bd2b-1df819017676"
      },
      "execution_count": 39,
      "outputs": [
        {
          "output_type": "stream",
          "name": "stderr",
          "text": [
            "<ipython-input-39-90ff33d16c5a>:3: FutureWarning:\n",
            "\n",
            "The default value of numeric_only in DataFrameGroupBy.mean is deprecated. In a future version, numeric_only will default to False. Either specify numeric_only or select only columns which should be valid for the function.\n",
            "\n"
          ]
        }
      ]
    },
    {
      "cell_type": "code",
      "source": [
        "# Average rating per country for top 20 rated players\n",
        "\n",
        "def addlabels(x,y):\n",
        "    for i in range(len(x)):\n",
        "        plt.text(i, y[i]//2, y[i], ha = 'center')"
      ],
      "metadata": {
        "id": "AJ4XRAAf-PFE"
      },
      "execution_count": 40,
      "outputs": []
    },
    {
      "cell_type": "code",
      "source": [
        "plt.figure(figsize = [20, 7])\n",
        "\n",
        "\n",
        "#Average country overall rating\n",
        "\n",
        "plt.subplot(1, 2, 1)\n",
        "default_color = sb.color_palette()[0]\n",
        "sb.barplot(data = country20[:20], y='overall', x='nationality', color = default_color);\n",
        "plt.xticks(rotation=45)\n",
        "addlabels(country20['nationality'],country20['overall'])\n",
        "x_y_t('Rating','Country',\"Average Overall Rating\")\n",
        "\n",
        "#Average country potential rating\n",
        "\n",
        "plt.subplot(1, 2, 2)\n",
        "default_color = sb.color_palette()[0]\n",
        "sb.barplot(data = country20.sort_values(by=['potential'], ascending=False), y='potential', x='nationality', color = default_color);\n",
        "plt.xticks(rotation=45)\n",
        "addlabels(country20['nationality'],country20['potential'])\n",
        "x_y_t('Rating','Country',\"Average Potential Rating\")\n",
        "\n",
        "plt.show()"
      ],
      "metadata": {
        "colab": {
          "base_uri": "https://localhost:8080/",
          "height": 319
        },
        "id": "L8minLIX-Zwm",
        "outputId": "bc19e89c-c498-4421-dd63-5db0f3351327"
      },
      "execution_count": 41,
      "outputs": [
        {
          "output_type": "display_data",
          "data": {
            "text/plain": [
              "<Figure size 2000x700 with 2 Axes>"
            ],
            "image/png": "[encoded data removed]"
          },
          "metadata": {}
        }
      ]
    },
    {
      "cell_type": "code",
      "source": [
        "# Average rating per club for top 20 rated players\n",
        "\n",
        "plt.figure(figsize = [25, 6])\n",
        "\n",
        "\n",
        "#Average overall rating\n",
        "\n",
        "plt.subplot(1, 2, 1)\n",
        "default_color = sb.color_palette()[0]\n",
        "sb.barplot(data = club20[:20], y='overall', x='club', color = default_color);\n",
        "plt.xticks(rotation=45)\n",
        "addlabels(club20['club'],country20['overall'])\n",
        "x_y_t('Rating','Club',\"Average Overall Rating\")\n",
        "\n",
        "#Average potential rating\n",
        "plt.subplot(1, 2, 2)\n",
        "default_color = sb.color_palette()[0]\n",
        "sb.barplot(data = club20.sort_values(by=['potential'], ascending=False), y='potential', x='club', color = default_color);\n",
        "plt.xticks(rotation=45)\n",
        "addlabels(club20['club'],country20['potential'])\n",
        "x_y_t('Rating','Club',\"Average Potential Rating\")\n",
        "\n",
        "plt.show()"
      ],
      "metadata": {
        "colab": {
          "base_uri": "https://localhost:8080/",
          "height": 248
        },
        "id": "DVQKiCH2_SM4",
        "outputId": "a619506f-fd30-4b62-84ba-0ca5fed23152"
      },
      "execution_count": 42,
      "outputs": [
        {
          "output_type": "display_data",
          "data": {
            "text/plain": [
              "<Figure size 2500x600 with 2 Axes>"
            ],
            "image/png": "[encoded data removed]"
          },
          "metadata": {}
        }
      ]
    },
    {
      "cell_type": "markdown",
      "source": [
        "find out the optimal formation for the clubs and country based on the ratings"
      ],
      "metadata": {
        "id": "ByootNt7_9LL"
      }
    },
    {
      "cell_type": "markdown",
      "source": [
        "## Optimal Squad Analysis"
      ],
      "metadata": {
        "id": "9qfzA7EhAK6o"
      }
    },
    {
      "cell_type": "code",
      "source": [
        "fifa24 = fifa24[['name', 'age', 'nationality', 'overall', 'potential', 'club','positions', 'best_position', 'valueEUR', 'salary']]\n",
        "fifa24.head(10)"
      ],
      "metadata": {
        "colab": {
          "base_uri": "https://localhost:8080/",
          "height": 591
        },
        "id": "EmRalN4IAAjG",
        "outputId": "dce4705c-2b03-4fcd-ffd6-c74d756dab7f"
      },
      "execution_count": 43,
      "outputs": [
        {
          "output_type": "execute_result",
          "data": {
            "text/plain": [
              "                   name  age          nationality  overall  potential  \\\n",
              "0     Giovanni Pasquale   32                Italy       68         68   \n",
              "1         Romain Rocchi   32               France       68         68   \n",
              "2              Joe Cole   32              England       74         74   \n",
              "3  Manuel Herrera Yagüe   32                Spain       76         76   \n",
              "4  Andrés Iniesta Luján   30                Spain       89         89   \n",
              "5       Mladen Kašćelan   31           Montenegro       63         63   \n",
              "6      Guy Roland Demel   33        Côte d'Ivoire       70         70   \n",
              "7        Emre Belözoğlu   33               Turkey       78         78   \n",
              "8       Giampiero Pinzi   33                Italy       74         74   \n",
              "9          Robbie Keane   33  Republic of Ireland       79         79   \n",
              "\n",
              "              club positions best_position    valueEUR    salary  \n",
              "0          Udinese        LM            LM    675000.0    9000.0  \n",
              "1             Metz   CM, CDM            CM    675000.0    8000.0  \n",
              "2      Aston Villa   RM, CAM            RM   2400000.0   35000.0  \n",
              "3            Elche        GK            GK   4300000.0   45000.0  \n",
              "4     FC Barcelona    CM, LW            CM  36000000.0  250000.0  \n",
              "5     Arsenal Tula   CDM, RB           CDM    190000.0    2000.0  \n",
              "6  West Ham United        RB            RB    700000.0   15000.0  \n",
              "7       Fenerbahçe   CM, CAM            CM   4400000.0   70000.0  \n",
              "8          Udinese   CDM, CM           CDM   1300000.0   25000.0  \n",
              "9        LA Galaxy    ST, CF            ST   5000000.0   80000.0  "
            ],
            "text/html": [
              "\n",
              "  <div id=\"df-48e571d6-d63c-41a7-9175-4e2790f5e016\" class=\"colab-df-container\">\n",
              "    <div>\n",
              "<style scoped>\n",
              "    .dataframe tbody tr th:only-of-type {\n",
              "        vertical-align: middle;\n",
              "    }\n",
              "\n",
              "    .dataframe tbody tr th {\n",
              "        vertical-align: top;\n",
              "    }\n",
              "\n",
              "    .dataframe thead th {\n",
              "        text-align: right;\n",
              "    }\n",
              "</style>\n",
              "<table border=\"1\" class=\"dataframe\">\n",
              "  <thead>\n",
              "    <tr style=\"text-align: right;\">\n",
              "      <th></th>\n",
              "      <th>name</th>\n",
              "      <th>age</th>\n",
              "      <th>nationality</th>\n",
              "      <th>overall</th>\n",
              "      <th>potential</th>\n",
              "      <th>club</th>\n",
              "      <th>positions</th>\n",
              "      <th>best_position</th>\n",
              "      <th>valueEUR</th>\n",
              "      <th>salary</th>\n",
              "    </tr>\n",
              "  </thead>\n",
              "  <tbody>\n",
              "    <tr>\n",
              "      <th>0</th>\n",
              "      <td>Giovanni Pasquale</td>\n",
              "      <td>32</td>\n",
              "      <td>Italy</td>\n",
              "      <td>68</td>\n",
              "      <td>68</td>\n",
              "      <td>Udinese</td>\n",
              "      <td>LM</td>\n",
              "      <td>LM</td>\n",
              "      <td>675000.0</td>\n",
              "      <td>9000.0</td>\n",
              "    </tr>\n",
              "    <tr>\n",
              "      <th>1</th>\n",
              "      <td>Romain Rocchi</td>\n",
              "      <td>32</td>\n",
              "      <td>France</td>\n",
              "      <td>68</td>\n",
              "      <td>68</td>\n",
              "      <td>Metz</td>\n",
              "      <td>CM, CDM</td>\n",
              "      <td>CM</td>\n",
              "      <td>675000.0</td>\n",
              "      <td>8000.0</td>\n",
              "    </tr>\n",
              "    <tr>\n",
              "      <th>2</th>\n",
              "      <td>Joe Cole</td>\n",
              "      <td>32</td>\n",
              "      <td>England</td>\n",
              "      <td>74</td>\n",
              "      <td>74</td>\n",
              "      <td>Aston Villa</td>\n",
              "      <td>RM, CAM</td>\n",
              "      <td>RM</td>\n",
              "      <td>2400000.0</td>\n",
              "      <td>35000.0</td>\n",
              "    </tr>\n",
              "    <tr>\n",
              "      <th>3</th>\n",
              "      <td>Manuel Herrera Yagüe</td>\n",
              "      <td>32</td>\n",
              "      <td>Spain</td>\n",
              "      <td>76</td>\n",
              "      <td>76</td>\n",
              "      <td>Elche</td>\n",
              "      <td>GK</td>\n",
              "      <td>GK</td>\n",
              "      <td>4300000.0</td>\n",
              "      <td>45000.0</td>\n",
              "    </tr>\n",
              "    <tr>\n",
              "      <th>4</th>\n",
              "      <td>Andrés Iniesta Luján</td>\n",
              "      <td>30</td>\n",
              "      <td>Spain</td>\n",
              "      <td>89</td>\n",
              "      <td>89</td>\n",
              "      <td>FC Barcelona</td>\n",
              "      <td>CM, LW</td>\n",
              "      <td>CM</td>\n",
              "      <td>36000000.0</td>\n",
              "      <td>250000.0</td>\n",
              "    </tr>\n",
              "    <tr>\n",
              "      <th>5</th>\n",
              "      <td>Mladen Kašćelan</td>\n",
              "      <td>31</td>\n",
              "      <td>Montenegro</td>\n",
              "      <td>63</td>\n",
              "      <td>63</td>\n",
              "      <td>Arsenal Tula</td>\n",
              "      <td>CDM, RB</td>\n",
              "      <td>CDM</td>\n",
              "      <td>190000.0</td>\n",
              "      <td>2000.0</td>\n",
              "    </tr>\n",
              "    <tr>\n",
              "      <th>6</th>\n",
              "      <td>Guy Roland Demel</td>\n",
              "      <td>33</td>\n",
              "      <td>Côte d'Ivoire</td>\n",
              "      <td>70</td>\n",
              "      <td>70</td>\n",
              "      <td>West Ham United</td>\n",
              "      <td>RB</td>\n",
              "      <td>RB</td>\n",
              "      <td>700000.0</td>\n",
              "      <td>15000.0</td>\n",
              "    </tr>\n",
              "    <tr>\n",
              "      <th>7</th>\n",
              "      <td>Emre Belözoğlu</td>\n",
              "      <td>33</td>\n",
              "      <td>Turkey</td>\n",
              "      <td>78</td>\n",
              "      <td>78</td>\n",
              "      <td>Fenerbahçe</td>\n",
              "      <td>CM, CAM</td>\n",
              "      <td>CM</td>\n",
              "      <td>4400000.0</td>\n",
              "      <td>70000.0</td>\n",
              "    </tr>\n",
              "    <tr>\n",
              "      <th>8</th>\n",
              "      <td>Giampiero Pinzi</td>\n",
              "      <td>33</td>\n",
              "      <td>Italy</td>\n",
              "      <td>74</td>\n",
              "      <td>74</td>\n",
              "      <td>Udinese</td>\n",
              "      <td>CDM, CM</td>\n",
              "      <td>CDM</td>\n",
              "      <td>1300000.0</td>\n",
              "      <td>25000.0</td>\n",
              "    </tr>\n",
              "    <tr>\n",
              "      <th>9</th>\n",
              "      <td>Robbie Keane</td>\n",
              "      <td>33</td>\n",
              "      <td>Republic of Ireland</td>\n",
              "      <td>79</td>\n",
              "      <td>79</td>\n",
              "      <td>LA Galaxy</td>\n",
              "      <td>ST, CF</td>\n",
              "      <td>ST</td>\n",
              "      <td>5000000.0</td>\n",
              "      <td>80000.0</td>\n",
              "    </tr>\n",
              "  </tbody>\n",
              "</table>\n",
              "</div>\n",
              "    <div class=\"colab-df-buttons\">\n",
              "\n",
              "  <div class=\"colab-df-container\">\n",
              "    <button class=\"colab-df-convert\" onclick=\"convertToInteractive('df-48e571d6-d63c-41a7-9175-4e2790f5e016')\"\n",
              "            title=\"Convert this dataframe to an interactive table.\"\n",
              "            style=\"display:none;\">\n",
              "\n",
              "  <svg xmlns=\"http://www.w3.org/2000/svg\" height=\"24px\" viewBox=\"0 -960 960 960\">\n",
              "    <path d=\"M120-120v-720h720v720H120Zm60-500h600v-160H180v160Zm220 220h160v-160H400v160Zm0 220h160v-160H400v160ZM180-400h160v-160H180v160Zm440 0h160v-160H620v160ZM180-180h160v-160H180v160Zm440 0h160v-160H620v160Z\"/>\n",
              "  </svg>\n",
              "    </button>\n",
              "\n",
              "  <style>\n",
              "    .colab-df-container {\n",
              "      display:flex;\n",
              "      gap: 12px;\n",
              "    }\n",
              "\n",
              "    .colab-df-convert {\n",
              "      background-color: #E8F0FE;\n",
              "      border: none;\n",
              "      border-radius: 50%;\n",
              "      cursor: pointer;\n",
              "      display: none;\n",
              "      fill: #1967D2;\n",
              "      height: 32px;\n",
              "      padding: 0 0 0 0;\n",
              "      width: 32px;\n",
              "    }\n",
              "\n",
              "    .colab-df-convert:hover {\n",
              "      background-color: #E2EBFA;\n",
              "      box-shadow: 0px 1px 2px rgba(60, 64, 67, 0.3), 0px 1px 3px 1px rgba(60, 64, 67, 0.15);\n",
              "      fill: #174EA6;\n",
              "    }\n",
              "\n",
              "    .colab-df-buttons div {\n",
              "      margin-bottom: 4px;\n",
              "    }\n",
              "\n",
              "    [theme=dark] .colab-df-convert {\n",
              "      background-color: #3B4455;\n",
              "      fill: #D2E3FC;\n",
              "    }\n",
              "\n",
              "    [theme=dark] .colab-df-convert:hover {\n",
              "      background-color: #434B5C;\n",
              "      box-shadow: 0px 1px 3px 1px rgba(0, 0, 0, 0.15);\n",
              "      filter: drop-shadow(0px 1px 2px rgba(0, 0, 0, 0.3));\n",
              "      fill: #FFFFFF;\n",
              "    }\n",
              "  </style>\n",
              "\n",
              "    <script>\n",
              "      const buttonEl =\n",
              "        document.querySelector('#df-48e571d6-d63c-41a7-9175-4e2790f5e016 button.colab-df-convert');\n",
              "      buttonEl.style.display =\n",
              "        google.colab.kernel.accessAllowed ? 'block' : 'none';\n",
              "\n",
              "      async function convertToInteractive(key) {\n",
              "        const element = document.querySelector('#df-48e571d6-d63c-41a7-9175-4e2790f5e016');\n",
              "        const dataTable =\n",
              "          await google.colab.kernel.invokeFunction('convertToInteractive',\n",
              "                                                    [key], {});\n",
              "        if (!dataTable) return;\n",
              "\n",
              "        const docLinkHtml = 'Like what you see? Visit the ' +\n",
              "          '<a target=\"_blank\" href=https://colab.research.google.com/notebooks/data_table.ipynb>data table notebook</a>'\n",
              "          + ' to learn more about interactive tables.';\n",
              "        element.innerHTML = '';\n",
              "        dataTable['output_type'] = 'display_data';\n",
              "        await google.colab.output.renderOutput(dataTable, element);\n",
              "        const docLink = document.createElement('div');\n",
              "        docLink.innerHTML = docLinkHtml;\n",
              "        element.appendChild(docLink);\n",
              "      }\n",
              "    </script>\n",
              "  </div>\n",
              "\n",
              "\n",
              "<div id=\"df-389e5ab1-b16b-4260-898c-b090d6f8a794\">\n",
              "  <button class=\"colab-df-quickchart\" onclick=\"quickchart('df-389e5ab1-b16b-4260-898c-b090d6f8a794')\"\n",
              "            title=\"Suggest charts.\"\n",
              "            style=\"display:none;\">\n",
              "\n",
              "<svg xmlns=\"http://www.w3.org/2000/svg\" height=\"24px\"viewBox=\"0 0 24 24\"\n",
              "     width=\"24px\">\n",
              "    <g>\n",
              "        <path d=\"M19 3H5c-1.1 0-2 .9-2 2v14c0 1.1.9 2 2 2h14c1.1 0 2-.9 2-2V5c0-1.1-.9-2-2-2zM9 17H7v-7h2v7zm4 0h-2V7h2v10zm4 0h-2v-4h2v4z\"/>\n",
              "    </g>\n",
              "</svg>\n",
              "  </button>\n",
              "\n",
              "<style>\n",
              "  .colab-df-quickchart {\n",
              "      --bg-color: #E8F0FE;\n",
              "      --fill-color: #1967D2;\n",
              "      --hover-bg-color: #E2EBFA;\n",
              "      --hover-fill-color: #174EA6;\n",
              "      --disabled-fill-color: #AAA;\n",
              "      --disabled-bg-color: #DDD;\n",
              "  }\n",
              "\n",
              "  [theme=dark] .colab-df-quickchart {\n",
              "      --bg-color: #3B4455;\n",
              "      --fill-color: #D2E3FC;\n",
              "      --hover-bg-color: #434B5C;\n",
              "      --hover-fill-color: #FFFFFF;\n",
              "      --disabled-bg-color: #3B4455;\n",
              "      --disabled-fill-color: #666;\n",
              "  }\n",
              "\n",
              "  .colab-df-quickchart {\n",
              "    background-color: var(--bg-color);\n",
              "    border: none;\n",
              "    border-radius: 50%;\n",
              "    cursor: pointer;\n",
              "    display: none;\n",
              "    fill: var(--fill-color);\n",
              "    height: 32px;\n",
              "    padding: 0;\n",
              "    width: 32px;\n",
              "  }\n",
              "\n",
              "  .colab-df-quickchart:hover {\n",
              "    background-color: var(--hover-bg-color);\n",
              "    box-shadow: 0 1px 2px rgba(60, 64, 67, 0.3), 0 1px 3px 1px rgba(60, 64, 67, 0.15);\n",
              "    fill: var(--button-hover-fill-color);\n",
              "  }\n",
              "\n",
              "  .colab-df-quickchart-complete:disabled,\n",
              "  .colab-df-quickchart-complete:disabled:hover {\n",
              "    background-color: var(--disabled-bg-color);\n",
              "    fill: var(--disabled-fill-color);\n",
              "    box-shadow: none;\n",
              "  }\n",
              "\n",
              "  .colab-df-spinner {\n",
              "    border: 2px solid var(--fill-color);\n",
              "    border-color: transparent;\n",
              "    border-bottom-color: var(--fill-color);\n",
              "    animation:\n",
              "      spin 1s steps(1) infinite;\n",
              "  }\n",
              "\n",
              "  @keyframes spin {\n",
              "    0% {\n",
              "      border-color: transparent;\n",
              "      border-bottom-color: var(--fill-color);\n",
              "      border-left-color: var(--fill-color);\n",
              "    }\n",
              "    20% {\n",
              "      border-color: transparent;\n",
              "      border-left-color: var(--fill-color);\n",
              "      border-top-color: var(--fill-color);\n",
              "    }\n",
              "    30% {\n",
              "      border-color: transparent;\n",
              "      border-left-color: var(--fill-color);\n",
              "      border-top-color: var(--fill-color);\n",
              "      border-right-color: var(--fill-color);\n",
              "    }\n",
              "    40% {\n",
              "      border-color: transparent;\n",
              "      border-right-color: var(--fill-color);\n",
              "      border-top-color: var(--fill-color);\n",
              "    }\n",
              "    60% {\n",
              "      border-color: transparent;\n",
              "      border-right-color: var(--fill-color);\n",
              "    }\n",
              "    80% {\n",
              "      border-color: transparent;\n",
              "      border-right-color: var(--fill-color);\n",
              "      border-bottom-color: var(--fill-color);\n",
              "    }\n",
              "    90% {\n",
              "      border-color: transparent;\n",
              "      border-bottom-color: var(--fill-color);\n",
              "    }\n",
              "  }\n",
              "</style>\n",
              "\n",
              "  <script>\n",
              "    async function quickchart(key) {\n",
              "      const quickchartButtonEl =\n",
              "        document.querySelector('#' + key + ' button');\n",
              "      quickchartButtonEl.disabled = true;  // To prevent multiple clicks.\n",
              "      quickchartButtonEl.classList.add('colab-df-spinner');\n",
              "      try {\n",
              "        const charts = await google.colab.kernel.invokeFunction(\n",
              "            'suggestCharts', [key], {});\n",
              "      } catch (error) {\n",
              "        console.error('Error during call to suggestCharts:', error);\n",
              "      }\n",
              "      quickchartButtonEl.classList.remove('colab-df-spinner');\n",
              "      quickchartButtonEl.classList.add('colab-df-quickchart-complete');\n",
              "    }\n",
              "    (() => {\n",
              "      let quickchartButtonEl =\n",
              "        document.querySelector('#df-389e5ab1-b16b-4260-898c-b090d6f8a794 button');\n",
              "      quickchartButtonEl.style.display =\n",
              "        google.colab.kernel.accessAllowed ? 'block' : 'none';\n",
              "    })();\n",
              "  </script>\n",
              "</div>\n",
              "    </div>\n",
              "  </div>\n"
            ]
          },
          "metadata": {},
          "execution_count": 43
        }
      ]
    },
    {
      "cell_type": "code",
      "source": [
        "fifa24.isnull().sum()"
      ],
      "metadata": {
        "colab": {
          "base_uri": "https://localhost:8080/"
        },
        "id": "rBSg7KMzF9wT",
        "outputId": "9a97e356-3f3b-43de-a7f0-c35770ee8bf0"
      },
      "execution_count": 44,
      "outputs": [
        {
          "output_type": "execute_result",
          "data": {
            "text/plain": [
              "name               0\n",
              "age                0\n",
              "nationality        0\n",
              "overall            0\n",
              "potential          0\n",
              "club             106\n",
              "positions          0\n",
              "best_position      0\n",
              "valueEUR         173\n",
              "salary           106\n",
              "dtype: int64"
            ]
          },
          "metadata": {},
          "execution_count": 44
        }
      ]
    },
    {
      "cell_type": "markdown",
      "source": [
        "### Optimal Squad based on overall rating"
      ],
      "metadata": {
        "id": "oF2tIpPUA9Pg"
      }
    },
    {
      "cell_type": "markdown",
      "source": [
        "**What's the optimal squad according to FIFA 24 purely based on overall rating?**"
      ],
      "metadata": {
        "id": "OEBCMpK5BBQi"
      }
    },
    {
      "cell_type": "markdown",
      "source": [
        "### 4-3-3 Formation"
      ],
      "metadata": {
        "id": "TniMX4bEC6Ln"
      }
    },
    {
      "cell_type": "code",
      "source": [
        "def get_best_squad433(formation, fifa24):\n",
        "    squad = []\n",
        "\n",
        "    for position in formation:\n",
        "        # Filter players for the current position\n",
        "        position_data = fifa24[fifa24['best_position'] == position]\n",
        "\n",
        "        # Find the player with the highest overall rating for the position\n",
        "        best_player = position_data.loc[position_data['overall'].idxmax()]\n",
        "\n",
        "        squad.append([\n",
        "            position,\n",
        "            best_player['name'],\n",
        "            best_player['overall'],\n",
        "            best_player['age'],\n",
        "            best_player['club'],\n",
        "            best_player['valueEUR'],\n",
        "            best_player['salary']\n",
        "        ])\n",
        "\n",
        "    squad_df = pd.DataFrame(squad, columns=['best_position', 'name', 'overall', 'age', 'club', 'valueEUR', 'salary'])\n",
        "\n",
        "    return squad_df\n",
        "\n",
        "# Example usage\n",
        "squad_433 = ['GK', 'RB', 'CB', 'CB', 'LB', 'CDM', 'CM', 'CAM', 'RW', 'ST', 'LW']\n",
        "best_squad = get_best_squad433(squad_433, fifa24)  # Replace 'fifa24' with your player data DataFrame\n",
        "\n",
        "# Convert the DataFrame to a string for printing\n",
        "squad_str = best_squad.to_string(index=False)\n",
        "print(squad_str)"
      ],
      "metadata": {
        "colab": {
          "base_uri": "https://localhost:8080/"
        },
        "id": "BW8kumYnM51m",
        "outputId": "a6f01d66-0ab7-4a9d-9eb7-efb1fe8004eb"
      },
      "execution_count": 45,
      "outputs": [
        {
          "output_type": "stream",
          "name": "stdout",
          "text": [
            "best_position                                name  overall  age                club   valueEUR   salary\n",
            "           GK                  Manuel Peter Neuer       90   28   FC Bayern München 63500000.0 300000.0\n",
            "           RB               Daniel Alves da Silva       83   31        FC Barcelona 10000000.0 140000.0\n",
            "           CB                 Sergio Ramos García       87   28         Real Madrid 31500000.0 220000.0\n",
            "           CB                 Sergio Ramos García       87   28         Real Madrid 31500000.0 220000.0\n",
            "           LB                     Leighton Baines       82   29             Everton 12500000.0  90000.0\n",
            "          CDM                        Philipp Lahm       87   30   FC Bayern München 24500000.0 190000.0\n",
            "           CM                Andrés Iniesta Luján       89   30        FC Barcelona 36000000.0 250000.0\n",
            "          CAM                          Mesut Özil       86   25             Arsenal 44000000.0 190000.0\n",
            "           RW    Alexis Alejandro Sánchez Sánchez       84   25             Arsenal 26500000.0 170000.0\n",
            "           ST                  Zlatan Ibrahimović       90   32 Paris Saint Germain 52500000.0 275000.0\n",
            "           LW Cristiano Ronaldo dos Santos Aveiro       92   29         Real Madrid 79000000.0 375000.0\n"
          ]
        }
      ]
    },
    {
      "cell_type": "code",
      "source": [],
      "metadata": {
        "id": "KP8CPqXPNo6f"
      },
      "execution_count": 45,
      "outputs": []
    },
    {
      "cell_type": "code",
      "source": [
        "def get_best_squad422(formation, fifa24):\n",
        "    squad = []\n",
        "\n",
        "    for position in formation:\n",
        "        # Filter players for the current position\n",
        "        position_data = fifa24[fifa24['best_position'] == position]\n",
        "\n",
        "        # Find the player with the highest overall rating for the position\n",
        "        best_player = position_data.loc[position_data['overall'].idxmax()]\n",
        "\n",
        "        squad.append([\n",
        "            position,\n",
        "            best_player['name'],\n",
        "            best_player['overall'],\n",
        "            best_player['age'],\n",
        "            best_player['club'],\n",
        "            best_player['valueEUR'],\n",
        "            best_player['salary']\n",
        "        ])\n",
        "\n",
        "    squad_df = pd.DataFrame(squad, columns=['best_position', 'player', 'overall', 'age', 'club', 'valueEUR', 'salary'])\n",
        "\n",
        "    return squad_df\n",
        "\n",
        "# 4-2-2 Formation\n",
        "squad_4222 = ['GK', 'RB', 'CB', 'CB', 'LB', 'CM', 'CM', 'RM', 'LM', 'ST', 'ST']\n",
        "\n",
        "# Example usage with the 4-2-2 formation\n",
        "best_squad = get_best_squad422(squad_4222, fifa24)\n",
        "\n",
        "# Convert the DataFrame to a string for printing\n",
        "squad_str = best_squad.to_string(index=False)\n",
        "print(squad_str)"
      ],
      "metadata": {
        "colab": {
          "base_uri": "https://localhost:8080/"
        },
        "id": "lrsBs3MdN7VG",
        "outputId": "5bd247e1-5f8b-43c9-fc1d-e9f6178e9d31"
      },
      "execution_count": 46,
      "outputs": [
        {
          "output_type": "stream",
          "name": "stdout",
          "text": [
            "best_position                player  overall  age                club   valueEUR   salary\n",
            "           GK    Manuel Peter Neuer       90   28   FC Bayern München 63500000.0 300000.0\n",
            "           RB Daniel Alves da Silva       83   31        FC Barcelona 10000000.0 140000.0\n",
            "           CB   Sergio Ramos García       87   28         Real Madrid 31500000.0 220000.0\n",
            "           CB   Sergio Ramos García       87   28         Real Madrid 31500000.0 220000.0\n",
            "           LB       Leighton Baines       82   29             Everton 12500000.0  90000.0\n",
            "           CM  Andrés Iniesta Luján       89   30        FC Barcelona 36000000.0 250000.0\n",
            "           CM  Andrés Iniesta Luján       89   30        FC Barcelona 36000000.0 250000.0\n",
            "           RM          Arjen Robben       90   30   FC Bayern München 54500000.0 275000.0\n",
            "           LM   Franck Bilal Ribéry       88   31   FC Bayern München 33000000.0 200000.0\n",
            "           ST    Zlatan Ibrahimović       90   32 Paris Saint Germain 52500000.0 275000.0\n",
            "           ST    Zlatan Ibrahimović       90   32 Paris Saint Germain 52500000.0 275000.0\n"
          ]
        }
      ]
    },
    {
      "cell_type": "code",
      "source": [
        "def get_best_squad4231(formation, fifa24):\n",
        "    squad = []\n",
        "\n",
        "    for position in formation:\n",
        "        # Filter players for the current position\n",
        "        position_data = fifa24[fifa24['best_position'] == position]\n",
        "\n",
        "        # Find the player with the highest overall rating for the position\n",
        "        best_player = position_data.loc[position_data['overall'].idxmax()]\n",
        "\n",
        "        squad.append([\n",
        "            position,\n",
        "            best_player['name'],\n",
        "            best_player['overall'],\n",
        "            best_player['age'],\n",
        "            best_player['club'],\n",
        "            best_player['valueEUR'],\n",
        "            best_player['salary']\n",
        "        ])\n",
        "\n",
        "    squad_df = pd.DataFrame(squad, columns=['best_position', 'player', 'overall', 'age', 'club', 'valueEUR', 'salary'])\n",
        "\n",
        "    return squad_df\n",
        "\n",
        "# 4-2-3-1 Formation\n",
        "squad_4231 = ['GK', 'RB', 'CB', 'CB', 'LB', 'CDM', 'CDM', 'CAM', 'RM', 'LM', 'ST']\n",
        "\n",
        "# Example usage with the 4-2-3-1 formation\n",
        "best_squad = get_best_squad4231(squad_4231, fifa24)\n",
        "\n",
        "# Convert the DataFrame to a string for printing\n",
        "squad_str = best_squad.to_string(index=False)\n",
        "print(squad_str)\n",
        "\n",
        "\n",
        "\n",
        "\n",
        "\n"
      ],
      "metadata": {
        "colab": {
          "base_uri": "https://localhost:8080/"
        },
        "id": "7zTKqJ98OYdB",
        "outputId": "9b0d90a0-a30f-402c-89b0-ea3058437480"
      },
      "execution_count": 47,
      "outputs": [
        {
          "output_type": "stream",
          "name": "stdout",
          "text": [
            "best_position                player  overall  age                club   valueEUR   salary\n",
            "           GK    Manuel Peter Neuer       90   28   FC Bayern München 63500000.0 300000.0\n",
            "           RB Daniel Alves da Silva       83   31        FC Barcelona 10000000.0 140000.0\n",
            "           CB   Sergio Ramos García       87   28         Real Madrid 31500000.0 220000.0\n",
            "           CB   Sergio Ramos García       87   28         Real Madrid 31500000.0 220000.0\n",
            "           LB       Leighton Baines       82   29             Everton 12500000.0  90000.0\n",
            "          CDM          Philipp Lahm       87   30   FC Bayern München 24500000.0 190000.0\n",
            "          CDM          Philipp Lahm       87   30   FC Bayern München 24500000.0 190000.0\n",
            "          CAM            Mesut Özil       86   25             Arsenal 44000000.0 190000.0\n",
            "           RM          Arjen Robben       90   30   FC Bayern München 54500000.0 275000.0\n",
            "           LM   Franck Bilal Ribéry       88   31   FC Bayern München 33000000.0 200000.0\n",
            "           ST    Zlatan Ibrahimović       90   32 Paris Saint Germain 52500000.0 275000.0\n"
          ]
        }
      ]
    },
    {
      "cell_type": "markdown",
      "source": [
        "## Optimal Country Squad Analysis"
      ],
      "metadata": {
        "id": "LZ_YmTVSY_qc"
      }
    },
    {
      "cell_type": "code",
      "source": [
        "def get_best_squad_n(formation, nationality, measurement='overall'):\n",
        "    # Create a copy of the fifa24 dataset\n",
        "    fifa24_copy = fifa24.copy()\n",
        "\n",
        "    # Filter the dataset by nationality\n",
        "    fifa24_copy = fifa24_copy[fifa24_copy['nationality'] == nationality]\n",
        "\n",
        "    # Create a list to store the squad information\n",
        "    squad = []\n",
        "\n",
        "    for position in formation:\n",
        "        # Filter players for the current position\n",
        "        position_data = fifa24_copy[fifa24_copy['best_position'].str.contains(position)]\n",
        "\n",
        "        # Find the player with the highest measurement (e.g., 'Overall') for the position\n",
        "        best_player = position_data[position_data[measurement] == position_data[measurement].max()].iloc[0]\n",
        "\n",
        "        # Append player information to the squad list\n",
        "        squad.append([\n",
        "            best_player['best_position'],\n",
        "            best_player['name'],\n",
        "            best_player[measurement],\n",
        "            best_player['age'],\n",
        "            best_player['club'],\n",
        "            best_player['valueEUR'],\n",
        "            best_player['salary']\n",
        "        ])\n",
        "\n",
        "        # Remove the selected player from the dataset\n",
        "        fifa24_copy = fifa24_copy.drop(best_player.name)\n",
        "\n",
        "    # Calculate the average measurement for the squad\n",
        "    avg_measurement = round(pd.to_numeric([x[2] for x in squad]).mean(), 2)\n",
        "\n",
        "    # Create a DataFrame for the squad\n",
        "    squad_df = pd.DataFrame(squad, columns=['best_position', 'name', measurement, 'age', 'club', 'valueEUR', 'salary'])\n",
        "\n",
        "    return avg_measurement, squad_df\n"
      ],
      "metadata": {
        "id": "9J4fUeO8dpGi"
      },
      "execution_count": 48,
      "outputs": []
    },
    {
      "cell_type": "code",
      "source": [
        "def get_summary_n(squad_list, squad_name, nationality_list):\n",
        "    summary = []\n",
        "\n",
        "    for i in nationality_list:\n",
        "        count = 0\n",
        "        for j in squad_list:\n",
        "\n",
        "            # for overall rating\n",
        "            O_temp_rating, _  = get_best_squad_n(formation = j, nationality = i, measurement = 'overall')\n",
        "\n",
        "            # for potential rating & corresponding value\n",
        "            P_temp_rating, _ = get_best_squad_n(formation = j, nationality = i, measurement = 'potential')\n",
        "\n",
        "            summary.append([i, squad_name[count], O_temp_rating.round(2), P_temp_rating.round(2)])\n",
        "            count += 1\n",
        "\n",
        "    return summary"
      ],
      "metadata": {
        "id": "7c8JUEwOeILs"
      },
      "execution_count": 49,
      "outputs": []
    },
    {
      "cell_type": "code",
      "source": [
        "# formation\n",
        "\n",
        "squad_352_strict = ['GK', 'CB', 'CB', 'CB', 'RB|RWB', 'CM|CDM', 'CAM', 'CM|CDM', 'LB|LWB', 'ST|CF', 'ST|CF']\n",
        "squad_343_strict = ['GK', 'CB', 'CB', 'CB', 'RB|RWB', 'CM|CDM', 'CM|CDM', 'LB|LWB', 'RM|RW', 'ST|CF', 'LM|LW']\n",
        "squad_442_strict = ['GK', 'RB|RWB', 'CB', 'CB', 'LB|LWB', 'RM|RW', 'CM|CDM', 'CM|CAM', 'LM|LW', 'ST|CF', 'ST|CF']\n",
        "squad_4312_strict = ['GK', 'RB|RWB', 'CB', 'CB', 'LB|LWB', 'CM|CDM', 'CM|CDM', 'CM|CDM', 'CAM', 'ST|CF', 'ST|CF']\n",
        "squad_433_strict = ['GK', 'RB|RWB', 'CB', 'CB', 'LB|LWB', 'CM|CDM', 'CM|CAM|CDM', 'CM|CAM|CDM', 'RM|RW', 'ST|CF', 'LM|LW']\n",
        "squad_4231_strict = ['GK', 'RB|RWB', 'CB', 'CB', 'LB|LWB', 'CM|CDM', 'CM|CDM', 'RM|RW', 'CAM', 'LM|LW', 'ST|CF']\n",
        "\n",
        "squad_list = [squad_352_strict, squad_343_strict, squad_442_strict, squad_4312_strict, squad_433_strict, squad_4231_strict]\n",
        "squad_name = ['3-5-2', '3-4-3', '4-4-2', '4-3-1-2', '4-3-3', '4-2-3-1']"
      ],
      "metadata": {
        "id": "CJWg4liAeXqH"
      },
      "execution_count": 50,
      "outputs": []
    },
    {
      "cell_type": "code",
      "source": [
        "# france\n",
        "\n",
        "France = pd.DataFrame(np.array(get_summary_n(squad_list, squad_name, ['France'])).reshape(-1,4), columns = ['nationality', 'squad', 'overall', 'potential'])\n",
        "France.set_index('nationality', inplace = True)\n",
        "France[['overall', 'potential']] = France[['overall', 'potential']].astype(float)\n",
        "\n",
        "print (France)"
      ],
      "metadata": {
        "colab": {
          "base_uri": "https://localhost:8080/"
        },
        "id": "UZp3HniweqMN",
        "outputId": "0a1632e7-2307-4ccf-d89c-7fe6b4a76229"
      },
      "execution_count": 51,
      "outputs": [
        {
          "output_type": "stream",
          "name": "stdout",
          "text": [
            "               squad  overall  potential\n",
            "nationality                             \n",
            "France         3-5-2    81.82      85.27\n",
            "France         3-4-3    82.36      85.45\n",
            "France         4-4-2    82.27      85.55\n",
            "France       4-3-1-2    82.00      85.36\n",
            "France         4-3-3    82.55      85.64\n",
            "France       4-2-3-1    82.36      85.64\n"
          ]
        }
      ]
    },
    {
      "cell_type": "markdown",
      "source": [
        "So we can say that France has the best squard as 4-4-2 for the current and 4-3-1-2 for the future squad based on team ratings. Let's check out the best 11 squad line-up of France based on the formations."
      ],
      "metadata": {
        "id": "JHabH8OQfXkT"
      }
    },
    {
      "cell_type": "code",
      "source": [
        "rating_442_FR_Overall, best_list_442_FR_Overall = get_best_squad_n(squad_442_strict, 'France', 'overall')\n",
        "print('-Overall-')\n",
        "print('Average rating: {:.1f}'.format(rating_442_FR_Overall))\n",
        "print(best_list_442_FR_Overall)"
      ],
      "metadata": {
        "colab": {
          "base_uri": "https://localhost:8080/"
        },
        "id": "WZo6iRSPfD9h",
        "outputId": "3b8b998d-2884-4083-90a2-bfb68f3bee1d"
      },
      "execution_count": 52,
      "outputs": [
        {
          "output_type": "stream",
          "name": "stdout",
          "text": [
            "-Overall-\n",
            "Average rating: 82.3\n",
            "   best_position                           name  overall  age  \\\n",
            "0             GK                    Hugo Lloris       85   27   \n",
            "1             RB                Mathieu Debuchy       80   28   \n",
            "2             CB              Laurent Koscielny       81   28   \n",
            "3             CB                  Mamadou Sakho       81   24   \n",
            "4             LB                   Patrice Evra       80   33   \n",
            "5             RW      Jonathan Ludovic Biabiany       79   26   \n",
            "6            CDM                Jérémy Toulalan       83   30   \n",
            "7             CM                     Paul Pogba       83   21   \n",
            "8             LM            Franck Bilal Ribéry       88   31   \n",
            "9             ST                  Karim Benzema       85   26   \n",
            "10            ST  Loïc Alex Teliére Hubert Rémy       80   27   \n",
            "\n",
            "                 club    valueEUR    salary  \n",
            "0   Tottenham Hotspur  21000000.0  160000.0  \n",
            "1             Arsenal   9500000.0  110000.0  \n",
            "2             Arsenal   9500000.0  120000.0  \n",
            "3           Liverpool  10500000.0   90000.0  \n",
            "4            Juventus   4900000.0   80000.0  \n",
            "5               Parma   9500000.0   80000.0  \n",
            "6              Monaco  10500000.0   90000.0  \n",
            "7            Juventus  13500000.0  120000.0  \n",
            "8   FC Bayern München  33000000.0  200000.0  \n",
            "9         Real Madrid  27000000.0  200000.0  \n",
            "10            Chelsea  13000000.0  120000.0  \n"
          ]
        }
      ]
    },
    {
      "cell_type": "code",
      "source": [
        "rating_4312_FR_Potential, best_list_4312_FR_Potential = get_best_squad_n(squad_4312_strict, 'France', 'potential')\n",
        "print('-Potential-')\n",
        "print('Average rating: {:.1f}'.format(rating_4312_FR_Potential))\n",
        "print(best_list_4312_FR_Potential)"
      ],
      "metadata": {
        "colab": {
          "base_uri": "https://localhost:8080/"
        },
        "id": "K8HQ3VSVfqyA",
        "outputId": "12707634-5277-4760-f5f5-bf3c97d85e5a"
      },
      "execution_count": 53,
      "outputs": [
        {
          "output_type": "stream",
          "name": "stdout",
          "text": [
            "-Potential-\n",
            "Average rating: 85.4\n",
            "   best_position                 name  potential  age                 club  \\\n",
            "0             GK          Hugo Lloris         86   27    Tottenham Hotspur   \n",
            "1             RB      Mathieu Debuchy         80   28              Arsenal   \n",
            "2             CB       Raphaël Varane         88   21          Real Madrid   \n",
            "3             CB     Eliaquim Mangala         86   23      Manchester City   \n",
            "4             LB       Layvin Kurzawa         85   21               Monaco   \n",
            "5             CM           Paul Pogba         89   21             Juventus   \n",
            "6            CDM       Blaise Matuidi         85   27  Paris Saint Germain   \n",
            "7            CDM  Morgan Schneiderlin         84   24          Southampton   \n",
            "8            CAM      Clément Grenier         85   23   Olympique Lyonnais   \n",
            "9             ST        Karim Benzema         87   26          Real Madrid   \n",
            "10            ST  Alexandre Lacazette         84   23   Olympique Lyonnais   \n",
            "\n",
            "      valueEUR    salary  \n",
            "0   21000000.0  160000.0  \n",
            "1    9500000.0  110000.0  \n",
            "2    8000000.0  100000.0  \n",
            "3    9000000.0   90000.0  \n",
            "4    3800000.0   40000.0  \n",
            "5   13500000.0  120000.0  \n",
            "6   14000000.0  150000.0  \n",
            "7   10000000.0   60000.0  \n",
            "8    5500000.0   80000.0  \n",
            "9   27000000.0  200000.0  \n",
            "10   8000000.0  100000.0  \n"
          ]
        }
      ]
    },
    {
      "cell_type": "code",
      "source": [
        "# germany\n",
        "\n",
        "Germany = pd.DataFrame(np.array(get_summary_n(squad_list, squad_name, ['Germany'])).reshape(-1,4), columns = ['nationality', 'squad', 'overall', 'potential'])\n",
        "Germany.set_index('nationality', inplace = True)\n",
        "Germany[['overall', 'potential']] = Germany[['overall', 'potential']].astype(float)\n",
        "\n",
        "print (Germany)"
      ],
      "metadata": {
        "colab": {
          "base_uri": "https://localhost:8080/"
        },
        "id": "i7a0Z_n8f0g7",
        "outputId": "57b32ff3-d9e9-4563-cfd0-9d381d9dbaae"
      },
      "execution_count": 54,
      "outputs": [
        {
          "output_type": "stream",
          "name": "stdout",
          "text": [
            "               squad  overall  potential\n",
            "nationality                             \n",
            "Germany        3-5-2    83.91      85.55\n",
            "Germany        3-4-3    84.36      85.82\n",
            "Germany        4-4-2    84.09      85.82\n",
            "Germany      4-3-1-2    84.09      85.73\n",
            "Germany        4-3-3    84.64      86.36\n",
            "Germany      4-2-3-1    84.64      86.36\n"
          ]
        }
      ]
    },
    {
      "cell_type": "markdown",
      "source": [
        "Germany's current ratings peak with either 4-2-3-1 or 4-3-3 formation; while 4-3-1-2 are their best options for the future. With that, I'll show Germany's best 11 squad with 4-2-3-1 for current ratings and 4-3-1-2 for potential ratings."
      ],
      "metadata": {
        "id": "cssB-c22gR5z"
      }
    },
    {
      "cell_type": "code",
      "source": [
        "rating_4231_GER_Overall, best_list_4231_GER_Overall = get_best_squad_n(squad_4231_strict, 'Germany', 'overall')\n",
        "print('-Overall-')\n",
        "print('Average rating: {:.1f}'.format(rating_4231_GER_Overall))\n",
        "print(best_list_4231_GER_Overall)"
      ],
      "metadata": {
        "colab": {
          "base_uri": "https://localhost:8080/"
        },
        "id": "dXovjOgJgXSd",
        "outputId": "b1df61ff-08c9-4c8f-ad23-d7ab54f35949"
      },
      "execution_count": 55,
      "outputs": [
        {
          "output_type": "stream",
          "name": "stdout",
          "text": [
            "-Overall-\n",
            "Average rating: 84.6\n",
            "   best_position                    name  overall  age               club  \\\n",
            "0             GK      Manuel Peter Neuer       90   28  FC Bayern München   \n",
            "1             RB        Kevin Großkreutz       77   25  Borussia Dortmund   \n",
            "2             CB            Mats Hummels       86   25  Borussia Dortmund   \n",
            "3             CB          Jérôme Boateng       85   25  FC Bayern München   \n",
            "4             LB        Marcel Schmelzer       78   26  Borussia Dortmund   \n",
            "5             CM  Bastian Schweinsteiger       88   29  FC Bayern München   \n",
            "6            CDM            Philipp Lahm       87   30  FC Bayern München   \n",
            "7             RM           Thomas Müller       86   24  FC Bayern München   \n",
            "8            CAM              Mesut Özil       86   25            Arsenal   \n",
            "9             LM              Marco Reus       86   25  Borussia Dortmund   \n",
            "10            ST      Mario Gómez García       82   28         Fiorentina   \n",
            "\n",
            "      valueEUR    salary  \n",
            "0   63500000.0  300000.0  \n",
            "1    5000000.0   80000.0  \n",
            "2   35500000.0  200000.0  \n",
            "3   21000000.0  170000.0  \n",
            "4    8000000.0   90000.0  \n",
            "5   39000000.0  200000.0  \n",
            "6   24500000.0  190000.0  \n",
            "7   39000000.0  200000.0  \n",
            "8   44000000.0  190000.0  \n",
            "9   40000000.0  180000.0  \n",
            "10  17000000.0  140000.0  \n"
          ]
        }
      ]
    },
    {
      "cell_type": "code",
      "source": [
        "rating_4312_GER_Potential, best_list_4312_GER_Potential = get_best_squad_n(squad_4312_strict, 'Germany', 'potential')\n",
        "print('-Potential-')\n",
        "print('Average rating: {:.1f}'.format(rating_4312_GER_Potential))\n",
        "print(best_list_4312_GER_Potential)"
      ],
      "metadata": {
        "colab": {
          "base_uri": "https://localhost:8080/"
        },
        "id": "x6ajrMpngqSq",
        "outputId": "0c163132-5dc0-4c67-c738-2b65e1067817"
      },
      "execution_count": 56,
      "outputs": [
        {
          "output_type": "stream",
          "name": "stdout",
          "text": [
            "-Potential-\n",
            "Average rating: 85.7\n",
            "   best_position                      name  potential  age               club  \\\n",
            "0             GK        Manuel Peter Neuer         90   28  FC Bayern München   \n",
            "1             RB  Sebastian Alexander Jung         81   24      VfL Wolfsburg   \n",
            "2             CB              Mats Hummels         88   25  Borussia Dortmund   \n",
            "3             CB            Jérôme Boateng         86   25  FC Bayern München   \n",
            "4             LB          Marcel Schmelzer         80   26  Borussia Dortmund   \n",
            "5             CM    Bastian Schweinsteiger         88   29  FC Bayern München   \n",
            "6             CM                Toni Kroos         88   24        Real Madrid   \n",
            "7            CDM              Philipp Lahm         87   30  FC Bayern München   \n",
            "8            CAM               Mario Götze         91   22  FC Bayern München   \n",
            "9             ST        Mario Gómez García         82   28         Fiorentina   \n",
            "10            ST     Pierre-Michel Lasogga         82   22       Hamburger SV   \n",
            "\n",
            "      valueEUR    salary  \n",
            "0   63500000.0  300000.0  \n",
            "1    4900000.0   70000.0  \n",
            "2   35500000.0  200000.0  \n",
            "3   21000000.0  170000.0  \n",
            "4    8000000.0   90000.0  \n",
            "5   39000000.0  200000.0  \n",
            "6   23000000.0  170000.0  \n",
            "7   24500000.0  190000.0  \n",
            "8   21000000.0  150000.0  \n",
            "9   17000000.0  140000.0  \n",
            "10   7500000.0   50000.0  \n"
          ]
        }
      ]
    },
    {
      "cell_type": "code",
      "source": [
        "# brazil\n",
        "\n",
        "Brazil = pd.DataFrame(np.array(get_summary_n(squad_list, squad_name, ['Brazil'])).reshape(-1,4), columns = ['nationality', 'squad', 'overall', 'potential'])\n",
        "Brazil.set_index('nationality', inplace = True)\n",
        "Brazil[['overall', 'potential']] = Brazil[['overall', 'potential']].astype(float)\n",
        "\n",
        "print (Brazil)"
      ],
      "metadata": {
        "colab": {
          "base_uri": "https://localhost:8080/"
        },
        "id": "VkZcgqJzg7P_",
        "outputId": "0260b2ae-6485-4dbb-8ce3-1fc72a8e3cb0"
      },
      "execution_count": 57,
      "outputs": [
        {
          "output_type": "stream",
          "name": "stdout",
          "text": [
            "               squad  overall  potential\n",
            "nationality                             \n",
            "Brazil         3-5-2    82.36      83.64\n",
            "Brazil         3-4-3    82.91      84.73\n",
            "Brazil         4-4-2    82.82      84.64\n",
            "Brazil       4-3-1-2    82.27      83.55\n",
            "Brazil         4-3-3    83.09      85.27\n",
            "Brazil       4-2-3-1    83.09      85.00\n"
          ]
        }
      ]
    },
    {
      "cell_type": "markdown",
      "source": [
        "So we can say that Brazil has the best squard as 3-4-3 for the current and either 3-4-3 or 4-3-3 or 4-2-3-1 for the future squad based on team ratings. Let's check out the best 11 squad line-up of Brazil in 3-4-3 for current rating and 4-2-3-1 for the potential rating:"
      ],
      "metadata": {
        "id": "OFms23HohiRV"
      }
    },
    {
      "cell_type": "code",
      "source": [
        "rating_343_BRA_Overall, best_list_343_BRA_Overall = get_best_squad_n(squad_343_strict, 'Brazil', 'overall')\n",
        "print('-Overall-')\n",
        "print('Average rating: {:.1f}'.format(rating_343_BRA_Overall))\n",
        "print(best_list_343_BRA_Overall)"
      ],
      "metadata": {
        "colab": {
          "base_uri": "https://localhost:8080/"
        },
        "id": "07Hv2QcQhBhu",
        "outputId": "fb11def1-fcfb-4243-b1e6-9e0b258de3a0"
      },
      "execution_count": 58,
      "outputs": [
        {
          "output_type": "stream",
          "name": "stdout",
          "text": [
            "-Overall-\n",
            "Average rating: 82.9\n",
            "   best_position                                   name  overall  age  \\\n",
            "0             GK        Júlio César Soares de Espíndola       82   34   \n",
            "1             CB               Thiago Emiliano da Silva       87   29   \n",
            "2             CB            João Miranda de Souza Filho       83   29   \n",
            "3             CB             Alex Rodrigo Dias da Costa       82   32   \n",
            "4             RB                  Daniel Alves da Silva       83   31   \n",
            "5             CM  Anderson Hernanes de Carvalho Andrade       82   29   \n",
            "6            CDM                      Luiz Gustavo Dias       82   26   \n",
            "7             LB                  Filipe Luís Kasmirski       82   28   \n",
            "8             RW              Givanildo Vieira de Souza       83   27   \n",
            "9             CF              Raffael Caetano de Araújo       80   29   \n",
            "10            LW          Neymar da Silva Santos Júnior       86   22   \n",
            "\n",
            "                        club    valueEUR    salary  \n",
            "0                    Benfica  10500000.0  100000.0  \n",
            "1        Paris Saint Germain  29000000.0  190000.0  \n",
            "2            Atlético Madrid  12500000.0  130000.0  \n",
            "3                      Milan   9000000.0  130000.0  \n",
            "4               FC Barcelona  10000000.0  140000.0  \n",
            "5                      Inter  14500000.0  130000.0  \n",
            "6              VfL Wolfsburg  15000000.0  130000.0  \n",
            "7                    Chelsea  13500000.0  140000.0  \n",
            "8       Zenit St. Petersburg  18500000.0  160000.0  \n",
            "9   Borussia Mönchengladbach  11500000.0   60000.0  \n",
            "10              FC Barcelona  31000000.0  210000.0  \n"
          ]
        }
      ]
    },
    {
      "cell_type": "code",
      "source": [
        "rating_4231_BRA_Potential, best_list_4231_BRA_Potential = get_best_squad_n(squad_4231_strict, 'Brazil', 'potential')\n",
        "print('-Potential-')\n",
        "print('Average rating: {:.1f}'.format(rating_4231_BRA_Potential))\n",
        "print(best_list_4231_BRA_Potential)"
      ],
      "metadata": {
        "colab": {
          "base_uri": "https://localhost:8080/"
        },
        "id": "5WDrrAmahEWi",
        "outputId": "110c3dd8-6acf-4543-de84-33a5a1bcf50f"
      },
      "execution_count": 59,
      "outputs": [
        {
          "output_type": "stream",
          "name": "stdout",
          "text": [
            "-Potential-\n",
            "Average rating: 85.0\n",
            "   best_position                              name  potential  age  \\\n",
            "0             GK   Júlio César Soares de Espíndola         82   34   \n",
            "1             RB              Danilo Luiz da Silva         84   22   \n",
            "2             CB          Thiago Emiliano da Silva         87   29   \n",
            "3             CB           Leandro Castán da Silva         84   27   \n",
            "4             LB    Marcelo Vieira da Silva Júnior         85   26   \n",
            "5             CM  José Paulo Bezzera Maciel Júnior         85   25   \n",
            "6            CDM          Fernando Francisco Reges         83   26   \n",
            "7             RW    Lucas Rodrigues Moura da Silva         87   21   \n",
            "8            CAM   Oscar dos Santos Emboaba Júnior         87   22   \n",
            "9             LW     Neymar da Silva Santos Júnior         91   22   \n",
            "10            CF         Raffael Caetano de Araújo         80   29   \n",
            "\n",
            "                        club    valueEUR    salary  \n",
            "0                    Benfica  10500000.0  100000.0  \n",
            "1                      Porto   3800000.0   70000.0  \n",
            "2        Paris Saint Germain  29000000.0  190000.0  \n",
            "3                       Roma  10500000.0  100000.0  \n",
            "4                Real Madrid  16000000.0  150000.0  \n",
            "5          Tottenham Hotspur  12000000.0   90000.0  \n",
            "6            Manchester City   7500000.0  110000.0  \n",
            "7        Paris Saint Germain  15000000.0  120000.0  \n",
            "8                    Chelsea  21000000.0  150000.0  \n",
            "9               FC Barcelona  31000000.0  210000.0  \n",
            "10  Borussia Mönchengladbach  11500000.0   60000.0  \n"
          ]
        }
      ]
    },
    {
      "cell_type": "code",
      "source": [
        "# spain\n",
        "\n",
        "Spain = pd.DataFrame(np.array(get_summary_n(squad_list, squad_name, ['Spain'])).reshape(-1,4), columns = ['nationality', 'squad', 'overall', 'potential'])\n",
        "Spain.set_index('nationality', inplace = True)\n",
        "Spain[['overall', 'potential']] = Spain[['overall', 'potential']].astype(float)\n",
        "\n",
        "print (Spain)"
      ],
      "metadata": {
        "colab": {
          "base_uri": "https://localhost:8080/"
        },
        "id": "SubB99uAhb-Q",
        "outputId": "847b1e7b-4e30-40ae-cdef-c7068a4f4330"
      },
      "execution_count": 60,
      "outputs": [
        {
          "output_type": "stream",
          "name": "stdout",
          "text": [
            "               squad  overall  potential\n",
            "nationality                             \n",
            "Spain          3-5-2    84.45      86.91\n",
            "Spain          3-4-3    84.64      86.73\n",
            "Spain          4-4-2    84.55      86.64\n",
            "Spain        4-3-1-2    84.55      86.91\n",
            "Spain          4-3-3    84.73      86.91\n",
            "Spain        4-2-3-1    84.73      86.91\n"
          ]
        }
      ]
    },
    {
      "cell_type": "markdown",
      "source": [
        "Well, Spain does best with 4-2-3-1 for current and 4-3-3 for potential rating."
      ],
      "metadata": {
        "id": "CgB3X7evh_Ur"
      }
    },
    {
      "cell_type": "code",
      "source": [
        "rating_4231_SPN_Overall, best_list_4231_SPN_Overall = get_best_squad_n(squad_4231_strict, 'Spain', 'overall')\n",
        "print('-Overall-')\n",
        "print('Average rating: {:.1f}'.format(rating_4231_SPN_Overall))\n",
        "print(best_list_4231_SPN_Overall)"
      ],
      "metadata": {
        "colab": {
          "base_uri": "https://localhost:8080/"
        },
        "id": "1e4ldQfj144l",
        "outputId": "dbcd6de8-81f7-4118-ce41-aa0f0e1ba09d"
      },
      "execution_count": 61,
      "outputs": [
        {
          "output_type": "stream",
          "name": "stdout",
          "text": [
            "-Overall-\n",
            "Average rating: 84.7\n",
            "   best_position                       name  overall  age               club  \\\n",
            "0             GK    Iker Casillas Fernández       84   33        Real Madrid   \n",
            "1             RB      Andoni Iraola Sagarna       80   32      Athletic Club   \n",
            "2             CB        Sergio Ramos García       87   28        Real Madrid   \n",
            "3             CB    Javier Martínez Aginaga       85   25  FC Bayern München   \n",
            "4             LB           Jordi Alba Ramos       81   25       FC Barcelona   \n",
            "5             CM       Andrés Iniesta Luján       89   30       FC Barcelona   \n",
            "6             CM     Xavier Hernández Creus       86   34       FC Barcelona   \n",
            "7             RM       Jesús Navas González       83   28    Manchester City   \n",
            "8            CAM    Juan Manuel Mata García       85   26  Manchester United   \n",
            "9             LM  David Josué Jiménez Silva       87   28    Manchester City   \n",
            "10            ST       Diego da Silva Costa       85   25            Chelsea   \n",
            "\n",
            "      valueEUR    salary  \n",
            "0   16500000.0  140000.0  \n",
            "1    6500000.0   60000.0  \n",
            "2   31500000.0  220000.0  \n",
            "3   21000000.0  160000.0  \n",
            "4   11000000.0  110000.0  \n",
            "5   36000000.0  250000.0  \n",
            "6   15500000.0  160000.0  \n",
            "7   15500000.0  150000.0  \n",
            "8   27000000.0  190000.0  \n",
            "9   36500000.0  220000.0  \n",
            "10  26500000.0  170000.0  \n"
          ]
        }
      ]
    },
    {
      "cell_type": "code",
      "source": [
        "rating_433_SPN_Potential, best_list_433_SPN_Potential = get_best_squad_n(squad_433_strict, 'Spain', 'potential')\n",
        "print('-Potential-')\n",
        "print('Average rating: {:.1f}'.format(rating_433_SPN_Potential))\n",
        "print(best_list_433_SPN_Potential)"
      ],
      "metadata": {
        "colab": {
          "base_uri": "https://localhost:8080/"
        },
        "id": "rg1vFxgH9J5B",
        "outputId": "29063cb6-d621-4d27-ea60-b763a360be60"
      },
      "execution_count": 62,
      "outputs": [
        {
          "output_type": "stream",
          "name": "stdout",
          "text": [
            "-Potential-\n",
            "Average rating: 86.9\n",
            "   best_position                            name  potential  age  \\\n",
            "0             GK           David De Gea Quintana         87   23   \n",
            "1             RB         Martín Montoya Torralbo         83   23   \n",
            "2             CB           Gerard Piqué Bernabéu         89   27   \n",
            "3             CB             Sergio Ramos García         87   28   \n",
            "4             LB                Jordi Alba Ramos         85   25   \n",
            "5             CM            Andrés Iniesta Luján         89   30   \n",
            "6            CDM        Sergio Busquets i Burgos         89   25   \n",
            "7            CAM  Francisco Román Alarcón Suárez         88   22   \n",
            "8             RW        Markel Susaeta Laskurain         85   26   \n",
            "9             ST            Diego da Silva Costa         87   25   \n",
            "10            LM       David Josué Jiménez Silva         87   28   \n",
            "\n",
            "                 club    valueEUR    salary  \n",
            "0   Manchester United  13500000.0  130000.0  \n",
            "1        FC Barcelona   4400000.0   80000.0  \n",
            "2        FC Barcelona  20500000.0  190000.0  \n",
            "3         Real Madrid  31500000.0  220000.0  \n",
            "4        FC Barcelona  11000000.0  110000.0  \n",
            "5        FC Barcelona  36000000.0  250000.0  \n",
            "6        FC Barcelona  20000000.0  170000.0  \n",
            "7         Real Madrid  15000000.0  120000.0  \n",
            "8       Athletic Club  14000000.0   80000.0  \n",
            "9             Chelsea  26500000.0  170000.0  \n",
            "10    Manchester City  36500000.0  220000.0  \n"
          ]
        }
      ]
    },
    {
      "cell_type": "code",
      "source": [
        "# england\n",
        "\n",
        "England = pd.DataFrame(np.array(get_summary_n(squad_list, squad_name, ['England'])).reshape(-1,4), columns = ['nationality', 'squad', 'overall', 'potential'])\n",
        "England.set_index('nationality', inplace = True)\n",
        "England[['overall', 'potential']] = England[['overall', 'potential']].astype(float)\n",
        "\n",
        "print (England)"
      ],
      "metadata": {
        "colab": {
          "base_uri": "https://localhost:8080/"
        },
        "id": "boJ4jqaniJLd",
        "outputId": "0cb4f193-790a-4d93-aa32-65bf622dd3a7"
      },
      "execution_count": 63,
      "outputs": [
        {
          "output_type": "stream",
          "name": "stdout",
          "text": [
            "               squad  overall  potential\n",
            "nationality                             \n",
            "England        3-5-2    81.36      83.73\n",
            "England        3-4-3    81.09      83.27\n",
            "England        4-4-2    81.45      83.91\n",
            "England      4-3-1-2    81.45      83.73\n",
            "England        4-3-3    81.18      83.73\n",
            "England      4-2-3-1    81.09      83.64\n"
          ]
        }
      ]
    },
    {
      "cell_type": "code",
      "source": [
        "rating_442_ENG_Overall, best_list_442_ENG_Overall = get_best_squad_n(squad_442_strict, 'England', 'overall')\n",
        "print('-Overall-')\n",
        "print('Average rating: {:.1f}'.format(rating_442_ENG_Overall))\n",
        "print(best_list_442_ENG_Overall)"
      ],
      "metadata": {
        "colab": {
          "base_uri": "https://localhost:8080/"
        },
        "id": "F74kmQ_03dmF",
        "outputId": "6e4cfc37-df37-4dac-ea54-9542f36e3f6f"
      },
      "execution_count": 64,
      "outputs": [
        {
          "output_type": "stream",
          "name": "stdout",
          "text": [
            "-Overall-\n",
            "Average rating: 81.5\n",
            "   best_position                      name  overall  age               club  \\\n",
            "0             GK  Charles Joseph John Hart       82   27    Manchester City   \n",
            "1             RB            Micah Richards       77   26         Fiorentina   \n",
            "2             CB                John Terry       83   33            Chelsea   \n",
            "3             CB               Gary Cahill       81   28            Chelsea   \n",
            "4             LB           Leighton Baines       82   29            Everton   \n",
            "5             RM              Theo Walcott       81   25            Arsenal   \n",
            "6            CDM            Steven Gerrard       82   34          Liverpool   \n",
            "7             CM             Jack Wilshere       81   22            Arsenal   \n",
            "8             LM              Ashley Young       78   28  Manchester United   \n",
            "9             ST         Wayne Mark Rooney       86   28  Manchester United   \n",
            "10            ST    Daniel Andre Sturridge       83   24          Liverpool   \n",
            "\n",
            "      valueEUR    salary  \n",
            "0   15000000.0  150000.0  \n",
            "1    5500000.0   80000.0  \n",
            "2    7000000.0  100000.0  \n",
            "3    9500000.0  110000.0  \n",
            "4   12500000.0   90000.0  \n",
            "5   12000000.0  110000.0  \n",
            "6    3900000.0  100000.0  \n",
            "7    9500000.0  100000.0  \n",
            "8    7500000.0  100000.0  \n",
            "9   40000000.0  230000.0  \n",
            "10  18500000.0  120000.0  \n"
          ]
        }
      ]
    },
    {
      "cell_type": "markdown",
      "source": [
        "England should stick to 4-4-2 with the current squad and 4-3-1-2 with their potential squad."
      ],
      "metadata": {
        "id": "_8aWQBDTimF5"
      }
    },
    {
      "cell_type": "code",
      "source": [
        "rating_4312_ENG_Potential, best_list_4312_ENG_Potential = get_best_squad_n(squad_4312_strict, 'England', 'potential')\n",
        "print('-Potential-')\n",
        "print('Average rating: {:.1f}'.format(rating_4312_ENG_Potential))\n",
        "print(best_list_4312_ENG_Potential)"
      ],
      "metadata": {
        "colab": {
          "base_uri": "https://localhost:8080/"
        },
        "id": "kcAvZ7_m95Nz",
        "outputId": "66e28ce5-1ce8-4aa8-cc22-851a4e0f92bb"
      },
      "execution_count": 65,
      "outputs": [
        {
          "output_type": "stream",
          "name": "stdout",
          "text": [
            "-Potential-\n",
            "Average rating: 83.7\n",
            "   best_position                      name  potential  age               club  \\\n",
            "0             GK  Charles Joseph John Hart         83   27    Manchester City   \n",
            "1             RB               Kyle Walker         81   24  Tottenham Hotspur   \n",
            "2             CB                Phil Jones         84   22  Manchester United   \n",
            "3             CB                John Terry         83   33            Chelsea   \n",
            "4             LB           Leighton Baines         82   29            Everton   \n",
            "5             CM             Jack Wilshere         85   22            Arsenal   \n",
            "6             CM          Jordan Henderson         83   24          Liverpool   \n",
            "7            CDM            Steven Gerrard         82   34          Liverpool   \n",
            "8            CAM              Ross Barkley         86   20            Everton   \n",
            "9             ST         Wayne Mark Rooney         86   28  Manchester United   \n",
            "10            ST    Daniel Andre Sturridge         86   24          Liverpool   \n",
            "\n",
            "      valueEUR    salary  \n",
            "0   15000000.0  150000.0  \n",
            "1    4900000.0   70000.0  \n",
            "2    5500000.0   90000.0  \n",
            "3    7000000.0  100000.0  \n",
            "4   12500000.0   90000.0  \n",
            "5    9500000.0  100000.0  \n",
            "6    8000000.0   70000.0  \n",
            "7    3900000.0  100000.0  \n",
            "8    7500000.0   45000.0  \n",
            "9   40000000.0  230000.0  \n",
            "10  18500000.0  120000.0  \n"
          ]
        }
      ]
    },
    {
      "cell_type": "code",
      "source": [
        "# portugal\n",
        "\n",
        "Portugal = pd.DataFrame(np.array(get_summary_n(squad_list, squad_name, ['Portugal'])).reshape(-1,4), columns = ['nationality', 'squad', 'overall', 'potential'])\n",
        "Portugal.set_index('nationality', inplace = True)\n",
        "Portugal[['overall', 'potential']] = Portugal[['overall', 'potential']].astype(float)\n",
        "\n",
        "print (Portugal)"
      ],
      "metadata": {
        "colab": {
          "base_uri": "https://localhost:8080/"
        },
        "id": "Dd0s_Naoi4XZ",
        "outputId": "f10469be-1804-46da-f93f-e7469e7d08c2"
      },
      "execution_count": 66,
      "outputs": [
        {
          "output_type": "stream",
          "name": "stdout",
          "text": [
            "               squad  overall  potential\n",
            "nationality                             \n",
            "Portugal       3-5-2    78.82      81.09\n",
            "Portugal       3-4-3    80.82      82.45\n",
            "Portugal       4-4-2    80.55      82.64\n",
            "Portugal     4-3-1-2    79.00      81.27\n",
            "Portugal       4-3-3    81.00      82.64\n",
            "Portugal     4-2-3-1    80.64      82.55\n"
          ]
        }
      ]
    },
    {
      "cell_type": "code",
      "source": [
        "rating_433_POR_Overall, best_list_433_POR_Overall = get_best_squad_n(squad_433_strict, 'Portugal', 'overall')\n",
        "print('-Overall-')\n",
        "print('Average rating: {:.1f}'.format(rating_433_POR_Overall))\n",
        "print(best_list_433_POR_Overall)"
      ],
      "metadata": {
        "colab": {
          "base_uri": "https://localhost:8080/"
        },
        "id": "lpTohVqe4Gus",
        "outputId": "8e6a5040-5ed9-429f-82a7-d34dd3cd6ebf"
      },
      "execution_count": 67,
      "outputs": [
        {
          "output_type": "stream",
          "name": "stdout",
          "text": [
            "-Overall-\n",
            "Average rating: 81.0\n",
            "   best_position                                          name  overall  age  \\\n",
            "0             GK               António Alberto Bastos Pimparel       81   32   \n",
            "1             RB  Sílvio Manuel de Azevedo Ferreira Sá Pereira       76   26   \n",
            "2             CB               Kléper Laveran de Lima Ferreira       83   31   \n",
            "3             CB                    Bruno Eduardo Regufe Alves       80   32   \n",
            "4             LB             Fábio Alexandre da Silva Coentrão       79   26   \n",
            "5             CM              João Filipe Iria Santos Moutinho       83   27   \n",
            "6             CM                          Tiago Cardoso Mendes       80   33   \n",
            "7            CDM                      Miguel Luís Pinto Veloso       80   28   \n",
            "8             RM                  Luís Carlos Almeida da Cunha       81   27   \n",
            "9             ST                 Éderzito António Macedo Lopes       76   26   \n",
            "10            LW           Cristiano Ronaldo dos Santos Aveiro       92   29   \n",
            "\n",
            "               club    valueEUR    salary  \n",
            "0           Sevilla   9000000.0   80000.0  \n",
            "1           Benfica   5500000.0   90000.0  \n",
            "2       Real Madrid  10000000.0  130000.0  \n",
            "3        Fenerbahçe   6500000.0  100000.0  \n",
            "4       Real Madrid   8000000.0  110000.0  \n",
            "5            Monaco  16500000.0  110000.0  \n",
            "6   Atlético Madrid   6500000.0   80000.0  \n",
            "7               NaN         NaN       NaN  \n",
            "8       Sporting CP  12000000.0  110000.0  \n",
            "9    Sporting Braga   6500000.0   80000.0  \n",
            "10      Real Madrid  79000000.0  375000.0  \n"
          ]
        }
      ]
    },
    {
      "cell_type": "markdown",
      "source": [
        "OK, I'll go with 4-3-3 for current rating and 3-4-3 for potential rating of Portugal."
      ],
      "metadata": {
        "id": "VyPYKeIDjLat"
      }
    },
    {
      "cell_type": "code",
      "source": [
        "rating_433_POR_Potential, best_list_433_POR_Potential = get_best_squad_n(squad_433_strict, 'Portugal', 'potential')\n",
        "print('-Potential-')\n",
        "print('Average rating: {:.1f}'.format(rating_433_POR_Potential))\n",
        "print(best_list_433_POR_Potential)"
      ],
      "metadata": {
        "colab": {
          "base_uri": "https://localhost:8080/"
        },
        "id": "aptmXKr5-jiY",
        "outputId": "8686593d-5629-4c53-99a7-a11e14afc0fb"
      },
      "execution_count": 68,
      "outputs": [
        {
          "output_type": "stream",
          "name": "stdout",
          "text": [
            "-Potential-\n",
            "Average rating: 82.6\n",
            "   best_position                                 name  potential  age  \\\n",
            "0             GK        Rui Pedro dos Santos Patrício         84   26   \n",
            "1             RB          Cédric Ricardo Alves Soares         80   22   \n",
            "2             CB      Kléper Laveran de Lima Ferreira         83   31   \n",
            "3             CB           Bruno Eduardo Regufe Alves         80   32   \n",
            "4             LB    Fábio Alexandre da Silva Coentrão         82   26   \n",
            "5             CM     João Filipe Iria Santos Moutinho         83   27   \n",
            "6             CM     Adrien Sebastian Perruchet Silva         83   25   \n",
            "7             CM                 Tiago Cardoso Mendes         80   33   \n",
            "8             RM         Luís Carlos Almeida da Cunha         82   27   \n",
            "9             ST        Nélson Miguel Castro Oliveira         80   22   \n",
            "10            LW  Cristiano Ronaldo dos Santos Aveiro         92   29   \n",
            "\n",
            "               club    valueEUR    salary  \n",
            "0       Sporting CP  11500000.0  110000.0  \n",
            "1       Sporting CP   3800000.0   70000.0  \n",
            "2       Real Madrid  10000000.0  130000.0  \n",
            "3        Fenerbahçe   6500000.0  100000.0  \n",
            "4       Real Madrid   8000000.0  110000.0  \n",
            "5            Monaco  16500000.0  110000.0  \n",
            "6       Sporting CP   8500000.0   80000.0  \n",
            "7   Atlético Madrid   6500000.0   80000.0  \n",
            "8       Sporting CP  12000000.0  110000.0  \n",
            "9           Benfica   2400000.0   50000.0  \n",
            "10      Real Madrid  79000000.0  375000.0  \n"
          ]
        }
      ]
    },
    {
      "cell_type": "markdown",
      "source": [
        "Despite missing out in the last 2 world cups we cant rule out the 4 time world champions and the current Euro winners"
      ],
      "metadata": {
        "id": "CHRy0940j3p-"
      }
    },
    {
      "cell_type": "code",
      "source": [
        "# Italy\n",
        "\n",
        "Italy = pd.DataFrame(np.array(get_summary_n(squad_list, squad_name, ['Italy'])).reshape(-1,4), columns = ['nationality', 'squad', 'overall', 'potential'])\n",
        "Italy.set_index('nationality', inplace = True)\n",
        "Italy[['overall', 'potential']] = Italy[['overall', 'potential']].astype(float)\n",
        "\n",
        "print (Italy)"
      ],
      "metadata": {
        "colab": {
          "base_uri": "https://localhost:8080/"
        },
        "id": "QSCstk_DjMHA",
        "outputId": "21385628-824d-4aee-bb9a-8d578a454034"
      },
      "execution_count": 69,
      "outputs": [
        {
          "output_type": "stream",
          "name": "stdout",
          "text": [
            "               squad  overall  potential\n",
            "nationality                             \n",
            "Italy          3-5-2    81.36      83.73\n",
            "Italy          3-4-3    81.55      83.82\n",
            "Italy          4-4-2    81.73      84.09\n",
            "Italy        4-3-1-2    81.73      83.82\n",
            "Italy          4-3-3    81.91      84.00\n",
            "Italy        4-2-3-1    81.55      84.00\n"
          ]
        }
      ]
    },
    {
      "cell_type": "markdown",
      "source": [
        "Italy's best current formation is 4-3-3 and potential of 4-2-3-1."
      ],
      "metadata": {
        "id": "FtuLPzeQj5NR"
      }
    },
    {
      "cell_type": "code",
      "source": [
        "rating_433_ITY_Overall, best_list_433_ITY_Overall = get_best_squad_n(squad_433_strict, 'Italy', 'overall')\n",
        "print('-Overall-')\n",
        "print('Average rating: {:.1f}'.format(rating_433_ITY_Overall))\n",
        "print(best_list_433_ITY_Overall)"
      ],
      "metadata": {
        "colab": {
          "base_uri": "https://localhost:8080/"
        },
        "id": "7V7yh3Pa6i3U",
        "outputId": "6b44a442-e0e1-4dae-eac3-73a7179ad53c"
      },
      "execution_count": 70,
      "outputs": [
        {
          "output_type": "stream",
          "name": "stdout",
          "text": [
            "-Overall-\n",
            "Average rating: 81.9\n",
            "   best_position                 name  overall  age                  club  \\\n",
            "0             GK     Salvatore Sirigu       84   27   Paris Saint Germain   \n",
            "1             RB     Christian Maggio       76   32                Napoli   \n",
            "2             CB    Giorgio Chiellini       84   29              Juventus   \n",
            "3             CB      Andrea Barzagli       83   33              Juventus   \n",
            "4             LB    Domenico Criscito       78   27  Zenit St. Petersburg   \n",
            "5             CM         Andrea Pirlo       84   35              Juventus   \n",
            "6            CDM     Daniele De Rossi       84   30                  Roma   \n",
            "7             CM    Claudio Marchisio       83   28              Juventus   \n",
            "8             RW     Antonio Candreva       83   27                 Lazio   \n",
            "9             ST       Giuseppe Rossi       82   27            Fiorentina   \n",
            "10            LW  Stephan El Shaarawy       80   21                 Milan   \n",
            "\n",
            "      valueEUR    salary  \n",
            "0   21000000.0  180000.0  \n",
            "1    3100000.0   70000.0  \n",
            "2   17500000.0  150000.0  \n",
            "3    7000000.0  100000.0  \n",
            "4    7500000.0   90000.0  \n",
            "5    6000000.0  140000.0  \n",
            "6   14500000.0  130000.0  \n",
            "7   15500000.0  150000.0  \n",
            "8   18500000.0  130000.0  \n",
            "9   18500000.0  140000.0  \n",
            "10   9500000.0  100000.0  \n"
          ]
        }
      ]
    },
    {
      "cell_type": "code",
      "source": [
        "rating_442_ITY_Potential, best_list_442_ITY_Potential = get_best_squad_n(squad_442_strict, 'Italy', 'potential')\n",
        "print('-Potential-')\n",
        "print('Average rating: {:.1f}'.format(rating_442_ITY_Potential))\n",
        "print(best_list_442_ITY_Potential)"
      ],
      "metadata": {
        "colab": {
          "base_uri": "https://localhost:8080/"
        },
        "id": "qUrqqPhT_E9V",
        "outputId": "ecc66583-7351-44b3-80a4-9cbefa35572a"
      },
      "execution_count": 71,
      "outputs": [
        {
          "output_type": "stream",
          "name": "stdout",
          "text": [
            "-Potential-\n",
            "Average rating: 84.1\n",
            "   best_position                     name  potential  age  \\\n",
            "0             GK         Salvatore Sirigu         85   27   \n",
            "1             RB            Ignazio Abate         79   27   \n",
            "2             CB        Giorgio Chiellini         84   29   \n",
            "3             CB          Andrea Barzagli         83   33   \n",
            "4             LB        Domenico Criscito         81   27   \n",
            "5             RW         Antonio Candreva         84   27   \n",
            "6             CM           Marco Verratti         86   21   \n",
            "7            CAM          Lorenzo Insigne         85   23   \n",
            "8             LW      Stephan El Shaarawy         87   21   \n",
            "9             ST  Mario Barwuah Balotelli         86   23   \n",
            "10            ST            Ciro Immobile         85   24   \n",
            "\n",
            "                    club    valueEUR    salary  \n",
            "0    Paris Saint Germain  21000000.0  180000.0  \n",
            "1                  Milan   3200000.0   60000.0  \n",
            "2               Juventus  17500000.0  150000.0  \n",
            "3               Juventus   7000000.0  100000.0  \n",
            "4   Zenit St. Petersburg   7500000.0   90000.0  \n",
            "5                  Lazio  18500000.0  130000.0  \n",
            "6    Paris Saint Germain   9500000.0   90000.0  \n",
            "7                 Napoli   8000000.0   90000.0  \n",
            "8                  Milan   9500000.0  100000.0  \n",
            "9              Liverpool  16500000.0  130000.0  \n",
            "10     Borussia Dortmund  13000000.0  100000.0  \n"
          ]
        }
      ]
    },
    {
      "cell_type": "code",
      "source": [
        "# Argentina\n",
        "\n",
        "Argentina = pd.DataFrame(np.array(get_summary_n(squad_list, squad_name, ['Argentina'])).reshape(-1,4), columns = ['nationality', 'squad', 'overall', 'potential'])\n",
        "Argentina.set_index('nationality', inplace = True)\n",
        "Argentina[['overall', 'potential']] = Argentina[['overall', 'potential']].astype(float)\n",
        "\n",
        "print (Argentina)"
      ],
      "metadata": {
        "colab": {
          "base_uri": "https://localhost:8080/"
        },
        "id": "OeMlm0lqjxI6",
        "outputId": "949e76d2-f9fb-411d-a0ad-30e73c46fd9d"
      },
      "execution_count": 72,
      "outputs": [
        {
          "output_type": "stream",
          "name": "stdout",
          "text": [
            "               squad  overall  potential\n",
            "nationality                             \n",
            "Argentina      3-5-2    82.64      85.18\n",
            "Argentina      3-4-3    81.64      84.91\n",
            "Argentina      4-4-2    82.73      85.45\n",
            "Argentina    4-3-1-2    82.64      85.09\n",
            "Argentina      4-3-3    82.18      85.27\n",
            "Argentina    4-2-3-1    82.18      85.27\n"
          ]
        }
      ]
    },
    {
      "cell_type": "markdown",
      "source": [
        "4-4-2 fare very well for the current and potential ratings of Argentine players. I'll choose 4-4-2 for their current squad and their future squad."
      ],
      "metadata": {
        "id": "EsQMfZDHkpCW"
      }
    },
    {
      "cell_type": "code",
      "source": [
        "rating_442_ARG_Overall, best_list_442_ARG_Overall = get_best_squad_n(squad_442_strict, 'Argentina', 'overall')\n",
        "print('-Overall-')\n",
        "print('Average rating: {:.1f}'.format(rating_442_ARG_Overall))\n",
        "print(best_list_442_ARG_Overall)"
      ],
      "metadata": {
        "colab": {
          "base_uri": "https://localhost:8080/"
        },
        "id": "ytg8-FMs7Ddh",
        "outputId": "208c74f7-b03d-4800-b41b-c1536203302f"
      },
      "execution_count": 73,
      "outputs": [
        {
          "output_type": "stream",
          "name": "stdout",
          "text": [
            "-Overall-\n",
            "Average rating: 82.7\n",
            "   best_position                               name  overall  age  \\\n",
            "0             GK          Wilfredo Daniel Caballero       79   32   \n",
            "1             RB        Pablo Javier Zabaleta Girod       82   29   \n",
            "2             CB        Javier Alejandro Mascherano       83   30   \n",
            "3             CB             Ezequiel Marcelo Garay       83   27   \n",
            "4             LB            Cristian Daniel Ansaldi       77   27   \n",
            "5             RM             Eduardo Antonio Salvio       79   23   \n",
            "6             CM      Éver Maximiliano David Banega       80   26   \n",
            "7            CAM    Ángel Fabián Di María Hernández       86   26   \n",
            "8             LW              Ezequiel Iván Lavezzi       82   29   \n",
            "9             CF     Lionel Andrés Messi Cuccittini       93   27   \n",
            "10            ST  Sergio Leonel Agüero del Castillo       86   26   \n",
            "\n",
            "                    club     valueEUR    salary  \n",
            "0        Manchester City    6500000.0   90000.0  \n",
            "1        Manchester City   12500000.0  130000.0  \n",
            "2           FC Barcelona   11500000.0  130000.0  \n",
            "3   Zenit St. Petersburg   14500000.0  150000.0  \n",
            "4        Atlético Madrid    4900000.0   90000.0  \n",
            "5                Benfica    7500000.0   90000.0  \n",
            "6                Sevilla   12500000.0   90000.0  \n",
            "7      Manchester United   45500000.0  230000.0  \n",
            "8    Paris Saint Germain   14500000.0  140000.0  \n",
            "9           FC Barcelona  100500000.0  550000.0  \n",
            "10       Manchester City   45500000.0  230000.0  \n"
          ]
        }
      ]
    },
    {
      "cell_type": "code",
      "source": [
        "rating_433_POR_Potential, best_list_433_POR_Potential = get_best_squad_n(squad_433_strict, 'Portugal', 'potential')\n",
        "print('-Potential-')\n",
        "print('Average rating: {:.1f}'.format(rating_433_POR_Potential))\n",
        "print(best_list_433_POR_Potential)"
      ],
      "metadata": {
        "colab": {
          "base_uri": "https://localhost:8080/"
        },
        "id": "sO_qaKiT_G5y",
        "outputId": "70e1337c-f7c5-4e1c-fb35-d7f6509f8044"
      },
      "execution_count": 74,
      "outputs": [
        {
          "output_type": "stream",
          "name": "stdout",
          "text": [
            "-Potential-\n",
            "Average rating: 82.6\n",
            "   best_position                                 name  potential  age  \\\n",
            "0             GK        Rui Pedro dos Santos Patrício         84   26   \n",
            "1             RB          Cédric Ricardo Alves Soares         80   22   \n",
            "2             CB      Kléper Laveran de Lima Ferreira         83   31   \n",
            "3             CB           Bruno Eduardo Regufe Alves         80   32   \n",
            "4             LB    Fábio Alexandre da Silva Coentrão         82   26   \n",
            "5             CM     João Filipe Iria Santos Moutinho         83   27   \n",
            "6             CM     Adrien Sebastian Perruchet Silva         83   25   \n",
            "7             CM                 Tiago Cardoso Mendes         80   33   \n",
            "8             RM         Luís Carlos Almeida da Cunha         82   27   \n",
            "9             ST        Nélson Miguel Castro Oliveira         80   22   \n",
            "10            LW  Cristiano Ronaldo dos Santos Aveiro         92   29   \n",
            "\n",
            "               club    valueEUR    salary  \n",
            "0       Sporting CP  11500000.0  110000.0  \n",
            "1       Sporting CP   3800000.0   70000.0  \n",
            "2       Real Madrid  10000000.0  130000.0  \n",
            "3        Fenerbahçe   6500000.0  100000.0  \n",
            "4       Real Madrid   8000000.0  110000.0  \n",
            "5            Monaco  16500000.0  110000.0  \n",
            "6       Sporting CP   8500000.0   80000.0  \n",
            "7   Atlético Madrid   6500000.0   80000.0  \n",
            "8       Sporting CP  12000000.0  110000.0  \n",
            "9           Benfica   2400000.0   50000.0  \n",
            "10      Real Madrid  79000000.0  375000.0  \n"
          ]
        }
      ]
    },
    {
      "cell_type": "code",
      "source": [
        "# Belgium\n",
        "\n",
        "Belgium = pd.DataFrame(np.array(get_summary_n(squad_list, squad_name, ['Belgium'])).reshape(-1,4), columns = ['nationality', 'squad', 'overall', 'potential'])\n",
        "Belgium.set_index('nationality', inplace = True)\n",
        "Belgium[['overall', 'potential']] = Belgium[['overall', 'potential']].astype(float)\n",
        "\n",
        "print (Belgium)"
      ],
      "metadata": {
        "colab": {
          "base_uri": "https://localhost:8080/"
        },
        "id": "BDB8qwnDklch",
        "outputId": "dcf397c0-03a7-4d1d-f1d6-a8ad6ad3a4ea"
      },
      "execution_count": 75,
      "outputs": [
        {
          "output_type": "stream",
          "name": "stdout",
          "text": [
            "               squad  overall  potential\n",
            "nationality                             \n",
            "Belgium        3-5-2    80.00      83.55\n",
            "Belgium        3-4-3    80.55      83.55\n",
            "Belgium        4-4-2    80.82      84.18\n",
            "Belgium      4-3-1-2    80.00      83.45\n",
            "Belgium        4-3-3    80.91      84.18\n",
            "Belgium      4-2-3-1    80.82      83.91\n"
          ]
        }
      ]
    },
    {
      "cell_type": "markdown",
      "source": [
        "For Belgium squad, 4-3-3 fits the current squad and either 4-4-3 or 4-3-1-2 fits the future squad"
      ],
      "metadata": {
        "id": "38BlmStwuP2v"
      }
    },
    {
      "cell_type": "code",
      "source": [
        "rating_433_BLG_Overall, best_list_433_BLG_Overall = get_best_squad_n(squad_433_strict, 'Belgium', 'overall')\n",
        "print('-Overall-')\n",
        "print('Average rating: {:.1f}'.format(rating_433_BLG_Overall))\n",
        "print(best_list_433_BLG_Overall)"
      ],
      "metadata": {
        "colab": {
          "base_uri": "https://localhost:8080/"
        },
        "id": "PAnpijDk7bkm",
        "outputId": "eb48197c-df1c-4a84-ce82-2e44afac07af"
      },
      "execution_count": 76,
      "outputs": [
        {
          "output_type": "stream",
          "name": "stdout",
          "text": [
            "-Overall-\n",
            "Average rating: 80.9\n",
            "   best_position                           name  overall  age  \\\n",
            "0             GK  Thibaut Nicolas Marc Courtois       86   22   \n",
            "1             RB           Anthony Vanden Borre       72   26   \n",
            "2             CB      Vincent Jean Mpoy Kompany       86   28   \n",
            "3             CB      Jan Bert Lieve Vertonghen       82   27   \n",
            "4             LB                Jelle Van Damme       73   30   \n",
            "5             CM        Mousa Sidi Yaya Dembélé       80   26   \n",
            "6            CAM                  Dries Mertens       82   27   \n",
            "7            CAM                Kevin De Bruyne       81   23   \n",
            "8             RM                 Kevin Mirallas       80   26   \n",
            "9             ST        Christian Benteke Liolo       80   23   \n",
            "10            LM            Eden Michael Hazard       88   23   \n",
            "\n",
            "                 club    valueEUR    salary  \n",
            "0             Chelsea  27000000.0  170000.0  \n",
            "1          Anderlecht   2500000.0   40000.0  \n",
            "2     Manchester City  31500000.0  220000.0  \n",
            "3   Tottenham Hotspur  14500000.0  130000.0  \n",
            "4      Standard Liège   1800000.0   50000.0  \n",
            "5   Tottenham Hotspur  12500000.0  100000.0  \n",
            "6              Napoli  18500000.0  130000.0  \n",
            "7       VfL Wolfsburg  12000000.0   90000.0  \n",
            "8             Everton  12500000.0   80000.0  \n",
            "9         Aston Villa  12000000.0   70000.0  \n",
            "10            Chelsea  40500000.0  210000.0  \n"
          ]
        }
      ]
    },
    {
      "cell_type": "code",
      "source": [
        "rating_442_BLG_Potential, best_list_442_BLG_Potential = get_best_squad_n(squad_442_strict, 'Belgium', 'potential')\n",
        "print('-Potential-')\n",
        "print('Average rating: {:.1f}'.format(rating_442_BLG_Potential))\n",
        "print(best_list_442_BLG_Potential)"
      ],
      "metadata": {
        "colab": {
          "base_uri": "https://localhost:8080/"
        },
        "id": "63tCjDoj_I-j",
        "outputId": "ff930c1b-154c-49b0-f3c0-ec09c116fc7f"
      },
      "execution_count": 77,
      "outputs": [
        {
          "output_type": "stream",
          "name": "stdout",
          "text": [
            "-Potential-\n",
            "Average rating: 84.2\n",
            "   best_position                               name  potential  age  \\\n",
            "0             GK      Thibaut Nicolas Marc Courtois         90   22   \n",
            "1             RB                 Luis Pedro Cavanda         76   23   \n",
            "2             CB          Vincent Jean Mpoy Kompany         86   28   \n",
            "3             CB          Jan Bert Lieve Vertonghen         84   27   \n",
            "4             LB     Laurens Henry Cristine De Bock         77   21   \n",
            "5             RM                     Kevin Mirallas         81   26   \n",
            "6             CM  Axel Laurent Angel Lambert Witsel         85   25   \n",
            "7            CAM                    Kevin De Bruyne         86   23   \n",
            "8             LM                Eden Michael Hazard         90   23   \n",
            "9             ST               Romelu Lukaku Menama         86   21   \n",
            "10            ST            Christian Benteke Liolo         85   23   \n",
            "\n",
            "                    club    valueEUR    salary  \n",
            "0                Chelsea  27000000.0  170000.0  \n",
            "1                  Lazio   2100000.0   25000.0  \n",
            "2        Manchester City  31500000.0  220000.0  \n",
            "3      Tottenham Hotspur  14500000.0  130000.0  \n",
            "4            Club Brugge   1100000.0   30000.0  \n",
            "5                Everton  12500000.0   80000.0  \n",
            "6   Zenit St. Petersburg  12000000.0   90000.0  \n",
            "7          VfL Wolfsburg  12000000.0   90000.0  \n",
            "8                Chelsea  40500000.0  210000.0  \n",
            "9                Everton  10500000.0   60000.0  \n",
            "10           Aston Villa  12000000.0   70000.0  \n"
          ]
        }
      ]
    },
    {
      "cell_type": "code",
      "source": [
        "# Netherlands\n",
        "\n",
        "Netherlands = pd.DataFrame(np.array(get_summary_n(squad_list, squad_name, ['Netherlands'])).reshape(-1,4), columns = ['nationality', 'squad', 'overall', 'potential'])\n",
        "Netherlands.set_index('nationality', inplace = True)\n",
        "Netherlands[['overall', 'potential']] = Netherlands[['overall', 'potential']].astype(float)\n",
        "\n",
        "print (Netherlands)"
      ],
      "metadata": {
        "colab": {
          "base_uri": "https://localhost:8080/"
        },
        "id": "9fo17m7IuXKH",
        "outputId": "2626da00-5e86-48d5-dfab-c256a39ecbd9"
      },
      "execution_count": 78,
      "outputs": [
        {
          "output_type": "stream",
          "name": "stdout",
          "text": [
            "               squad  overall  potential\n",
            "nationality                             \n",
            "Netherlands    3-5-2    80.00      82.64\n",
            "Netherlands    3-4-3    79.82      82.45\n",
            "Netherlands    4-4-2    80.82      82.91\n",
            "Netherlands  4-3-1-2    80.27      83.00\n",
            "Netherlands    4-3-3    80.55      82.91\n",
            "Netherlands  4-2-3-1    80.55      82.91\n"
          ]
        }
      ]
    },
    {
      "cell_type": "markdown",
      "source": [
        "Netherlands does best with a 4-4-2 for current rating and 4-2-3-1 for future rating"
      ],
      "metadata": {
        "id": "plX_2T6tvCJW"
      }
    },
    {
      "cell_type": "code",
      "source": [
        "rating_442_NEL_Overall, best_list_442_NEL_Overall = get_best_squad_n(squad_442_strict, 'Netherlands', 'overall')\n",
        "print('-Overall-')\n",
        "print('Average rating: {:.1f}'.format(rating_442_NEL_Overall))\n",
        "print(best_list_442_NEL_Overall)"
      ],
      "metadata": {
        "colab": {
          "base_uri": "https://localhost:8080/"
        },
        "id": "mD5zaGXb71SJ",
        "outputId": "7b53f00c-5e48-400b-c8ca-793d6f08a678"
      },
      "execution_count": 79,
      "outputs": [
        {
          "output_type": "stream",
          "name": "stdout",
          "text": [
            "-Overall-\n",
            "Average rating: 80.8\n",
            "   best_position                            name  overall  age  \\\n",
            "0             GK                     Michel Vorm       79   30   \n",
            "1             RB            Gregory van der Wiel       77   26   \n",
            "2             CB                 Ron Peter Vlaar       79   29   \n",
            "3             CB                  Stefan de Vrij       78   22   \n",
            "4             LB  Urby Vitorrio Diego Emanuelson       73   28   \n",
            "5             RM                    Arjen Robben       90   30   \n",
            "6            CDM                   Nigel de Jong       81   29   \n",
            "7            CAM                 Wesley Sneijder       84   30   \n",
            "8             LM                 Ibrahim Afellay       76   28   \n",
            "9             ST                Robin van Persie       88   30   \n",
            "10            ST             Klaas-Jan Huntelaar       84   30   \n",
            "\n",
            "                   club    valueEUR    salary  \n",
            "0     Tottenham Hotspur   7500000.0   80000.0  \n",
            "1   Paris Saint Germain   5500000.0  100000.0  \n",
            "2           Aston Villa   6000000.0   60000.0  \n",
            "3                 Lazio   5500000.0   70000.0  \n",
            "4                  Roma   2200000.0   60000.0  \n",
            "5     FC Bayern München  54500000.0  275000.0  \n",
            "6                 Milan   8500000.0  100000.0  \n",
            "7           Galatasaray  21000000.0  160000.0  \n",
            "8    Olympiakos Piraeus   5000000.0   90000.0  \n",
            "9     Manchester United  40500000.0  230000.0  \n",
            "10           Schalke 04  21000000.0  160000.0  \n"
          ]
        }
      ]
    },
    {
      "cell_type": "code",
      "source": [
        "rating_4231_NEL_Potential, best_list_4231_NEL_Potential = get_best_squad_n(squad_4231_strict, 'Netherlands', 'potential')\n",
        "print('-Potential-')\n",
        "print('Average rating: {:.1f}'.format(rating_4231_NEL_Potential))\n",
        "print(best_list_4231_NEL_Potential)"
      ],
      "metadata": {
        "colab": {
          "base_uri": "https://localhost:8080/"
        },
        "id": "77tO2FnX_K1H",
        "outputId": "56351f1c-781b-453e-d3d0-87e9faff3f5a"
      },
      "execution_count": 80,
      "outputs": [
        {
          "output_type": "stream",
          "name": "stdout",
          "text": [
            "-Potential-\n",
            "Average rating: 82.9\n",
            "   best_position                             name  potential  age  \\\n",
            "0             GK                         Tim Krul         84   26   \n",
            "1             RB             Gregory van der Wiel         80   26   \n",
            "2             CB                   Stefan de Vrij         82   22   \n",
            "3             CB   Bruno Maximiliano Martins Indi         81   22   \n",
            "4             LB  Patrick John Miguel van Aanholt         78   23   \n",
            "5             CM                  Kevin Strootman         85   24   \n",
            "6             CM                 Marco van Ginkel         84   21   \n",
            "7             RM                     Arjen Robben         90   30   \n",
            "8            CAM                  Wesley Sneijder         84   30   \n",
            "9             LM                  Ryan Guno Babel         76   27   \n",
            "10            ST                 Robin van Persie         88   30   \n",
            "\n",
            "                   club    valueEUR    salary  \n",
            "0      Newcastle United   8000000.0   80000.0  \n",
            "1   Paris Saint Germain   5500000.0  100000.0  \n",
            "2                 Lazio   5500000.0   70000.0  \n",
            "3                 Porto   2500000.0   50000.0  \n",
            "4            Sunderland   1300000.0   20000.0  \n",
            "5                  Roma  12000000.0   90000.0  \n",
            "6                 Milan   4500000.0   70000.0  \n",
            "7     FC Bayern München  54500000.0  275000.0  \n",
            "8           Galatasaray  21000000.0  160000.0  \n",
            "9             Kasımpaşa   3700000.0   30000.0  \n",
            "10    Manchester United  40500000.0  230000.0  \n"
          ]
        }
      ]
    },
    {
      "cell_type": "markdown",
      "source": [
        "## Optimal Squad Summary\n"
      ],
      "metadata": {
        "id": "ZZkNhP1kvePn"
      }
    },
    {
      "cell_type": "code",
      "source": [
        "a=['France', 'Germany', 'Brazil', 'Spain', 'England', 'Portugal', 'Italy', 'Argentina', 'Belgium', 'Netherlands']\n",
        "b=['4-4-2', '4-3-3/4-2-3-1', '3-4-3', '4-2-3-1', '4-4-2', '4-3-3', '4-3-3', '4-3-3', '4-4-2', '3-4-3']\n",
        "c=[82.27, 84.6, 82.9, 84.7,  81.5, 81.3, 81.9, 82.7, 80.9, 81.0]\n",
        "d=['4-3-1-2', '4-3-1-2', '3-4-3/4-3-3/4-2-3-1', '4-3-3', '4-3-3', '4-4-2', '4-3-1-2', '4-3-3', '4-3-3/4-2-3-1', '3-5-2']\n",
        "e=[85.4, 85.9, 85.3, 85.2, 86.9, 84.6, 83.2, 84.9, 84.7, 84.5]\n",
        "\n",
        "\n",
        "# initialize data of lists.\n",
        "data = {'Country': a,\n",
        "        'Optimal Current Formation(s)': b,\n",
        "        'Optimal Current Rating':c,\n",
        "        'Optimal Potential Formaion(s)': d,\n",
        "        'Optimal Potential Rating': e}\n",
        "\n",
        "# Create DataFrame\n",
        "df = pd.DataFrame(data)\n",
        "\n",
        "df"
      ],
      "metadata": {
        "colab": {
          "base_uri": "https://localhost:8080/",
          "height": 397
        },
        "id": "3E-dGdlTz4fs",
        "outputId": "05888374-a5a2-4344-d40a-836a9d9487ae"
      },
      "execution_count": 81,
      "outputs": [
        {
          "output_type": "execute_result",
          "data": {
            "text/plain": [
              "       Country Optimal Current Formation(s)  Optimal Current Rating  \\\n",
              "0       France                        4-4-2                   82.27   \n",
              "1      Germany                4-3-3/4-2-3-1                   84.60   \n",
              "2       Brazil                        3-4-3                   82.90   \n",
              "3        Spain                      4-2-3-1                   84.70   \n",
              "4      England                        4-4-2                   81.50   \n",
              "5     Portugal                        4-3-3                   81.30   \n",
              "6        Italy                        4-3-3                   81.90   \n",
              "7    Argentina                        4-3-3                   82.70   \n",
              "8      Belgium                        4-4-2                   80.90   \n",
              "9  Netherlands                        3-4-3                   81.00   \n",
              "\n",
              "  Optimal Potential Formaion(s)  Optimal Potential Rating  \n",
              "0                       4-3-1-2                      85.4  \n",
              "1                       4-3-1-2                      85.9  \n",
              "2           3-4-3/4-3-3/4-2-3-1                      85.3  \n",
              "3                         4-3-3                      85.2  \n",
              "4                         4-3-3                      86.9  \n",
              "5                         4-4-2                      84.6  \n",
              "6                       4-3-1-2                      83.2  \n",
              "7                         4-3-3                      84.9  \n",
              "8                 4-3-3/4-2-3-1                      84.7  \n",
              "9                         3-5-2                      84.5  "
            ],
            "text/html": [
              "\n",
              "  <div id=\"df-b98e8875-dd0f-4971-8a12-402c392202cf\" class=\"colab-df-container\">\n",
              "    <div>\n",
              "<style scoped>\n",
              "    .dataframe tbody tr th:only-of-type {\n",
              "        vertical-align: middle;\n",
              "    }\n",
              "\n",
              "    .dataframe tbody tr th {\n",
              "        vertical-align: top;\n",
              "    }\n",
              "\n",
              "    .dataframe thead th {\n",
              "        text-align: right;\n",
              "    }\n",
              "</style>\n",
              "<table border=\"1\" class=\"dataframe\">\n",
              "  <thead>\n",
              "    <tr style=\"text-align: right;\">\n",
              "      <th></th>\n",
              "      <th>Country</th>\n",
              "      <th>Optimal Current Formation(s)</th>\n",
              "      <th>Optimal Current Rating</th>\n",
              "      <th>Optimal Potential Formaion(s)</th>\n",
              "      <th>Optimal Potential Rating</th>\n",
              "    </tr>\n",
              "  </thead>\n",
              "  <tbody>\n",
              "    <tr>\n",
              "      <th>0</th>\n",
              "      <td>France</td>\n",
              "      <td>4-4-2</td>\n",
              "      <td>82.27</td>\n",
              "      <td>4-3-1-2</td>\n",
              "      <td>85.4</td>\n",
              "    </tr>\n",
              "    <tr>\n",
              "      <th>1</th>\n",
              "      <td>Germany</td>\n",
              "      <td>4-3-3/4-2-3-1</td>\n",
              "      <td>84.60</td>\n",
              "      <td>4-3-1-2</td>\n",
              "      <td>85.9</td>\n",
              "    </tr>\n",
              "    <tr>\n",
              "      <th>2</th>\n",
              "      <td>Brazil</td>\n",
              "      <td>3-4-3</td>\n",
              "      <td>82.90</td>\n",
              "      <td>3-4-3/4-3-3/4-2-3-1</td>\n",
              "      <td>85.3</td>\n",
              "    </tr>\n",
              "    <tr>\n",
              "      <th>3</th>\n",
              "      <td>Spain</td>\n",
              "      <td>4-2-3-1</td>\n",
              "      <td>84.70</td>\n",
              "      <td>4-3-3</td>\n",
              "      <td>85.2</td>\n",
              "    </tr>\n",
              "    <tr>\n",
              "      <th>4</th>\n",
              "      <td>England</td>\n",
              "      <td>4-4-2</td>\n",
              "      <td>81.50</td>\n",
              "      <td>4-3-3</td>\n",
              "      <td>86.9</td>\n",
              "    </tr>\n",
              "    <tr>\n",
              "      <th>5</th>\n",
              "      <td>Portugal</td>\n",
              "      <td>4-3-3</td>\n",
              "      <td>81.30</td>\n",
              "      <td>4-4-2</td>\n",
              "      <td>84.6</td>\n",
              "    </tr>\n",
              "    <tr>\n",
              "      <th>6</th>\n",
              "      <td>Italy</td>\n",
              "      <td>4-3-3</td>\n",
              "      <td>81.90</td>\n",
              "      <td>4-3-1-2</td>\n",
              "      <td>83.2</td>\n",
              "    </tr>\n",
              "    <tr>\n",
              "      <th>7</th>\n",
              "      <td>Argentina</td>\n",
              "      <td>4-3-3</td>\n",
              "      <td>82.70</td>\n",
              "      <td>4-3-3</td>\n",
              "      <td>84.9</td>\n",
              "    </tr>\n",
              "    <tr>\n",
              "      <th>8</th>\n",
              "      <td>Belgium</td>\n",
              "      <td>4-4-2</td>\n",
              "      <td>80.90</td>\n",
              "      <td>4-3-3/4-2-3-1</td>\n",
              "      <td>84.7</td>\n",
              "    </tr>\n",
              "    <tr>\n",
              "      <th>9</th>\n",
              "      <td>Netherlands</td>\n",
              "      <td>3-4-3</td>\n",
              "      <td>81.00</td>\n",
              "      <td>3-5-2</td>\n",
              "      <td>84.5</td>\n",
              "    </tr>\n",
              "  </tbody>\n",
              "</table>\n",
              "</div>\n",
              "    <div class=\"colab-df-buttons\">\n",
              "\n",
              "  <div class=\"colab-df-container\">\n",
              "    <button class=\"colab-df-convert\" onclick=\"convertToInteractive('df-b98e8875-dd0f-4971-8a12-402c392202cf')\"\n",
              "            title=\"Convert this dataframe to an interactive table.\"\n",
              "            style=\"display:none;\">\n",
              "\n",
              "  <svg xmlns=\"http://www.w3.org/2000/svg\" height=\"24px\" viewBox=\"0 -960 960 960\">\n",
              "    <path d=\"M120-120v-720h720v720H120Zm60-500h600v-160H180v160Zm220 220h160v-160H400v160Zm0 220h160v-160H400v160ZM180-400h160v-160H180v160Zm440 0h160v-160H620v160ZM180-180h160v-160H180v160Zm440 0h160v-160H620v160Z\"/>\n",
              "  </svg>\n",
              "    </button>\n",
              "\n",
              "  <style>\n",
              "    .colab-df-container {\n",
              "      display:flex;\n",
              "      gap: 12px;\n",
              "    }\n",
              "\n",
              "    .colab-df-convert {\n",
              "      background-color: #E8F0FE;\n",
              "      border: none;\n",
              "      border-radius: 50%;\n",
              "      cursor: pointer;\n",
              "      display: none;\n",
              "      fill: #1967D2;\n",
              "      height: 32px;\n",
              "      padding: 0 0 0 0;\n",
              "      width: 32px;\n",
              "    }\n",
              "\n",
              "    .colab-df-convert:hover {\n",
              "      background-color: #E2EBFA;\n",
              "      box-shadow: 0px 1px 2px rgba(60, 64, 67, 0.3), 0px 1px 3px 1px rgba(60, 64, 67, 0.15);\n",
              "      fill: #174EA6;\n",
              "    }\n",
              "\n",
              "    .colab-df-buttons div {\n",
              "      margin-bottom: 4px;\n",
              "    }\n",
              "\n",
              "    [theme=dark] .colab-df-convert {\n",
              "      background-color: #3B4455;\n",
              "      fill: #D2E3FC;\n",
              "    }\n",
              "\n",
              "    [theme=dark] .colab-df-convert:hover {\n",
              "      background-color: #434B5C;\n",
              "      box-shadow: 0px 1px 3px 1px rgba(0, 0, 0, 0.15);\n",
              "      filter: drop-shadow(0px 1px 2px rgba(0, 0, 0, 0.3));\n",
              "      fill: #FFFFFF;\n",
              "    }\n",
              "  </style>\n",
              "\n",
              "    <script>\n",
              "      const buttonEl =\n",
              "        document.querySelector('#df-b98e8875-dd0f-4971-8a12-402c392202cf button.colab-df-convert');\n",
              "      buttonEl.style.display =\n",
              "        google.colab.kernel.accessAllowed ? 'block' : 'none';\n",
              "\n",
              "      async function convertToInteractive(key) {\n",
              "        const element = document.querySelector('#df-b98e8875-dd0f-4971-8a12-402c392202cf');\n",
              "        const dataTable =\n",
              "          await google.colab.kernel.invokeFunction('convertToInteractive',\n",
              "                                                    [key], {});\n",
              "        if (!dataTable) return;\n",
              "\n",
              "        const docLinkHtml = 'Like what you see? Visit the ' +\n",
              "          '<a target=\"_blank\" href=https://colab.research.google.com/notebooks/data_table.ipynb>data table notebook</a>'\n",
              "          + ' to learn more about interactive tables.';\n",
              "        element.innerHTML = '';\n",
              "        dataTable['output_type'] = 'display_data';\n",
              "        await google.colab.output.renderOutput(dataTable, element);\n",
              "        const docLink = document.createElement('div');\n",
              "        docLink.innerHTML = docLinkHtml;\n",
              "        element.appendChild(docLink);\n",
              "      }\n",
              "    </script>\n",
              "  </div>\n",
              "\n",
              "\n",
              "<div id=\"df-86faf5ab-6742-4de7-b78f-edab18f73879\">\n",
              "  <button class=\"colab-df-quickchart\" onclick=\"quickchart('df-86faf5ab-6742-4de7-b78f-edab18f73879')\"\n",
              "            title=\"Suggest charts.\"\n",
              "            style=\"display:none;\">\n",
              "\n",
              "<svg xmlns=\"http://www.w3.org/2000/svg\" height=\"24px\"viewBox=\"0 0 24 24\"\n",
              "     width=\"24px\">\n",
              "    <g>\n",
              "        <path d=\"M19 3H5c-1.1 0-2 .9-2 2v14c0 1.1.9 2 2 2h14c1.1 0 2-.9 2-2V5c0-1.1-.9-2-2-2zM9 17H7v-7h2v7zm4 0h-2V7h2v10zm4 0h-2v-4h2v4z\"/>\n",
              "    </g>\n",
              "</svg>\n",
              "  </button>\n",
              "\n",
              "<style>\n",
              "  .colab-df-quickchart {\n",
              "      --bg-color: #E8F0FE;\n",
              "      --fill-color: #1967D2;\n",
              "      --hover-bg-color: #E2EBFA;\n",
              "      --hover-fill-color: #174EA6;\n",
              "      --disabled-fill-color: #AAA;\n",
              "      --disabled-bg-color: #DDD;\n",
              "  }\n",
              "\n",
              "  [theme=dark] .colab-df-quickchart {\n",
              "      --bg-color: #3B4455;\n",
              "      --fill-color: #D2E3FC;\n",
              "      --hover-bg-color: #434B5C;\n",
              "      --hover-fill-color: #FFFFFF;\n",
              "      --disabled-bg-color: #3B4455;\n",
              "      --disabled-fill-color: #666;\n",
              "  }\n",
              "\n",
              "  .colab-df-quickchart {\n",
              "    background-color: var(--bg-color);\n",
              "    border: none;\n",
              "    border-radius: 50%;\n",
              "    cursor: pointer;\n",
              "    display: none;\n",
              "    fill: var(--fill-color);\n",
              "    height: 32px;\n",
              "    padding: 0;\n",
              "    width: 32px;\n",
              "  }\n",
              "\n",
              "  .colab-df-quickchart:hover {\n",
              "    background-color: var(--hover-bg-color);\n",
              "    box-shadow: 0 1px 2px rgba(60, 64, 67, 0.3), 0 1px 3px 1px rgba(60, 64, 67, 0.15);\n",
              "    fill: var(--button-hover-fill-color);\n",
              "  }\n",
              "\n",
              "  .colab-df-quickchart-complete:disabled,\n",
              "  .colab-df-quickchart-complete:disabled:hover {\n",
              "    background-color: var(--disabled-bg-color);\n",
              "    fill: var(--disabled-fill-color);\n",
              "    box-shadow: none;\n",
              "  }\n",
              "\n",
              "  .colab-df-spinner {\n",
              "    border: 2px solid var(--fill-color);\n",
              "    border-color: transparent;\n",
              "    border-bottom-color: var(--fill-color);\n",
              "    animation:\n",
              "      spin 1s steps(1) infinite;\n",
              "  }\n",
              "\n",
              "  @keyframes spin {\n",
              "    0% {\n",
              "      border-color: transparent;\n",
              "      border-bottom-color: var(--fill-color);\n",
              "      border-left-color: var(--fill-color);\n",
              "    }\n",
              "    20% {\n",
              "      border-color: transparent;\n",
              "      border-left-color: var(--fill-color);\n",
              "      border-top-color: var(--fill-color);\n",
              "    }\n",
              "    30% {\n",
              "      border-color: transparent;\n",
              "      border-left-color: var(--fill-color);\n",
              "      border-top-color: var(--fill-color);\n",
              "      border-right-color: var(--fill-color);\n",
              "    }\n",
              "    40% {\n",
              "      border-color: transparent;\n",
              "      border-right-color: var(--fill-color);\n",
              "      border-top-color: var(--fill-color);\n",
              "    }\n",
              "    60% {\n",
              "      border-color: transparent;\n",
              "      border-right-color: var(--fill-color);\n",
              "    }\n",
              "    80% {\n",
              "      border-color: transparent;\n",
              "      border-right-color: var(--fill-color);\n",
              "      border-bottom-color: var(--fill-color);\n",
              "    }\n",
              "    90% {\n",
              "      border-color: transparent;\n",
              "      border-bottom-color: var(--fill-color);\n",
              "    }\n",
              "  }\n",
              "</style>\n",
              "\n",
              "  <script>\n",
              "    async function quickchart(key) {\n",
              "      const quickchartButtonEl =\n",
              "        document.querySelector('#' + key + ' button');\n",
              "      quickchartButtonEl.disabled = true;  // To prevent multiple clicks.\n",
              "      quickchartButtonEl.classList.add('colab-df-spinner');\n",
              "      try {\n",
              "        const charts = await google.colab.kernel.invokeFunction(\n",
              "            'suggestCharts', [key], {});\n",
              "      } catch (error) {\n",
              "        console.error('Error during call to suggestCharts:', error);\n",
              "      }\n",
              "      quickchartButtonEl.classList.remove('colab-df-spinner');\n",
              "      quickchartButtonEl.classList.add('colab-df-quickchart-complete');\n",
              "    }\n",
              "    (() => {\n",
              "      let quickchartButtonEl =\n",
              "        document.querySelector('#df-86faf5ab-6742-4de7-b78f-edab18f73879 button');\n",
              "      quickchartButtonEl.style.display =\n",
              "        google.colab.kernel.accessAllowed ? 'block' : 'none';\n",
              "    })();\n",
              "  </script>\n",
              "</div>\n",
              "    </div>\n",
              "  </div>\n"
            ]
          },
          "metadata": {},
          "execution_count": 81
        }
      ]
    },
    {
      "cell_type": "markdown",
      "source": [
        "\n",
        "\n",
        "*   For countries; England highest potential rating and overall rating, while Germany has multiple optimal formation for the current squad.\n",
        "\n"
      ],
      "metadata": {
        "id": "NcqTcc57B3Nd"
      }
    },
    {
      "cell_type": "code",
      "source": [],
      "metadata": {
        "id": "FM9IpkWyBk9W"
      },
      "execution_count": 81,
      "outputs": []
    }
  ]
}